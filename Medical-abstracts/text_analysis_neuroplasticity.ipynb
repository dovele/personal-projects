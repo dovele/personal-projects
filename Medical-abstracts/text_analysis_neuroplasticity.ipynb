{
  "cells": [
    {
      "cell_type": "markdown",
      "source": [
        "#Biomedical abstracts | Text analysis\n",
        "\n",
        "After extracting article abstracts of interest, we can use them for further analysis.\n",
        "\n",
        "The goal is to **automate literature analysis** when doing research work. My topic of choice for this analysis is \"neuroplasticity\". It's quite a broad topic, so i'm interested what other topics might be related to neuroplasticity research.\n",
        "\n",
        "This analysis may be useful if i'm interested in most common topics. It could give a more definitive answer to questions about what type of research is currently in vogue in my area of interest."
      ],
      "metadata": {
        "id": "W7Q8PZJnYfFD"
      }
    },
    {
      "cell_type": "code",
      "execution_count": 1,
      "metadata": {
        "id": "LCdNqTXMVwc7"
      },
      "outputs": [],
      "source": [
        "!pip install texthero -q\n",
        "!pip install textfeatures -q\n",
        "!pip install kneed -q\n",
        "!pip install -U scikit-learn -q"
      ]
    },
    {
      "cell_type": "code",
      "execution_count": 2,
      "metadata": {
        "id": "FWils4wt7DuV",
        "colab": {
          "base_uri": "https://localhost:8080/"
        },
        "outputId": "2800a4df-e834-41f8-cc61-ed7f176e9930"
      },
      "outputs": [
        {
          "output_type": "stream",
          "name": "stderr",
          "text": [
            "[nltk_data] Downloading package stopwords to /root/nltk_data...\n",
            "[nltk_data]   Unzipping corpora/stopwords.zip.\n"
          ]
        },
        {
          "output_type": "stream",
          "name": "stdout",
          "text": [
            "\n",
            "System:\n",
            "    python: 3.7.13 (default, Mar 16 2022, 17:37:17)  [GCC 7.5.0]\n",
            "executable: /usr/bin/python3\n",
            "   machine: Linux-5.4.144+-x86_64-with-Ubuntu-18.04-bionic\n",
            "\n",
            "Python dependencies:\n",
            "          pip: 21.1.3\n",
            "   setuptools: 57.4.0\n",
            "      sklearn: 1.0.2\n",
            "        numpy: 1.21.6\n",
            "        scipy: 1.4.1\n",
            "       Cython: 0.29.28\n",
            "       pandas: 1.3.5\n",
            "   matplotlib: 3.2.2\n",
            "       joblib: 1.1.0\n",
            "threadpoolctl: 3.1.0\n",
            "\n",
            "Built with OpenMP: True\n"
          ]
        },
        {
          "output_type": "stream",
          "name": "stderr",
          "text": [
            "[nltk_data] Downloading package stopwords to /root/nltk_data...\n",
            "[nltk_data]   Package stopwords is already up-to-date!\n"
          ]
        }
      ],
      "source": [
        "import pandas as pd\n",
        "import matplotlib.pyplot as plt \n",
        "import seaborn as sns\n",
        "\n",
        "import texthero as hero\n",
        "from texthero import preprocessing\n",
        "import textfeatures as tf\n",
        "\n",
        "from sklearn.decomposition import PCA\n",
        "from sklearn.preprocessing import StandardScaler\n",
        "\n",
        "from kneed import KneeLocator\n",
        "from sklearn.feature_extraction.text import TfidfVectorizer\n",
        "from sklearn.cluster import KMeans\n",
        "import sklearn\n",
        "sklearn.show_versions()"
      ]
    },
    {
      "cell_type": "code",
      "execution_count": 3,
      "metadata": {
        "id": "LEFmYdypVwc-"
      },
      "outputs": [],
      "source": [
        "#create a custom cleaning pipeline\n",
        "custom_pipeline = [preprocessing.fillna,\n",
        "                    preprocessing.lowercase,\n",
        "                    preprocessing.remove_digits,\n",
        "                    preprocessing.remove_punctuation,\n",
        "                    preprocessing.remove_diacritics,\n",
        "                    preprocessing.remove_stopwords,\n",
        "                    preprocessing.remove_whitespace]"
      ]
    },
    {
      "cell_type": "code",
      "execution_count": 4,
      "metadata": {
        "id": "lb5hqHj06tEc"
      },
      "outputs": [],
      "source": [
        "df = pd.read_csv('abstracts.csv')"
      ]
    },
    {
      "cell_type": "code",
      "execution_count": 5,
      "metadata": {
        "colab": {
          "base_uri": "https://localhost:8080/"
        },
        "id": "BtIcbgD_6vjk",
        "outputId": "98c28144-056e-410a-914b-3925802512c8"
      },
      "outputs": [
        {
          "output_type": "stream",
          "name": "stdout",
          "text": [
            "<class 'pandas.core.frame.DataFrame'>\n",
            "RangeIndex: 3000 entries, 0 to 2999\n",
            "Data columns (total 3 columns):\n",
            " #   Column      Non-Null Count  Dtype \n",
            "---  ------      --------------  ----- \n",
            " 0   Unnamed: 0  3000 non-null   int64 \n",
            " 1   Title       3000 non-null   object\n",
            " 2   Abstract    3000 non-null   object\n",
            "dtypes: int64(1), object(2)\n",
            "memory usage: 70.4+ KB\n"
          ]
        }
      ],
      "source": [
        "df.info()"
      ]
    },
    {
      "cell_type": "code",
      "execution_count": 6,
      "metadata": {
        "colab": {
          "base_uri": "https://localhost:8080/",
          "height": 455
        },
        "id": "iJOV6L7iOkgj",
        "outputId": "730c9f2b-a95b-47c9-98c2-bb415ce16fa4"
      },
      "outputs": [
        {
          "output_type": "execute_result",
          "data": {
            "text/plain": [
              "                                                  Title  \\\n",
              "Id                                                        \n",
              "0     Interrogating the function of GABA<sub>A</sub>...   \n",
              "1     Floralozone improves cognitive impairment in v...   \n",
              "2     The effects of Vilazodone, YL-0919 and Vortiox...   \n",
              "3     Deciphering therapeutic options for neurodegen...   \n",
              "4     Therapeutic effect of extracellular vesicles f...   \n",
              "...                                                 ...   \n",
              "2995  Challenges and opportunities in translational ...   \n",
              "2996  Growth and Differentiation of Circulating Stem...   \n",
              "2997  Remote Ischemic Postconditioning vs. Physical ...   \n",
              "2998  Working Memory for Signs with Poor Visual Reso...   \n",
              "2999  6-Gingerol, an active constituent of ginger, a...   \n",
              "\n",
              "                                               Abstract  \n",
              "Id                                                       \n",
              "0     To better understand neural circuits and behav...  \n",
              "1     Vascular dementia (VD) is the second largest t...  \n",
              "2     Parkinson's disease is a neurodegenerative dis...  \n",
              "3     Silent information regulator 1 (SIRT1) is a ni...  \n",
              "4     Extracellular vesicles (EVs) are biologically ...  \n",
              "...                                                 ...  \n",
              "2995  For decades, basic research on the underlying ...  \n",
              "2996  Stem cell therapy is gaining momentum as an ef...  \n",
              "2997  There remain debates on neuroprotection and re...  \n",
              "2998  Stimulus degradation adds to working memory lo...  \n",
              "2999  This study examined the protective effect of 6...  \n",
              "\n",
              "[3000 rows x 2 columns]"
            ],
            "text/html": [
              "\n",
              "  <div id=\"df-e78b6f78-7e86-4fc3-8398-291a847cc660\">\n",
              "    <div class=\"colab-df-container\">\n",
              "      <div>\n",
              "<style scoped>\n",
              "    .dataframe tbody tr th:only-of-type {\n",
              "        vertical-align: middle;\n",
              "    }\n",
              "\n",
              "    .dataframe tbody tr th {\n",
              "        vertical-align: top;\n",
              "    }\n",
              "\n",
              "    .dataframe thead th {\n",
              "        text-align: right;\n",
              "    }\n",
              "</style>\n",
              "<table border=\"1\" class=\"dataframe\">\n",
              "  <thead>\n",
              "    <tr style=\"text-align: right;\">\n",
              "      <th></th>\n",
              "      <th>Title</th>\n",
              "      <th>Abstract</th>\n",
              "    </tr>\n",
              "    <tr>\n",
              "      <th>Id</th>\n",
              "      <th></th>\n",
              "      <th></th>\n",
              "    </tr>\n",
              "  </thead>\n",
              "  <tbody>\n",
              "    <tr>\n",
              "      <th>0</th>\n",
              "      <td>Interrogating the function of GABA&lt;sub&gt;A&lt;/sub&gt;...</td>\n",
              "      <td>To better understand neural circuits and behav...</td>\n",
              "    </tr>\n",
              "    <tr>\n",
              "      <th>1</th>\n",
              "      <td>Floralozone improves cognitive impairment in v...</td>\n",
              "      <td>Vascular dementia (VD) is the second largest t...</td>\n",
              "    </tr>\n",
              "    <tr>\n",
              "      <th>2</th>\n",
              "      <td>The effects of Vilazodone, YL-0919 and Vortiox...</td>\n",
              "      <td>Parkinson's disease is a neurodegenerative dis...</td>\n",
              "    </tr>\n",
              "    <tr>\n",
              "      <th>3</th>\n",
              "      <td>Deciphering therapeutic options for neurodegen...</td>\n",
              "      <td>Silent information regulator 1 (SIRT1) is a ni...</td>\n",
              "    </tr>\n",
              "    <tr>\n",
              "      <th>4</th>\n",
              "      <td>Therapeutic effect of extracellular vesicles f...</td>\n",
              "      <td>Extracellular vesicles (EVs) are biologically ...</td>\n",
              "    </tr>\n",
              "    <tr>\n",
              "      <th>...</th>\n",
              "      <td>...</td>\n",
              "      <td>...</td>\n",
              "    </tr>\n",
              "    <tr>\n",
              "      <th>2995</th>\n",
              "      <td>Challenges and opportunities in translational ...</td>\n",
              "      <td>For decades, basic research on the underlying ...</td>\n",
              "    </tr>\n",
              "    <tr>\n",
              "      <th>2996</th>\n",
              "      <td>Growth and Differentiation of Circulating Stem...</td>\n",
              "      <td>Stem cell therapy is gaining momentum as an ef...</td>\n",
              "    </tr>\n",
              "    <tr>\n",
              "      <th>2997</th>\n",
              "      <td>Remote Ischemic Postconditioning vs. Physical ...</td>\n",
              "      <td>There remain debates on neuroprotection and re...</td>\n",
              "    </tr>\n",
              "    <tr>\n",
              "      <th>2998</th>\n",
              "      <td>Working Memory for Signs with Poor Visual Reso...</td>\n",
              "      <td>Stimulus degradation adds to working memory lo...</td>\n",
              "    </tr>\n",
              "    <tr>\n",
              "      <th>2999</th>\n",
              "      <td>6-Gingerol, an active constituent of ginger, a...</td>\n",
              "      <td>This study examined the protective effect of 6...</td>\n",
              "    </tr>\n",
              "  </tbody>\n",
              "</table>\n",
              "<p>3000 rows × 2 columns</p>\n",
              "</div>\n",
              "      <button class=\"colab-df-convert\" onclick=\"convertToInteractive('df-e78b6f78-7e86-4fc3-8398-291a847cc660')\"\n",
              "              title=\"Convert this dataframe to an interactive table.\"\n",
              "              style=\"display:none;\">\n",
              "        \n",
              "  <svg xmlns=\"http://www.w3.org/2000/svg\" height=\"24px\"viewBox=\"0 0 24 24\"\n",
              "       width=\"24px\">\n",
              "    <path d=\"M0 0h24v24H0V0z\" fill=\"none\"/>\n",
              "    <path d=\"M18.56 5.44l.94 2.06.94-2.06 2.06-.94-2.06-.94-.94-2.06-.94 2.06-2.06.94zm-11 1L8.5 8.5l.94-2.06 2.06-.94-2.06-.94L8.5 2.5l-.94 2.06-2.06.94zm10 10l.94 2.06.94-2.06 2.06-.94-2.06-.94-.94-2.06-.94 2.06-2.06.94z\"/><path d=\"M17.41 7.96l-1.37-1.37c-.4-.4-.92-.59-1.43-.59-.52 0-1.04.2-1.43.59L10.3 9.45l-7.72 7.72c-.78.78-.78 2.05 0 2.83L4 21.41c.39.39.9.59 1.41.59.51 0 1.02-.2 1.41-.59l7.78-7.78 2.81-2.81c.8-.78.8-2.07 0-2.86zM5.41 20L4 18.59l7.72-7.72 1.47 1.35L5.41 20z\"/>\n",
              "  </svg>\n",
              "      </button>\n",
              "      \n",
              "  <style>\n",
              "    .colab-df-container {\n",
              "      display:flex;\n",
              "      flex-wrap:wrap;\n",
              "      gap: 12px;\n",
              "    }\n",
              "\n",
              "    .colab-df-convert {\n",
              "      background-color: #E8F0FE;\n",
              "      border: none;\n",
              "      border-radius: 50%;\n",
              "      cursor: pointer;\n",
              "      display: none;\n",
              "      fill: #1967D2;\n",
              "      height: 32px;\n",
              "      padding: 0 0 0 0;\n",
              "      width: 32px;\n",
              "    }\n",
              "\n",
              "    .colab-df-convert:hover {\n",
              "      background-color: #E2EBFA;\n",
              "      box-shadow: 0px 1px 2px rgba(60, 64, 67, 0.3), 0px 1px 3px 1px rgba(60, 64, 67, 0.15);\n",
              "      fill: #174EA6;\n",
              "    }\n",
              "\n",
              "    [theme=dark] .colab-df-convert {\n",
              "      background-color: #3B4455;\n",
              "      fill: #D2E3FC;\n",
              "    }\n",
              "\n",
              "    [theme=dark] .colab-df-convert:hover {\n",
              "      background-color: #434B5C;\n",
              "      box-shadow: 0px 1px 3px 1px rgba(0, 0, 0, 0.15);\n",
              "      filter: drop-shadow(0px 1px 2px rgba(0, 0, 0, 0.3));\n",
              "      fill: #FFFFFF;\n",
              "    }\n",
              "  </style>\n",
              "\n",
              "      <script>\n",
              "        const buttonEl =\n",
              "          document.querySelector('#df-e78b6f78-7e86-4fc3-8398-291a847cc660 button.colab-df-convert');\n",
              "        buttonEl.style.display =\n",
              "          google.colab.kernel.accessAllowed ? 'block' : 'none';\n",
              "\n",
              "        async function convertToInteractive(key) {\n",
              "          const element = document.querySelector('#df-e78b6f78-7e86-4fc3-8398-291a847cc660');\n",
              "          const dataTable =\n",
              "            await google.colab.kernel.invokeFunction('convertToInteractive',\n",
              "                                                     [key], {});\n",
              "          if (!dataTable) return;\n",
              "\n",
              "          const docLinkHtml = 'Like what you see? Visit the ' +\n",
              "            '<a target=\"_blank\" href=https://colab.research.google.com/notebooks/data_table.ipynb>data table notebook</a>'\n",
              "            + ' to learn more about interactive tables.';\n",
              "          element.innerHTML = '';\n",
              "          dataTable['output_type'] = 'display_data';\n",
              "          await google.colab.output.renderOutput(dataTable, element);\n",
              "          const docLink = document.createElement('div');\n",
              "          docLink.innerHTML = docLinkHtml;\n",
              "          element.appendChild(docLink);\n",
              "        }\n",
              "      </script>\n",
              "    </div>\n",
              "  </div>\n",
              "  "
            ]
          },
          "metadata": {},
          "execution_count": 6
        }
      ],
      "source": [
        "df = df.rename(columns={'Unnamed: 0': 'Id'})\n",
        "df.set_index('Id')"
      ]
    },
    {
      "cell_type": "markdown",
      "metadata": {
        "id": "ssYORnQ2VwdB"
      },
      "source": [
        "# Cleaning abstracts"
      ]
    },
    {
      "cell_type": "code",
      "execution_count": 7,
      "metadata": {
        "colab": {
          "base_uri": "https://localhost:8080/",
          "height": 424
        },
        "id": "mh6irRPGVwdC",
        "outputId": "38b9a98b-940d-49ce-922c-18aa376218c9"
      },
      "outputs": [
        {
          "output_type": "execute_result",
          "data": {
            "text/plain": [
              "        Id                                              Title  \\\n",
              "0        0  Interrogating the function of GABA<sub>A</sub>...   \n",
              "1        1  Floralozone improves cognitive impairment in v...   \n",
              "2        2  The effects of Vilazodone, YL-0919 and Vortiox...   \n",
              "3        3  Deciphering therapeutic options for neurodegen...   \n",
              "4        4  Therapeutic effect of extracellular vesicles f...   \n",
              "...    ...                                                ...   \n",
              "2995  2995  Challenges and opportunities in translational ...   \n",
              "2996  2996  Growth and Differentiation of Circulating Stem...   \n",
              "2997  2997  Remote Ischemic Postconditioning vs. Physical ...   \n",
              "2998  2998  Working Memory for Signs with Poor Visual Reso...   \n",
              "2999  2999  6-Gingerol, an active constituent of ginger, a...   \n",
              "\n",
              "                                               Abstract  \\\n",
              "0     To better understand neural circuits and behav...   \n",
              "1     Vascular dementia (VD) is the second largest t...   \n",
              "2     Parkinson's disease is a neurodegenerative dis...   \n",
              "3     Silent information regulator 1 (SIRT1) is a ni...   \n",
              "4     Extracellular vesicles (EVs) are biologically ...   \n",
              "...                                                 ...   \n",
              "2995  For decades, basic research on the underlying ...   \n",
              "2996  Stem cell therapy is gaining momentum as an ef...   \n",
              "2997  There remain debates on neuroprotection and re...   \n",
              "2998  Stimulus degradation adds to working memory lo...   \n",
              "2999  This study examined the protective effect of 6...   \n",
              "\n",
              "                                        clean_abstracts  \n",
              "0     better understand neural circuits behavior mic...  \n",
              "1     vascular dementia vd second largest type demen...  \n",
              "2     parkinson disease neurodegenerative disease of...  \n",
              "3     silent information regulator sirt1 nicotinamid...  \n",
              "4     extracellular vesicles evs biologically active...  \n",
              "...                                                 ...  \n",
              "2995  decades basic research underlying mechanisms n...  \n",
              "2996  stem cell therapy gaining momentum effective t...  \n",
              "2997  remain debates neuroprotection rehabilitation ...  \n",
              "2998  stimulus degradation adds working memory load ...  \n",
              "2999  study examined protective effect gingerol 6g l...  \n",
              "\n",
              "[3000 rows x 4 columns]"
            ],
            "text/html": [
              "\n",
              "  <div id=\"df-63581a65-9270-4c8d-abff-6886a15419e7\">\n",
              "    <div class=\"colab-df-container\">\n",
              "      <div>\n",
              "<style scoped>\n",
              "    .dataframe tbody tr th:only-of-type {\n",
              "        vertical-align: middle;\n",
              "    }\n",
              "\n",
              "    .dataframe tbody tr th {\n",
              "        vertical-align: top;\n",
              "    }\n",
              "\n",
              "    .dataframe thead th {\n",
              "        text-align: right;\n",
              "    }\n",
              "</style>\n",
              "<table border=\"1\" class=\"dataframe\">\n",
              "  <thead>\n",
              "    <tr style=\"text-align: right;\">\n",
              "      <th></th>\n",
              "      <th>Id</th>\n",
              "      <th>Title</th>\n",
              "      <th>Abstract</th>\n",
              "      <th>clean_abstracts</th>\n",
              "    </tr>\n",
              "  </thead>\n",
              "  <tbody>\n",
              "    <tr>\n",
              "      <th>0</th>\n",
              "      <td>0</td>\n",
              "      <td>Interrogating the function of GABA&lt;sub&gt;A&lt;/sub&gt;...</td>\n",
              "      <td>To better understand neural circuits and behav...</td>\n",
              "      <td>better understand neural circuits behavior mic...</td>\n",
              "    </tr>\n",
              "    <tr>\n",
              "      <th>1</th>\n",
              "      <td>1</td>\n",
              "      <td>Floralozone improves cognitive impairment in v...</td>\n",
              "      <td>Vascular dementia (VD) is the second largest t...</td>\n",
              "      <td>vascular dementia vd second largest type demen...</td>\n",
              "    </tr>\n",
              "    <tr>\n",
              "      <th>2</th>\n",
              "      <td>2</td>\n",
              "      <td>The effects of Vilazodone, YL-0919 and Vortiox...</td>\n",
              "      <td>Parkinson's disease is a neurodegenerative dis...</td>\n",
              "      <td>parkinson disease neurodegenerative disease of...</td>\n",
              "    </tr>\n",
              "    <tr>\n",
              "      <th>3</th>\n",
              "      <td>3</td>\n",
              "      <td>Deciphering therapeutic options for neurodegen...</td>\n",
              "      <td>Silent information regulator 1 (SIRT1) is a ni...</td>\n",
              "      <td>silent information regulator sirt1 nicotinamid...</td>\n",
              "    </tr>\n",
              "    <tr>\n",
              "      <th>4</th>\n",
              "      <td>4</td>\n",
              "      <td>Therapeutic effect of extracellular vesicles f...</td>\n",
              "      <td>Extracellular vesicles (EVs) are biologically ...</td>\n",
              "      <td>extracellular vesicles evs biologically active...</td>\n",
              "    </tr>\n",
              "    <tr>\n",
              "      <th>...</th>\n",
              "      <td>...</td>\n",
              "      <td>...</td>\n",
              "      <td>...</td>\n",
              "      <td>...</td>\n",
              "    </tr>\n",
              "    <tr>\n",
              "      <th>2995</th>\n",
              "      <td>2995</td>\n",
              "      <td>Challenges and opportunities in translational ...</td>\n",
              "      <td>For decades, basic research on the underlying ...</td>\n",
              "      <td>decades basic research underlying mechanisms n...</td>\n",
              "    </tr>\n",
              "    <tr>\n",
              "      <th>2996</th>\n",
              "      <td>2996</td>\n",
              "      <td>Growth and Differentiation of Circulating Stem...</td>\n",
              "      <td>Stem cell therapy is gaining momentum as an ef...</td>\n",
              "      <td>stem cell therapy gaining momentum effective t...</td>\n",
              "    </tr>\n",
              "    <tr>\n",
              "      <th>2997</th>\n",
              "      <td>2997</td>\n",
              "      <td>Remote Ischemic Postconditioning vs. Physical ...</td>\n",
              "      <td>There remain debates on neuroprotection and re...</td>\n",
              "      <td>remain debates neuroprotection rehabilitation ...</td>\n",
              "    </tr>\n",
              "    <tr>\n",
              "      <th>2998</th>\n",
              "      <td>2998</td>\n",
              "      <td>Working Memory for Signs with Poor Visual Reso...</td>\n",
              "      <td>Stimulus degradation adds to working memory lo...</td>\n",
              "      <td>stimulus degradation adds working memory load ...</td>\n",
              "    </tr>\n",
              "    <tr>\n",
              "      <th>2999</th>\n",
              "      <td>2999</td>\n",
              "      <td>6-Gingerol, an active constituent of ginger, a...</td>\n",
              "      <td>This study examined the protective effect of 6...</td>\n",
              "      <td>study examined protective effect gingerol 6g l...</td>\n",
              "    </tr>\n",
              "  </tbody>\n",
              "</table>\n",
              "<p>3000 rows × 4 columns</p>\n",
              "</div>\n",
              "      <button class=\"colab-df-convert\" onclick=\"convertToInteractive('df-63581a65-9270-4c8d-abff-6886a15419e7')\"\n",
              "              title=\"Convert this dataframe to an interactive table.\"\n",
              "              style=\"display:none;\">\n",
              "        \n",
              "  <svg xmlns=\"http://www.w3.org/2000/svg\" height=\"24px\"viewBox=\"0 0 24 24\"\n",
              "       width=\"24px\">\n",
              "    <path d=\"M0 0h24v24H0V0z\" fill=\"none\"/>\n",
              "    <path d=\"M18.56 5.44l.94 2.06.94-2.06 2.06-.94-2.06-.94-.94-2.06-.94 2.06-2.06.94zm-11 1L8.5 8.5l.94-2.06 2.06-.94-2.06-.94L8.5 2.5l-.94 2.06-2.06.94zm10 10l.94 2.06.94-2.06 2.06-.94-2.06-.94-.94-2.06-.94 2.06-2.06.94z\"/><path d=\"M17.41 7.96l-1.37-1.37c-.4-.4-.92-.59-1.43-.59-.52 0-1.04.2-1.43.59L10.3 9.45l-7.72 7.72c-.78.78-.78 2.05 0 2.83L4 21.41c.39.39.9.59 1.41.59.51 0 1.02-.2 1.41-.59l7.78-7.78 2.81-2.81c.8-.78.8-2.07 0-2.86zM5.41 20L4 18.59l7.72-7.72 1.47 1.35L5.41 20z\"/>\n",
              "  </svg>\n",
              "      </button>\n",
              "      \n",
              "  <style>\n",
              "    .colab-df-container {\n",
              "      display:flex;\n",
              "      flex-wrap:wrap;\n",
              "      gap: 12px;\n",
              "    }\n",
              "\n",
              "    .colab-df-convert {\n",
              "      background-color: #E8F0FE;\n",
              "      border: none;\n",
              "      border-radius: 50%;\n",
              "      cursor: pointer;\n",
              "      display: none;\n",
              "      fill: #1967D2;\n",
              "      height: 32px;\n",
              "      padding: 0 0 0 0;\n",
              "      width: 32px;\n",
              "    }\n",
              "\n",
              "    .colab-df-convert:hover {\n",
              "      background-color: #E2EBFA;\n",
              "      box-shadow: 0px 1px 2px rgba(60, 64, 67, 0.3), 0px 1px 3px 1px rgba(60, 64, 67, 0.15);\n",
              "      fill: #174EA6;\n",
              "    }\n",
              "\n",
              "    [theme=dark] .colab-df-convert {\n",
              "      background-color: #3B4455;\n",
              "      fill: #D2E3FC;\n",
              "    }\n",
              "\n",
              "    [theme=dark] .colab-df-convert:hover {\n",
              "      background-color: #434B5C;\n",
              "      box-shadow: 0px 1px 3px 1px rgba(0, 0, 0, 0.15);\n",
              "      filter: drop-shadow(0px 1px 2px rgba(0, 0, 0, 0.3));\n",
              "      fill: #FFFFFF;\n",
              "    }\n",
              "  </style>\n",
              "\n",
              "      <script>\n",
              "        const buttonEl =\n",
              "          document.querySelector('#df-63581a65-9270-4c8d-abff-6886a15419e7 button.colab-df-convert');\n",
              "        buttonEl.style.display =\n",
              "          google.colab.kernel.accessAllowed ? 'block' : 'none';\n",
              "\n",
              "        async function convertToInteractive(key) {\n",
              "          const element = document.querySelector('#df-63581a65-9270-4c8d-abff-6886a15419e7');\n",
              "          const dataTable =\n",
              "            await google.colab.kernel.invokeFunction('convertToInteractive',\n",
              "                                                     [key], {});\n",
              "          if (!dataTable) return;\n",
              "\n",
              "          const docLinkHtml = 'Like what you see? Visit the ' +\n",
              "            '<a target=\"_blank\" href=https://colab.research.google.com/notebooks/data_table.ipynb>data table notebook</a>'\n",
              "            + ' to learn more about interactive tables.';\n",
              "          element.innerHTML = '';\n",
              "          dataTable['output_type'] = 'display_data';\n",
              "          await google.colab.output.renderOutput(dataTable, element);\n",
              "          const docLink = document.createElement('div');\n",
              "          docLink.innerHTML = docLinkHtml;\n",
              "          element.appendChild(docLink);\n",
              "        }\n",
              "      </script>\n",
              "    </div>\n",
              "  </div>\n",
              "  "
            ]
          },
          "metadata": {},
          "execution_count": 7
        }
      ],
      "source": [
        "df['clean_abstracts'] = hero.clean(df['Abstract'], pipeline = custom_pipeline)\n",
        "df"
      ]
    },
    {
      "cell_type": "code",
      "execution_count": 8,
      "metadata": {
        "colab": {
          "base_uri": "https://localhost:8080/",
          "height": 363
        },
        "id": "SXB8MzP4VwdD",
        "outputId": "4b5f900a-513c-4036-c9a9-602686ff5d4b"
      },
      "outputs": [
        {
          "output_type": "execute_result",
          "data": {
            "text/plain": [
              "                                     clean_abstracts  word_cnt\n",
              "0  better understand neural circuits behavior mic...       133\n",
              "1  vascular dementia vd second largest type demen...       190\n",
              "2  parkinson disease neurodegenerative disease of...       215\n",
              "3  silent information regulator sirt1 nicotinamid...       102\n",
              "4  extracellular vesicles evs biologically active...        79\n",
              "5  tauopathies group neurodegenerative diseases a...        91\n",
              "6  management chronic neuropathic pain remains ch...        97\n",
              "7  neuromuscular training nmt facilitates acquisi...        18\n",
              "8  post traumatic stress disorder ptsd emerged se...        23\n",
              "9  substantial evidence indicates bisphenol bpa u...       141"
            ],
            "text/html": [
              "\n",
              "  <div id=\"df-0d616da3-00a9-4843-84f7-c44e941cc2cd\">\n",
              "    <div class=\"colab-df-container\">\n",
              "      <div>\n",
              "<style scoped>\n",
              "    .dataframe tbody tr th:only-of-type {\n",
              "        vertical-align: middle;\n",
              "    }\n",
              "\n",
              "    .dataframe tbody tr th {\n",
              "        vertical-align: top;\n",
              "    }\n",
              "\n",
              "    .dataframe thead th {\n",
              "        text-align: right;\n",
              "    }\n",
              "</style>\n",
              "<table border=\"1\" class=\"dataframe\">\n",
              "  <thead>\n",
              "    <tr style=\"text-align: right;\">\n",
              "      <th></th>\n",
              "      <th>clean_abstracts</th>\n",
              "      <th>word_cnt</th>\n",
              "    </tr>\n",
              "  </thead>\n",
              "  <tbody>\n",
              "    <tr>\n",
              "      <th>0</th>\n",
              "      <td>better understand neural circuits behavior mic...</td>\n",
              "      <td>133</td>\n",
              "    </tr>\n",
              "    <tr>\n",
              "      <th>1</th>\n",
              "      <td>vascular dementia vd second largest type demen...</td>\n",
              "      <td>190</td>\n",
              "    </tr>\n",
              "    <tr>\n",
              "      <th>2</th>\n",
              "      <td>parkinson disease neurodegenerative disease of...</td>\n",
              "      <td>215</td>\n",
              "    </tr>\n",
              "    <tr>\n",
              "      <th>3</th>\n",
              "      <td>silent information regulator sirt1 nicotinamid...</td>\n",
              "      <td>102</td>\n",
              "    </tr>\n",
              "    <tr>\n",
              "      <th>4</th>\n",
              "      <td>extracellular vesicles evs biologically active...</td>\n",
              "      <td>79</td>\n",
              "    </tr>\n",
              "    <tr>\n",
              "      <th>5</th>\n",
              "      <td>tauopathies group neurodegenerative diseases a...</td>\n",
              "      <td>91</td>\n",
              "    </tr>\n",
              "    <tr>\n",
              "      <th>6</th>\n",
              "      <td>management chronic neuropathic pain remains ch...</td>\n",
              "      <td>97</td>\n",
              "    </tr>\n",
              "    <tr>\n",
              "      <th>7</th>\n",
              "      <td>neuromuscular training nmt facilitates acquisi...</td>\n",
              "      <td>18</td>\n",
              "    </tr>\n",
              "    <tr>\n",
              "      <th>8</th>\n",
              "      <td>post traumatic stress disorder ptsd emerged se...</td>\n",
              "      <td>23</td>\n",
              "    </tr>\n",
              "    <tr>\n",
              "      <th>9</th>\n",
              "      <td>substantial evidence indicates bisphenol bpa u...</td>\n",
              "      <td>141</td>\n",
              "    </tr>\n",
              "  </tbody>\n",
              "</table>\n",
              "</div>\n",
              "      <button class=\"colab-df-convert\" onclick=\"convertToInteractive('df-0d616da3-00a9-4843-84f7-c44e941cc2cd')\"\n",
              "              title=\"Convert this dataframe to an interactive table.\"\n",
              "              style=\"display:none;\">\n",
              "        \n",
              "  <svg xmlns=\"http://www.w3.org/2000/svg\" height=\"24px\"viewBox=\"0 0 24 24\"\n",
              "       width=\"24px\">\n",
              "    <path d=\"M0 0h24v24H0V0z\" fill=\"none\"/>\n",
              "    <path d=\"M18.56 5.44l.94 2.06.94-2.06 2.06-.94-2.06-.94-.94-2.06-.94 2.06-2.06.94zm-11 1L8.5 8.5l.94-2.06 2.06-.94-2.06-.94L8.5 2.5l-.94 2.06-2.06.94zm10 10l.94 2.06.94-2.06 2.06-.94-2.06-.94-.94-2.06-.94 2.06-2.06.94z\"/><path d=\"M17.41 7.96l-1.37-1.37c-.4-.4-.92-.59-1.43-.59-.52 0-1.04.2-1.43.59L10.3 9.45l-7.72 7.72c-.78.78-.78 2.05 0 2.83L4 21.41c.39.39.9.59 1.41.59.51 0 1.02-.2 1.41-.59l7.78-7.78 2.81-2.81c.8-.78.8-2.07 0-2.86zM5.41 20L4 18.59l7.72-7.72 1.47 1.35L5.41 20z\"/>\n",
              "  </svg>\n",
              "      </button>\n",
              "      \n",
              "  <style>\n",
              "    .colab-df-container {\n",
              "      display:flex;\n",
              "      flex-wrap:wrap;\n",
              "      gap: 12px;\n",
              "    }\n",
              "\n",
              "    .colab-df-convert {\n",
              "      background-color: #E8F0FE;\n",
              "      border: none;\n",
              "      border-radius: 50%;\n",
              "      cursor: pointer;\n",
              "      display: none;\n",
              "      fill: #1967D2;\n",
              "      height: 32px;\n",
              "      padding: 0 0 0 0;\n",
              "      width: 32px;\n",
              "    }\n",
              "\n",
              "    .colab-df-convert:hover {\n",
              "      background-color: #E2EBFA;\n",
              "      box-shadow: 0px 1px 2px rgba(60, 64, 67, 0.3), 0px 1px 3px 1px rgba(60, 64, 67, 0.15);\n",
              "      fill: #174EA6;\n",
              "    }\n",
              "\n",
              "    [theme=dark] .colab-df-convert {\n",
              "      background-color: #3B4455;\n",
              "      fill: #D2E3FC;\n",
              "    }\n",
              "\n",
              "    [theme=dark] .colab-df-convert:hover {\n",
              "      background-color: #434B5C;\n",
              "      box-shadow: 0px 1px 3px 1px rgba(0, 0, 0, 0.15);\n",
              "      filter: drop-shadow(0px 1px 2px rgba(0, 0, 0, 0.3));\n",
              "      fill: #FFFFFF;\n",
              "    }\n",
              "  </style>\n",
              "\n",
              "      <script>\n",
              "        const buttonEl =\n",
              "          document.querySelector('#df-0d616da3-00a9-4843-84f7-c44e941cc2cd button.colab-df-convert');\n",
              "        buttonEl.style.display =\n",
              "          google.colab.kernel.accessAllowed ? 'block' : 'none';\n",
              "\n",
              "        async function convertToInteractive(key) {\n",
              "          const element = document.querySelector('#df-0d616da3-00a9-4843-84f7-c44e941cc2cd');\n",
              "          const dataTable =\n",
              "            await google.colab.kernel.invokeFunction('convertToInteractive',\n",
              "                                                     [key], {});\n",
              "          if (!dataTable) return;\n",
              "\n",
              "          const docLinkHtml = 'Like what you see? Visit the ' +\n",
              "            '<a target=\"_blank\" href=https://colab.research.google.com/notebooks/data_table.ipynb>data table notebook</a>'\n",
              "            + ' to learn more about interactive tables.';\n",
              "          element.innerHTML = '';\n",
              "          dataTable['output_type'] = 'display_data';\n",
              "          await google.colab.output.renderOutput(dataTable, element);\n",
              "          const docLink = document.createElement('div');\n",
              "          docLink.innerHTML = docLinkHtml;\n",
              "          element.appendChild(docLink);\n",
              "        }\n",
              "      </script>\n",
              "    </div>\n",
              "  </div>\n",
              "  "
            ]
          },
          "metadata": {},
          "execution_count": 8
        }
      ],
      "source": [
        "# Getting word count using text features\n",
        "tf.word_count(df,\"clean_abstracts\",\"word_cnt\")\n",
        "df[[\"clean_abstracts\",\"word_cnt\"]].head(10)"
      ]
    },
    {
      "cell_type": "code",
      "source": [
        "from sklearn.feature_extraction.text import CountVectorizer\n",
        "\n",
        "vectorizer = CountVectorizer(stop_words='english', max_features=1000)"
      ],
      "metadata": {
        "id": "7GDVHchSd-hS"
      },
      "execution_count": 9,
      "outputs": []
    },
    {
      "cell_type": "code",
      "execution_count": 10,
      "metadata": {
        "id": "cpQSPJpE6vlv"
      },
      "outputs": [],
      "source": [
        "# Data preprocessing\n",
        "documents = df['clean_abstracts'].values.astype(\"U\")\n",
        "\n",
        "#vectorizer = TfidfVectorizer(stop_words='english', max_features=1000)\n",
        "features = vectorizer.fit_transform(documents)"
      ]
    },
    {
      "cell_type": "code",
      "source": [
        "features"
      ],
      "metadata": {
        "colab": {
          "base_uri": "https://localhost:8080/"
        },
        "id": "Gk0ys-wJeDrQ",
        "outputId": "afd1c988-23a4-4e8d-de66-c5f0742646ba"
      },
      "execution_count": 11,
      "outputs": [
        {
          "output_type": "execute_result",
          "data": {
            "text/plain": [
              "<3000x1000 sparse matrix of type '<class 'numpy.int64'>'\n",
              "\twith 153327 stored elements in Compressed Sparse Row format>"
            ]
          },
          "metadata": {},
          "execution_count": 11
        }
      ]
    },
    {
      "cell_type": "code",
      "source": [
        "feature_names = vectorizer.get_feature_names()"
      ],
      "metadata": {
        "colab": {
          "base_uri": "https://localhost:8080/"
        },
        "id": "G2InkvPn6TwV",
        "outputId": "13b1de3c-9c8c-4251-f8e5-f5e67f1fe01a"
      },
      "execution_count": 12,
      "outputs": [
        {
          "output_type": "stream",
          "name": "stderr",
          "text": [
            "/usr/local/lib/python3.7/dist-packages/sklearn/utils/deprecation.py:87: FutureWarning: Function get_feature_names is deprecated; get_feature_names is deprecated in 1.0 and will be removed in 1.2. Please use get_feature_names_out instead.\n",
            "  warnings.warn(msg, category=FutureWarning)\n"
          ]
        }
      ]
    },
    {
      "cell_type": "markdown",
      "metadata": {
        "id": "zmmqGoxB6_wx"
      },
      "source": [
        "# K-Means\n",
        "\n",
        "1) Deciding the number of clusters"
      ]
    },
    {
      "cell_type": "code",
      "execution_count": 13,
      "metadata": {
        "id": "JmimGaNV6vpd"
      },
      "outputs": [],
      "source": [
        "kmeans_kwargs = {  \n",
        "        \"init\": \"random\",\n",
        "        \"n_init\": 10,\n",
        "        \"max_iter\": 300,\n",
        "        \"random_state\": 42,\n",
        "    }\n",
        "   \n",
        "# A list holds the SSE values for each k\n",
        "sse = []  # sum of squared error (distances in our case)\n",
        "for k in range(1, 21):  # we will try clustering data into range(1, 11) clusters\n",
        "  kmeans = KMeans(n_clusters=k, **kmeans_kwargs)  # initiates the k-means algorithm\n",
        "  kmeans.fit(features)  # fits k-means on our data\n",
        "  sse.append(kmeans.inertia_)  # Sum of squared distances of samples to their closest cluster center.kl.plot_knee()"
      ]
    },
    {
      "cell_type": "code",
      "execution_count": 14,
      "metadata": {
        "id": "jE-s1b_76vsg",
        "colab": {
          "base_uri": "https://localhost:8080/",
          "height": 279
        },
        "outputId": "f25ec0a8-c101-4ecc-e5fb-1f29448d6b34"
      },
      "outputs": [
        {
          "output_type": "display_data",
          "data": {
            "text/plain": [
              "<Figure size 432x288 with 1 Axes>"
            ],
            "image/png": "[encoded data removed]"
          },
          "metadata": {}
        }
      ],
      "source": [
        "fig, axs = plt.subplots()\n",
        "plt.plot(range(1, 21), sse)\n",
        "plt.xticks(range(1, 21))\n",
        "plt.xlabel(\"Number of Clusters\")\n",
        "plt.ylabel(\"SSE\")\n",
        "\n",
        "fig.set(facecolor='white')\n",
        "plt.show()"
      ]
    },
    {
      "cell_type": "code",
      "execution_count": 15,
      "metadata": {
        "id": "y0ZS2VJl7RAY",
        "colab": {
          "base_uri": "https://localhost:8080/"
        },
        "outputId": "c83e8221-ed77-4d27-f2bf-2df2121eef56"
      },
      "outputs": [
        {
          "output_type": "stream",
          "name": "stdout",
          "text": [
            "We should use 7 clusters.\n"
          ]
        }
      ],
      "source": [
        "\n",
        "kl = KneeLocator(\n",
        "    range(1, 21), sse, curve=\"convex\", direction=\"decreasing\"\n",
        "    )\n",
        "\n",
        "print(f'We should use {kl.elbow} clusters.')"
      ]
    },
    {
      "cell_type": "code",
      "execution_count": 16,
      "metadata": {
        "id": "r8q28mQw7REK",
        "colab": {
          "base_uri": "https://localhost:8080/",
          "height": 390
        },
        "outputId": "6115d2cc-e906-4e99-e61c-56504d902b3a"
      },
      "outputs": [
        {
          "output_type": "display_data",
          "data": {
            "text/plain": [
              "<Figure size 432x432 with 1 Axes>"
            ],
            "image/png": "[encoded data removed]"
          },
          "metadata": {
            "needs_background": "light"
          }
        }
      ],
      "source": [
        "kl.plot_knee()"
      ]
    },
    {
      "cell_type": "code",
      "execution_count": 17,
      "metadata": {
        "id": "PTM5R7lE7RF_",
        "colab": {
          "base_uri": "https://localhost:8080/"
        },
        "outputId": "b77bae92-5e8e-40d1-a502-bf59e4f77374"
      },
      "outputs": [
        {
          "output_type": "execute_result",
          "data": {
            "text/plain": [
              "KMeans(max_iter=100, n_clusters=10, n_init=1)"
            ]
          },
          "metadata": {},
          "execution_count": 17
        }
      ],
      "source": [
        "k = 10\n",
        "model = KMeans(n_clusters=k, init='k-means++', max_iter=100, n_init=1)\n",
        "model.fit(features)"
      ]
    },
    {
      "cell_type": "code",
      "execution_count": 18,
      "metadata": {
        "id": "MFC9Dtuk7RJ8",
        "colab": {
          "base_uri": "https://localhost:8080/",
          "height": 206
        },
        "outputId": "041d579e-e340-4eb1-b2fe-575cb449eac1"
      },
      "outputs": [
        {
          "output_type": "execute_result",
          "data": {
            "text/plain": [
              "   Id                                              Title  \\\n",
              "0   0  Interrogating the function of GABA<sub>A</sub>...   \n",
              "1   1  Floralozone improves cognitive impairment in v...   \n",
              "2   2  The effects of Vilazodone, YL-0919 and Vortiox...   \n",
              "3   3  Deciphering therapeutic options for neurodegen...   \n",
              "4   4  Therapeutic effect of extracellular vesicles f...   \n",
              "\n",
              "                                            Abstract  \\\n",
              "0  To better understand neural circuits and behav...   \n",
              "1  Vascular dementia (VD) is the second largest t...   \n",
              "2  Parkinson's disease is a neurodegenerative dis...   \n",
              "3  Silent information regulator 1 (SIRT1) is a ni...   \n",
              "4  Extracellular vesicles (EVs) are biologically ...   \n",
              "\n",
              "                                     clean_abstracts  word_cnt  cluster  \n",
              "0  better understand neural circuits behavior mic...       133        6  \n",
              "1  vascular dementia vd second largest type demen...       190        2  \n",
              "2  parkinson disease neurodegenerative disease of...       215        6  \n",
              "3  silent information regulator sirt1 nicotinamid...       102        5  \n",
              "4  extracellular vesicles evs biologically active...        79        5  "
            ],
            "text/html": [
              "\n",
              "  <div id=\"df-7cd8d886-772a-4906-98fc-dc78dc359804\">\n",
              "    <div class=\"colab-df-container\">\n",
              "      <div>\n",
              "<style scoped>\n",
              "    .dataframe tbody tr th:only-of-type {\n",
              "        vertical-align: middle;\n",
              "    }\n",
              "\n",
              "    .dataframe tbody tr th {\n",
              "        vertical-align: top;\n",
              "    }\n",
              "\n",
              "    .dataframe thead th {\n",
              "        text-align: right;\n",
              "    }\n",
              "</style>\n",
              "<table border=\"1\" class=\"dataframe\">\n",
              "  <thead>\n",
              "    <tr style=\"text-align: right;\">\n",
              "      <th></th>\n",
              "      <th>Id</th>\n",
              "      <th>Title</th>\n",
              "      <th>Abstract</th>\n",
              "      <th>clean_abstracts</th>\n",
              "      <th>word_cnt</th>\n",
              "      <th>cluster</th>\n",
              "    </tr>\n",
              "  </thead>\n",
              "  <tbody>\n",
              "    <tr>\n",
              "      <th>0</th>\n",
              "      <td>0</td>\n",
              "      <td>Interrogating the function of GABA&lt;sub&gt;A&lt;/sub&gt;...</td>\n",
              "      <td>To better understand neural circuits and behav...</td>\n",
              "      <td>better understand neural circuits behavior mic...</td>\n",
              "      <td>133</td>\n",
              "      <td>6</td>\n",
              "    </tr>\n",
              "    <tr>\n",
              "      <th>1</th>\n",
              "      <td>1</td>\n",
              "      <td>Floralozone improves cognitive impairment in v...</td>\n",
              "      <td>Vascular dementia (VD) is the second largest t...</td>\n",
              "      <td>vascular dementia vd second largest type demen...</td>\n",
              "      <td>190</td>\n",
              "      <td>2</td>\n",
              "    </tr>\n",
              "    <tr>\n",
              "      <th>2</th>\n",
              "      <td>2</td>\n",
              "      <td>The effects of Vilazodone, YL-0919 and Vortiox...</td>\n",
              "      <td>Parkinson's disease is a neurodegenerative dis...</td>\n",
              "      <td>parkinson disease neurodegenerative disease of...</td>\n",
              "      <td>215</td>\n",
              "      <td>6</td>\n",
              "    </tr>\n",
              "    <tr>\n",
              "      <th>3</th>\n",
              "      <td>3</td>\n",
              "      <td>Deciphering therapeutic options for neurodegen...</td>\n",
              "      <td>Silent information regulator 1 (SIRT1) is a ni...</td>\n",
              "      <td>silent information regulator sirt1 nicotinamid...</td>\n",
              "      <td>102</td>\n",
              "      <td>5</td>\n",
              "    </tr>\n",
              "    <tr>\n",
              "      <th>4</th>\n",
              "      <td>4</td>\n",
              "      <td>Therapeutic effect of extracellular vesicles f...</td>\n",
              "      <td>Extracellular vesicles (EVs) are biologically ...</td>\n",
              "      <td>extracellular vesicles evs biologically active...</td>\n",
              "      <td>79</td>\n",
              "      <td>5</td>\n",
              "    </tr>\n",
              "  </tbody>\n",
              "</table>\n",
              "</div>\n",
              "      <button class=\"colab-df-convert\" onclick=\"convertToInteractive('df-7cd8d886-772a-4906-98fc-dc78dc359804')\"\n",
              "              title=\"Convert this dataframe to an interactive table.\"\n",
              "              style=\"display:none;\">\n",
              "        \n",
              "  <svg xmlns=\"http://www.w3.org/2000/svg\" height=\"24px\"viewBox=\"0 0 24 24\"\n",
              "       width=\"24px\">\n",
              "    <path d=\"M0 0h24v24H0V0z\" fill=\"none\"/>\n",
              "    <path d=\"M18.56 5.44l.94 2.06.94-2.06 2.06-.94-2.06-.94-.94-2.06-.94 2.06-2.06.94zm-11 1L8.5 8.5l.94-2.06 2.06-.94-2.06-.94L8.5 2.5l-.94 2.06-2.06.94zm10 10l.94 2.06.94-2.06 2.06-.94-2.06-.94-.94-2.06-.94 2.06-2.06.94z\"/><path d=\"M17.41 7.96l-1.37-1.37c-.4-.4-.92-.59-1.43-.59-.52 0-1.04.2-1.43.59L10.3 9.45l-7.72 7.72c-.78.78-.78 2.05 0 2.83L4 21.41c.39.39.9.59 1.41.59.51 0 1.02-.2 1.41-.59l7.78-7.78 2.81-2.81c.8-.78.8-2.07 0-2.86zM5.41 20L4 18.59l7.72-7.72 1.47 1.35L5.41 20z\"/>\n",
              "  </svg>\n",
              "      </button>\n",
              "      \n",
              "  <style>\n",
              "    .colab-df-container {\n",
              "      display:flex;\n",
              "      flex-wrap:wrap;\n",
              "      gap: 12px;\n",
              "    }\n",
              "\n",
              "    .colab-df-convert {\n",
              "      background-color: #E8F0FE;\n",
              "      border: none;\n",
              "      border-radius: 50%;\n",
              "      cursor: pointer;\n",
              "      display: none;\n",
              "      fill: #1967D2;\n",
              "      height: 32px;\n",
              "      padding: 0 0 0 0;\n",
              "      width: 32px;\n",
              "    }\n",
              "\n",
              "    .colab-df-convert:hover {\n",
              "      background-color: #E2EBFA;\n",
              "      box-shadow: 0px 1px 2px rgba(60, 64, 67, 0.3), 0px 1px 3px 1px rgba(60, 64, 67, 0.15);\n",
              "      fill: #174EA6;\n",
              "    }\n",
              "\n",
              "    [theme=dark] .colab-df-convert {\n",
              "      background-color: #3B4455;\n",
              "      fill: #D2E3FC;\n",
              "    }\n",
              "\n",
              "    [theme=dark] .colab-df-convert:hover {\n",
              "      background-color: #434B5C;\n",
              "      box-shadow: 0px 1px 3px 1px rgba(0, 0, 0, 0.15);\n",
              "      filter: drop-shadow(0px 1px 2px rgba(0, 0, 0, 0.3));\n",
              "      fill: #FFFFFF;\n",
              "    }\n",
              "  </style>\n",
              "\n",
              "      <script>\n",
              "        const buttonEl =\n",
              "          document.querySelector('#df-7cd8d886-772a-4906-98fc-dc78dc359804 button.colab-df-convert');\n",
              "        buttonEl.style.display =\n",
              "          google.colab.kernel.accessAllowed ? 'block' : 'none';\n",
              "\n",
              "        async function convertToInteractive(key) {\n",
              "          const element = document.querySelector('#df-7cd8d886-772a-4906-98fc-dc78dc359804');\n",
              "          const dataTable =\n",
              "            await google.colab.kernel.invokeFunction('convertToInteractive',\n",
              "                                                     [key], {});\n",
              "          if (!dataTable) return;\n",
              "\n",
              "          const docLinkHtml = 'Like what you see? Visit the ' +\n",
              "            '<a target=\"_blank\" href=https://colab.research.google.com/notebooks/data_table.ipynb>data table notebook</a>'\n",
              "            + ' to learn more about interactive tables.';\n",
              "          element.innerHTML = '';\n",
              "          dataTable['output_type'] = 'display_data';\n",
              "          await google.colab.output.renderOutput(dataTable, element);\n",
              "          const docLink = document.createElement('div');\n",
              "          docLink.innerHTML = docLinkHtml;\n",
              "          element.appendChild(docLink);\n",
              "        }\n",
              "      </script>\n",
              "    </div>\n",
              "  </div>\n",
              "  "
            ]
          },
          "metadata": {},
          "execution_count": 18
        }
      ],
      "source": [
        "df['cluster'] = model.labels_\n",
        "\n",
        "df.head()"
      ]
    },
    {
      "cell_type": "code",
      "execution_count": 19,
      "metadata": {
        "id": "RAxJnvWH6v8I"
      },
      "outputs": [],
      "source": [
        "# output the result to a text file.\n",
        "\n",
        "clusters = df.groupby('cluster')    \n",
        "\n",
        "for cluster in clusters.groups:\n",
        "    f = open('cluster'+str(cluster)+ '.csv', 'w') # create csv file\n",
        "    data = clusters.get_group(cluster)[['Id','Abstract']] # get title and overview columns\n",
        "    f.write(data.to_csv(index_label='Id')) # set index to id\n",
        "    f.close()"
      ]
    },
    {
      "cell_type": "code",
      "execution_count": 20,
      "metadata": {
        "id": "IyBiSWFB6v_B",
        "colab": {
          "base_uri": "https://localhost:8080/"
        },
        "outputId": "eafae2d9-c556-42ef-b4d6-b14213926c4d"
      },
      "outputs": [
        {
          "output_type": "stream",
          "name": "stdout",
          "text": [
            "Cluster centroids: \n",
            "\n",
            "Cluster 0:\n",
            " motor\n",
            " stimulation\n",
            " brain\n",
            " stroke\n",
            " plasticity\n",
            " functional\n",
            " effects\n",
            " patients\n",
            " training\n",
            " changes\n",
            "------------\n",
            "Cluster 1:\n",
            " synaptic\n",
            " plasticity\n",
            " memory\n",
            " activity\n",
            " synapses\n",
            " neuronal\n",
            " term\n",
            " long\n",
            " learning\n",
            " ltp\n",
            "------------\n",
            "Cluster 2:\n",
            " mice\n",
            " memory\n",
            " hippocampal\n",
            " expression\n",
            " hippocampus\n",
            " cognitive\n",
            " rats\n",
            " plasticity\n",
            " brain\n",
            " synaptic\n",
            "------------\n",
            "Cluster 3:\n",
            " neurons\n",
            " neuronal\n",
            " plasticity\n",
            " brain\n",
            " activity\n",
            " synaptic\n",
            " cells\n",
            " cell\n",
            " function\n",
            " expression\n",
            "------------\n",
            "Cluster 4:\n",
            " sup\n",
            " ca\n",
            " mice\n",
            " sub\n",
            " neurons\n",
            " synaptic\n",
            " spike\n",
            " neuronal\n",
            " signaling\n",
            " plasticity\n",
            "------------\n",
            "Cluster 5:\n",
            " brain\n",
            " plasticity\n",
            " neuronal\n",
            " effects\n",
            " pain\n",
            " mechanisms\n",
            " changes\n",
            " role\n",
            " synaptic\n",
            " disease\n",
            "------------\n",
            "Cluster 6:\n",
            " sub\n",
            " gaba\n",
            " receptor\n",
            " sup\n",
            " synaptic\n",
            " receptors\n",
            " plasticity\n",
            " brain\n",
            " neuronal\n",
            " inhibition\n",
            "------------\n",
            "Cluster 7:\n",
            " arc\n",
            " ltp\n",
            " memory\n",
            " mice\n",
            " ko\n",
            " hippocampal\n",
            " mechanisms\n",
            " plasticity\n",
            " maintenance\n",
            " long\n",
            "------------\n",
            "Cluster 8:\n",
            " sup\n",
            " ca\n",
            " synaptic\n",
            " mice\n",
            " plasticity\n",
            " neuronal\n",
            " neurons\n",
            " brain\n",
            " activity\n",
            " sub\n",
            "------------\n",
            "Cluster 9:\n",
            " processing\n",
            " task\n",
            " cortex\n",
            " auditory\n",
            " visual\n",
            " temporal\n",
            " spatial\n",
            " specific\n",
            " function\n",
            " reorganization\n",
            "------------\n"
          ]
        },
        {
          "output_type": "stream",
          "name": "stderr",
          "text": [
            "/usr/local/lib/python3.7/dist-packages/sklearn/utils/deprecation.py:87: FutureWarning: Function get_feature_names is deprecated; get_feature_names is deprecated in 1.0 and will be removed in 1.2. Please use get_feature_names_out instead.\n",
            "  warnings.warn(msg, category=FutureWarning)\n"
          ]
        }
      ],
      "source": [
        "print(\"Cluster centroids: \\n\")\n",
        "order_centroids = model.cluster_centers_.argsort()[:, ::-1]\n",
        "terms = vectorizer.get_feature_names()\n",
        "\n",
        "for i in range(k):\n",
        "    print(\"Cluster %d:\" % i)\n",
        "    for j in order_centroids[i, :10]: #print out 10 feature terms of each cluster\n",
        "        print (' %s' % terms[j])\n",
        "    print('------------')"
      ]
    },
    {
      "cell_type": "markdown",
      "source": [
        "# Wordcloud"
      ],
      "metadata": {
        "id": "D0U2kQcvI678"
      }
    },
    {
      "cell_type": "code",
      "source": [
        "import nltk\n",
        "from nltk.corpus import stopwords\n",
        "nltk.download('stopwords')\n",
        "\n",
        "from wordcloud import WordCloud"
      ],
      "metadata": {
        "id": "zAocbzSHI4Ne",
        "colab": {
          "base_uri": "https://localhost:8080/"
        },
        "outputId": "bc2b0148-f543-4941-873a-19407c3b82a3"
      },
      "execution_count": 21,
      "outputs": [
        {
          "output_type": "stream",
          "name": "stderr",
          "text": [
            "[nltk_data] Downloading package stopwords to /root/nltk_data...\n",
            "[nltk_data]   Package stopwords is already up-to-date!\n"
          ]
        }
      ]
    },
    {
      "cell_type": "code",
      "source": [
        "stop_words = set(stopwords.words('english'))"
      ],
      "metadata": {
        "id": "m3yPusChI4Q5"
      },
      "execution_count": 22,
      "outputs": []
    },
    {
      "cell_type": "code",
      "source": [
        "abs = \" \".join(abstract for abstract in df.clean_abstracts)\n",
        "wordcloud2 = WordCloud(stopwords=stop_words, max_words=50).generate(abs)\n",
        "plt.imshow(wordcloud2, interpolation='bilinear')\n",
        "plt.axis(\"off\")\n",
        "plt.show()"
      ],
      "metadata": {
        "id": "LPtqK84oI4Sq",
        "colab": {
          "base_uri": "https://localhost:8080/",
          "height": 198
        },
        "outputId": "1ea984d0-dcf4-4d4e-b56e-d8c4edaee5de"
      },
      "execution_count": 23,
      "outputs": [
        {
          "output_type": "display_data",
          "data": {
            "text/plain": [
              "<Figure size 432x288 with 1 Axes>"
            ],
            "image/png": "[encoded data removed]"
          },
          "metadata": {
            "needs_background": "light"
          }
        }
      ]
    }
  ],
  "metadata": {
    "colab": {
      "collapsed_sections": [
        "wLGgur3KQ8DY",
        "zmmqGoxB6_wx",
        "NkXD-zPGEUu2",
        "D0U2kQcvI678",
        "z-RY6xd44LgT"
      ],
      "name": "text_analysis_neuroplasticity.ipynb",
      "provenance": []
    },
    "kernelspec": {
      "display_name": "Python 3",
      "name": "python3"
    },
    "language_info": {
      "name": "python"
    }
  },
  "nbformat": 4,
  "nbformat_minor": 0
}