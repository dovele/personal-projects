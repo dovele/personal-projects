{
  "nbformat": 4,
  "nbformat_minor": 0,
  "metadata": {
    "colab": {
      "name": "pubmed_abstracts.ipynb",
      "provenance": [],
      "collapsed_sections": []
    },
    "kernelspec": {
      "name": "python3",
      "display_name": "Python 3"
    },
    "language_info": {
      "name": "python"
    }
  },
  "cells": [
    {
      "cell_type": "markdown",
      "source": [
        "# Getting medical abstracts using Entrez Utilities (E-Utils) API"
      ],
      "metadata": {
        "id": "hwvBSHmxuJCn"
      }
    },
    {
      "cell_type": "code",
      "metadata": {
        "id": "wtl0vyqMJwMW"
      },
      "source": [
        "pip install Bio"
      ],
      "execution_count": null,
      "outputs": []
    },
    {
      "cell_type": "code",
      "metadata": {
        "id": "uffKQdsdJt8N"
      },
      "source": [
        "import pandas as pd\n",
        "from Bio import Entrez\n",
        "\"\"\"\n",
        "You need to create an account at https://www.ncbi.nlm.nih.gov/\n",
        "Fill in your NCBI registered email, your API key. \n",
        "Documentation for Entrez Utilities (E-Utils) - https://www.ncbi.nlm.nih.gov/books/NBK25501/\n",
        "\"\"\"\n",
        "Entrez.email = '' # Your email\n",
        "Entrez.api_key = '' # Your API key"
      ],
      "execution_count": 2,
      "outputs": []
    },
    {
      "cell_type": "code",
      "metadata": {
        "colab": {
          "base_uri": "https://localhost:8080/"
        },
        "id": "WSSFg3sMMX4d",
        "outputId": "3202f259-cc2b-41a2-c97d-1c16f61332ff"
      },
      "source": [
        "\"\"\"\n",
        "Using esearch method you can choose a database (e.g. pubmed), add a search term (e.g. \"neuroplasticity\"), set retmax (max number of returned values), etc.\n",
        "\"\"\"\n",
        "search_results = Entrez.read(Entrez.esearch(db=\"pubmed\", term=\"neuroplasticity\", retmax = 3000, reldate=365, datetype=\"pdat\", usehistory=\"y\", ))\n",
        "count = int(search_results[\"Count\"])\n",
        "print(\"Found %i results\" % count)"
      ],
      "execution_count": 3,
      "outputs": [
        {
          "output_type": "stream",
          "name": "stdout",
          "text": [
            "Found 3405 results\n"
          ]
        }
      ]
    },
    {
      "cell_type": "code",
      "metadata": {
        "id": "HXUJUANoLSUj"
      },
      "source": [
        "\"\"\"\n",
        "You will get an idlist, every article has an id.\n",
        "\"\"\"\n",
        "idlist = search_results['IdList']\n",
        "ids = \",\".join(idlist)"
      ],
      "execution_count": 4,
      "outputs": []
    },
    {
      "cell_type": "code",
      "metadata": {
        "id": "Z7xSSx_OJu2F"
      },
      "source": [
        "\"\"\"\n",
        "After esearch, use efetch method, which helps extract more article information - titles, abstracts, etc.\n",
        "\"\"\"\n",
        "handle = Entrez.efetch(db=\"pubmed\", id=ids, rettype=\"xml\", retmode=\"text\")\n",
        "records = Entrez.read(handle)\n",
        "\n",
        "title = [pubmed_article['MedlineCitation']['Article']['Abstract']['AbstractText'][0]  if 'Article' in pubmed_article['MedlineCitation']['Article'].keys() else pubmed_article['MedlineCitation']['Article']['ArticleTitle']  for pubmed_article in records['PubmedArticle']]\n",
        "abstracts = [pubmed_article['MedlineCitation']['Article']['Abstract']['AbstractText'][0]  if 'Abstract' in pubmed_article['MedlineCitation']['Article'].keys() else pubmed_article['MedlineCitation']['Article']['ArticleTitle']  for pubmed_article in records['PubmedArticle']]"
      ],
      "execution_count": 5,
      "outputs": []
    },
    {
      "cell_type": "code",
      "metadata": {
        "colab": {
          "base_uri": "https://localhost:8080/",
          "height": 424
        },
        "id": "qeM7usaNKPy1",
        "outputId": "de180d21-d17d-48df-bfa6-439679a28c59"
      },
      "source": [
        "df = pd.DataFrame({'Title': title,\n",
        "                   'Abstract': abstracts})\n",
        "\n",
        "df"
      ],
      "execution_count": 6,
      "outputs": [
        {
          "output_type": "execute_result",
          "data": {
            "text/plain": [
              "                                                  Title  \\\n",
              "0     Interrogating the function of GABA<sub>A</sub>...   \n",
              "1     Floralozone improves cognitive impairment in v...   \n",
              "2     The effects of Vilazodone, YL-0919 and Vortiox...   \n",
              "3     Deciphering therapeutic options for neurodegen...   \n",
              "4     Therapeutic effect of extracellular vesicles f...   \n",
              "...                                                 ...   \n",
              "2995  Challenges and opportunities in translational ...   \n",
              "2996  Growth and Differentiation of Circulating Stem...   \n",
              "2997  Remote Ischemic Postconditioning vs. Physical ...   \n",
              "2998  Working Memory for Signs with Poor Visual Reso...   \n",
              "2999  6-Gingerol, an active constituent of ginger, a...   \n",
              "\n",
              "                                               Abstract  \n",
              "0     To better understand neural circuits and behav...  \n",
              "1     Vascular dementia (VD) is the second largest t...  \n",
              "2     Parkinson's disease is a neurodegenerative dis...  \n",
              "3     Silent information regulator 1 (SIRT1) is a ni...  \n",
              "4     Extracellular vesicles (EVs) are biologically ...  \n",
              "...                                                 ...  \n",
              "2995  For decades, basic research on the underlying ...  \n",
              "2996  Stem cell therapy is gaining momentum as an ef...  \n",
              "2997  There remain debates on neuroprotection and re...  \n",
              "2998  Stimulus degradation adds to working memory lo...  \n",
              "2999  This study examined the protective effect of 6...  \n",
              "\n",
              "[3000 rows x 2 columns]"
            ],
            "text/html": [
              "\n",
              "  <div id=\"df-bc9aac0d-1eee-4dfb-955f-dd6b74c9e9e9\">\n",
              "    <div class=\"colab-df-container\">\n",
              "      <div>\n",
              "<style scoped>\n",
              "    .dataframe tbody tr th:only-of-type {\n",
              "        vertical-align: middle;\n",
              "    }\n",
              "\n",
              "    .dataframe tbody tr th {\n",
              "        vertical-align: top;\n",
              "    }\n",
              "\n",
              "    .dataframe thead th {\n",
              "        text-align: right;\n",
              "    }\n",
              "</style>\n",
              "<table border=\"1\" class=\"dataframe\">\n",
              "  <thead>\n",
              "    <tr style=\"text-align: right;\">\n",
              "      <th></th>\n",
              "      <th>Title</th>\n",
              "      <th>Abstract</th>\n",
              "    </tr>\n",
              "  </thead>\n",
              "  <tbody>\n",
              "    <tr>\n",
              "      <th>0</th>\n",
              "      <td>Interrogating the function of GABA&lt;sub&gt;A&lt;/sub&gt;...</td>\n",
              "      <td>To better understand neural circuits and behav...</td>\n",
              "    </tr>\n",
              "    <tr>\n",
              "      <th>1</th>\n",
              "      <td>Floralozone improves cognitive impairment in v...</td>\n",
              "      <td>Vascular dementia (VD) is the second largest t...</td>\n",
              "    </tr>\n",
              "    <tr>\n",
              "      <th>2</th>\n",
              "      <td>The effects of Vilazodone, YL-0919 and Vortiox...</td>\n",
              "      <td>Parkinson's disease is a neurodegenerative dis...</td>\n",
              "    </tr>\n",
              "    <tr>\n",
              "      <th>3</th>\n",
              "      <td>Deciphering therapeutic options for neurodegen...</td>\n",
              "      <td>Silent information regulator 1 (SIRT1) is a ni...</td>\n",
              "    </tr>\n",
              "    <tr>\n",
              "      <th>4</th>\n",
              "      <td>Therapeutic effect of extracellular vesicles f...</td>\n",
              "      <td>Extracellular vesicles (EVs) are biologically ...</td>\n",
              "    </tr>\n",
              "    <tr>\n",
              "      <th>...</th>\n",
              "      <td>...</td>\n",
              "      <td>...</td>\n",
              "    </tr>\n",
              "    <tr>\n",
              "      <th>2995</th>\n",
              "      <td>Challenges and opportunities in translational ...</td>\n",
              "      <td>For decades, basic research on the underlying ...</td>\n",
              "    </tr>\n",
              "    <tr>\n",
              "      <th>2996</th>\n",
              "      <td>Growth and Differentiation of Circulating Stem...</td>\n",
              "      <td>Stem cell therapy is gaining momentum as an ef...</td>\n",
              "    </tr>\n",
              "    <tr>\n",
              "      <th>2997</th>\n",
              "      <td>Remote Ischemic Postconditioning vs. Physical ...</td>\n",
              "      <td>There remain debates on neuroprotection and re...</td>\n",
              "    </tr>\n",
              "    <tr>\n",
              "      <th>2998</th>\n",
              "      <td>Working Memory for Signs with Poor Visual Reso...</td>\n",
              "      <td>Stimulus degradation adds to working memory lo...</td>\n",
              "    </tr>\n",
              "    <tr>\n",
              "      <th>2999</th>\n",
              "      <td>6-Gingerol, an active constituent of ginger, a...</td>\n",
              "      <td>This study examined the protective effect of 6...</td>\n",
              "    </tr>\n",
              "  </tbody>\n",
              "</table>\n",
              "<p>3000 rows × 2 columns</p>\n",
              "</div>\n",
              "      <button class=\"colab-df-convert\" onclick=\"convertToInteractive('df-bc9aac0d-1eee-4dfb-955f-dd6b74c9e9e9')\"\n",
              "              title=\"Convert this dataframe to an interactive table.\"\n",
              "              style=\"display:none;\">\n",
              "        \n",
              "  <svg xmlns=\"http://www.w3.org/2000/svg\" height=\"24px\"viewBox=\"0 0 24 24\"\n",
              "       width=\"24px\">\n",
              "    <path d=\"M0 0h24v24H0V0z\" fill=\"none\"/>\n",
              "    <path d=\"M18.56 5.44l.94 2.06.94-2.06 2.06-.94-2.06-.94-.94-2.06-.94 2.06-2.06.94zm-11 1L8.5 8.5l.94-2.06 2.06-.94-2.06-.94L8.5 2.5l-.94 2.06-2.06.94zm10 10l.94 2.06.94-2.06 2.06-.94-2.06-.94-.94-2.06-.94 2.06-2.06.94z\"/><path d=\"M17.41 7.96l-1.37-1.37c-.4-.4-.92-.59-1.43-.59-.52 0-1.04.2-1.43.59L10.3 9.45l-7.72 7.72c-.78.78-.78 2.05 0 2.83L4 21.41c.39.39.9.59 1.41.59.51 0 1.02-.2 1.41-.59l7.78-7.78 2.81-2.81c.8-.78.8-2.07 0-2.86zM5.41 20L4 18.59l7.72-7.72 1.47 1.35L5.41 20z\"/>\n",
              "  </svg>\n",
              "      </button>\n",
              "      \n",
              "  <style>\n",
              "    .colab-df-container {\n",
              "      display:flex;\n",
              "      flex-wrap:wrap;\n",
              "      gap: 12px;\n",
              "    }\n",
              "\n",
              "    .colab-df-convert {\n",
              "      background-color: #E8F0FE;\n",
              "      border: none;\n",
              "      border-radius: 50%;\n",
              "      cursor: pointer;\n",
              "      display: none;\n",
              "      fill: #1967D2;\n",
              "      height: 32px;\n",
              "      padding: 0 0 0 0;\n",
              "      width: 32px;\n",
              "    }\n",
              "\n",
              "    .colab-df-convert:hover {\n",
              "      background-color: #E2EBFA;\n",
              "      box-shadow: 0px 1px 2px rgba(60, 64, 67, 0.3), 0px 1px 3px 1px rgba(60, 64, 67, 0.15);\n",
              "      fill: #174EA6;\n",
              "    }\n",
              "\n",
              "    [theme=dark] .colab-df-convert {\n",
              "      background-color: #3B4455;\n",
              "      fill: #D2E3FC;\n",
              "    }\n",
              "\n",
              "    [theme=dark] .colab-df-convert:hover {\n",
              "      background-color: #434B5C;\n",
              "      box-shadow: 0px 1px 3px 1px rgba(0, 0, 0, 0.15);\n",
              "      filter: drop-shadow(0px 1px 2px rgba(0, 0, 0, 0.3));\n",
              "      fill: #FFFFFF;\n",
              "    }\n",
              "  </style>\n",
              "\n",
              "      <script>\n",
              "        const buttonEl =\n",
              "          document.querySelector('#df-bc9aac0d-1eee-4dfb-955f-dd6b74c9e9e9 button.colab-df-convert');\n",
              "        buttonEl.style.display =\n",
              "          google.colab.kernel.accessAllowed ? 'block' : 'none';\n",
              "\n",
              "        async function convertToInteractive(key) {\n",
              "          const element = document.querySelector('#df-bc9aac0d-1eee-4dfb-955f-dd6b74c9e9e9');\n",
              "          const dataTable =\n",
              "            await google.colab.kernel.invokeFunction('convertToInteractive',\n",
              "                                                     [key], {});\n",
              "          if (!dataTable) return;\n",
              "\n",
              "          const docLinkHtml = 'Like what you see? Visit the ' +\n",
              "            '<a target=\"_blank\" href=https://colab.research.google.com/notebooks/data_table.ipynb>data table notebook</a>'\n",
              "            + ' to learn more about interactive tables.';\n",
              "          element.innerHTML = '';\n",
              "          dataTable['output_type'] = 'display_data';\n",
              "          await google.colab.output.renderOutput(dataTable, element);\n",
              "          const docLink = document.createElement('div');\n",
              "          docLink.innerHTML = docLinkHtml;\n",
              "          element.appendChild(docLink);\n",
              "        }\n",
              "      </script>\n",
              "    </div>\n",
              "  </div>\n",
              "  "
            ]
          },
          "metadata": {},
          "execution_count": 6
        }
      ]
    },
    {
      "cell_type": "code",
      "metadata": {
        "colab": {
          "base_uri": "https://localhost:8080/"
        },
        "id": "NUXZ8xyYKd9W",
        "outputId": "0f930497-0283-4248-b9b1-cbc11539db9a"
      },
      "source": [
        "df.info()"
      ],
      "execution_count": 7,
      "outputs": [
        {
          "output_type": "stream",
          "name": "stdout",
          "text": [
            "<class 'pandas.core.frame.DataFrame'>\n",
            "RangeIndex: 3000 entries, 0 to 2999\n",
            "Data columns (total 2 columns):\n",
            " #   Column    Non-Null Count  Dtype \n",
            "---  ------    --------------  ----- \n",
            " 0   Title     3000 non-null   object\n",
            " 1   Abstract  3000 non-null   object\n",
            "dtypes: object(2)\n",
            "memory usage: 47.0+ KB\n"
          ]
        }
      ]
    },
    {
      "cell_type": "code",
      "metadata": {
        "id": "Fx7Q2tAoK-r5"
      },
      "source": [
        "# For downloading a CSV file\n",
        "filename = 'abstracts' + '.csv'\n",
        "df.to_csv(filename)"
      ],
      "execution_count": 8,
      "outputs": []
    }
  ]
}