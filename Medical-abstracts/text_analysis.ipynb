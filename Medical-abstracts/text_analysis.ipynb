{
  "cells": [
    {
      "cell_type": "code",
      "execution_count": 1,
      "metadata": {
        "colab": {
          "base_uri": "https://localhost:8080/"
        },
        "id": "LCdNqTXMVwc7",
        "outputId": "48fbaa90-8320-4b3b-e4de-71f61309fff6"
      },
      "outputs": [
        {
          "output_type": "stream",
          "name": "stdout",
          "text": [
            "Requirement already satisfied: texthero in /usr/local/lib/python3.7/dist-packages (1.1.0)\n",
            "Requirement already satisfied: plotly>=4.2.0 in /usr/local/lib/python3.7/dist-packages (from texthero) (5.5.0)\n",
            "Requirement already satisfied: spacy<3.0.0 in /usr/local/lib/python3.7/dist-packages (from texthero) (2.2.4)\n",
            "Requirement already satisfied: wordcloud>=1.5.0 in /usr/local/lib/python3.7/dist-packages (from texthero) (1.5.0)\n",
            "Requirement already satisfied: gensim<4.0,>=3.6.0 in /usr/local/lib/python3.7/dist-packages (from texthero) (3.6.0)\n",
            "Requirement already satisfied: numpy>=1.17 in /usr/local/lib/python3.7/dist-packages (from texthero) (1.21.5)\n",
            "Requirement already satisfied: matplotlib>=3.1.0 in /usr/local/lib/python3.7/dist-packages (from texthero) (3.2.2)\n",
            "Requirement already satisfied: nltk>=3.3 in /usr/local/lib/python3.7/dist-packages (from texthero) (3.7)\n",
            "Requirement already satisfied: tqdm>=4.3 in /usr/local/lib/python3.7/dist-packages (from texthero) (4.63.0)\n",
            "Requirement already satisfied: unidecode>=1.1.1 in /usr/local/lib/python3.7/dist-packages (from texthero) (1.3.4)\n",
            "Requirement already satisfied: pandas>=1.0.2 in /usr/local/lib/python3.7/dist-packages (from texthero) (1.3.5)\n",
            "Requirement already satisfied: scikit-learn>=0.22 in /usr/local/lib/python3.7/dist-packages (from texthero) (1.0.2)\n",
            "Requirement already satisfied: scipy>=0.18.1 in /usr/local/lib/python3.7/dist-packages (from gensim<4.0,>=3.6.0->texthero) (1.4.1)\n",
            "Requirement already satisfied: six>=1.5.0 in /usr/local/lib/python3.7/dist-packages (from gensim<4.0,>=3.6.0->texthero) (1.15.0)\n",
            "Requirement already satisfied: smart-open>=1.2.1 in /usr/local/lib/python3.7/dist-packages (from gensim<4.0,>=3.6.0->texthero) (5.2.1)\n",
            "Requirement already satisfied: kiwisolver>=1.0.1 in /usr/local/lib/python3.7/dist-packages (from matplotlib>=3.1.0->texthero) (1.3.2)\n",
            "Requirement already satisfied: cycler>=0.10 in /usr/local/lib/python3.7/dist-packages (from matplotlib>=3.1.0->texthero) (0.11.0)\n",
            "Requirement already satisfied: python-dateutil>=2.1 in /usr/local/lib/python3.7/dist-packages (from matplotlib>=3.1.0->texthero) (2.8.2)\n",
            "Requirement already satisfied: pyparsing!=2.0.4,!=2.1.2,!=2.1.6,>=2.0.1 in /usr/local/lib/python3.7/dist-packages (from matplotlib>=3.1.0->texthero) (3.0.7)\n",
            "Requirement already satisfied: regex>=2021.8.3 in /usr/local/lib/python3.7/dist-packages (from nltk>=3.3->texthero) (2022.3.2)\n",
            "Requirement already satisfied: click in /usr/local/lib/python3.7/dist-packages (from nltk>=3.3->texthero) (7.1.2)\n",
            "Requirement already satisfied: joblib in /usr/local/lib/python3.7/dist-packages (from nltk>=3.3->texthero) (1.1.0)\n",
            "Requirement already satisfied: pytz>=2017.3 in /usr/local/lib/python3.7/dist-packages (from pandas>=1.0.2->texthero) (2018.9)\n",
            "Requirement already satisfied: tenacity>=6.2.0 in /usr/local/lib/python3.7/dist-packages (from plotly>=4.2.0->texthero) (8.0.1)\n",
            "Requirement already satisfied: threadpoolctl>=2.0.0 in /usr/local/lib/python3.7/dist-packages (from scikit-learn>=0.22->texthero) (3.1.0)\n",
            "Requirement already satisfied: catalogue<1.1.0,>=0.0.7 in /usr/local/lib/python3.7/dist-packages (from spacy<3.0.0->texthero) (1.0.0)\n",
            "Requirement already satisfied: wasabi<1.1.0,>=0.4.0 in /usr/local/lib/python3.7/dist-packages (from spacy<3.0.0->texthero) (0.9.0)\n",
            "Requirement already satisfied: murmurhash<1.1.0,>=0.28.0 in /usr/local/lib/python3.7/dist-packages (from spacy<3.0.0->texthero) (1.0.6)\n",
            "Requirement already satisfied: preshed<3.1.0,>=3.0.2 in /usr/local/lib/python3.7/dist-packages (from spacy<3.0.0->texthero) (3.0.6)\n",
            "Requirement already satisfied: setuptools in /usr/local/lib/python3.7/dist-packages (from spacy<3.0.0->texthero) (57.4.0)\n",
            "Requirement already satisfied: plac<1.2.0,>=0.9.6 in /usr/local/lib/python3.7/dist-packages (from spacy<3.0.0->texthero) (1.1.3)\n",
            "Requirement already satisfied: srsly<1.1.0,>=1.0.2 in /usr/local/lib/python3.7/dist-packages (from spacy<3.0.0->texthero) (1.0.5)\n",
            "Requirement already satisfied: cymem<2.1.0,>=2.0.2 in /usr/local/lib/python3.7/dist-packages (from spacy<3.0.0->texthero) (2.0.6)\n",
            "Requirement already satisfied: thinc==7.4.0 in /usr/local/lib/python3.7/dist-packages (from spacy<3.0.0->texthero) (7.4.0)\n",
            "Requirement already satisfied: requests<3.0.0,>=2.13.0 in /usr/local/lib/python3.7/dist-packages (from spacy<3.0.0->texthero) (2.23.0)\n",
            "Requirement already satisfied: blis<0.5.0,>=0.4.0 in /usr/local/lib/python3.7/dist-packages (from spacy<3.0.0->texthero) (0.4.1)\n",
            "Requirement already satisfied: importlib-metadata>=0.20 in /usr/local/lib/python3.7/dist-packages (from catalogue<1.1.0,>=0.0.7->spacy<3.0.0->texthero) (4.11.2)\n",
            "Requirement already satisfied: typing-extensions>=3.6.4 in /usr/local/lib/python3.7/dist-packages (from importlib-metadata>=0.20->catalogue<1.1.0,>=0.0.7->spacy<3.0.0->texthero) (3.10.0.2)\n",
            "Requirement already satisfied: zipp>=0.5 in /usr/local/lib/python3.7/dist-packages (from importlib-metadata>=0.20->catalogue<1.1.0,>=0.0.7->spacy<3.0.0->texthero) (3.7.0)\n",
            "Requirement already satisfied: urllib3!=1.25.0,!=1.25.1,<1.26,>=1.21.1 in /usr/local/lib/python3.7/dist-packages (from requests<3.0.0,>=2.13.0->spacy<3.0.0->texthero) (1.24.3)\n",
            "Requirement already satisfied: certifi>=2017.4.17 in /usr/local/lib/python3.7/dist-packages (from requests<3.0.0,>=2.13.0->spacy<3.0.0->texthero) (2021.10.8)\n",
            "Requirement already satisfied: chardet<4,>=3.0.2 in /usr/local/lib/python3.7/dist-packages (from requests<3.0.0,>=2.13.0->spacy<3.0.0->texthero) (3.0.4)\n",
            "Requirement already satisfied: idna<3,>=2.5 in /usr/local/lib/python3.7/dist-packages (from requests<3.0.0,>=2.13.0->spacy<3.0.0->texthero) (2.10)\n",
            "Requirement already satisfied: pillow in /usr/local/lib/python3.7/dist-packages (from wordcloud>=1.5.0->texthero) (7.1.2)\n",
            "Requirement already satisfied: textfeatures in /usr/local/lib/python3.7/dist-packages (0.0.2)\n",
            "Requirement already satisfied: nltk in /usr/local/lib/python3.7/dist-packages (from textfeatures) (3.7)\n",
            "Requirement already satisfied: joblib in /usr/local/lib/python3.7/dist-packages (from nltk->textfeatures) (1.1.0)\n",
            "Requirement already satisfied: click in /usr/local/lib/python3.7/dist-packages (from nltk->textfeatures) (7.1.2)\n",
            "Requirement already satisfied: tqdm in /usr/local/lib/python3.7/dist-packages (from nltk->textfeatures) (4.63.0)\n",
            "Requirement already satisfied: regex>=2021.8.3 in /usr/local/lib/python3.7/dist-packages (from nltk->textfeatures) (2022.3.2)\n"
          ]
        }
      ],
      "source": [
        "!pip install texthero\n",
        "!pip install textfeatures"
      ]
    },
    {
      "cell_type": "code",
      "execution_count": 2,
      "metadata": {
        "id": "FWils4wt7DuV",
        "colab": {
          "base_uri": "https://localhost:8080/"
        },
        "outputId": "f48439f0-dda2-49d1-bf51-9287e1f75ef5"
      },
      "outputs": [
        {
          "output_type": "stream",
          "name": "stderr",
          "text": [
            "[nltk_data] Downloading package stopwords to /root/nltk_data...\n",
            "[nltk_data]   Package stopwords is already up-to-date!\n"
          ]
        }
      ],
      "source": [
        "import pandas as pd\n",
        "import texthero as hero\n",
        "from texthero import preprocessing\n",
        "import textfeatures as tf"
      ]
    },
    {
      "cell_type": "code",
      "execution_count": 3,
      "metadata": {
        "id": "LEFmYdypVwc-"
      },
      "outputs": [],
      "source": [
        "#create a custom cleaning pipeline\n",
        "custom_pipeline = [preprocessing.fillna,\n",
        "                    preprocessing.lowercase,\n",
        "                    preprocessing.remove_digits,\n",
        "                    preprocessing.remove_punctuation,\n",
        "                    preprocessing.remove_diacritics,\n",
        "                    preprocessing.remove_stopwords,\n",
        "                    preprocessing.remove_whitespace]"
      ]
    },
    {
      "cell_type": "code",
      "execution_count": 4,
      "metadata": {
        "id": "lb5hqHj06tEc"
      },
      "outputs": [],
      "source": [
        "df = pd.read_csv('abstracts.csv')"
      ]
    },
    {
      "cell_type": "code",
      "execution_count": 5,
      "metadata": {
        "colab": {
          "base_uri": "https://localhost:8080/"
        },
        "id": "BtIcbgD_6vjk",
        "outputId": "95c0e66f-4e6a-4814-a2c7-40eb8f231d96"
      },
      "outputs": [
        {
          "output_type": "stream",
          "name": "stdout",
          "text": [
            "<class 'pandas.core.frame.DataFrame'>\n",
            "RangeIndex: 3000 entries, 0 to 2999\n",
            "Data columns (total 3 columns):\n",
            " #   Column      Non-Null Count  Dtype \n",
            "---  ------      --------------  ----- \n",
            " 0   Unnamed: 0  3000 non-null   int64 \n",
            " 1   Title       3000 non-null   object\n",
            " 2   Abstract    3000 non-null   object\n",
            "dtypes: int64(1), object(2)\n",
            "memory usage: 70.4+ KB\n"
          ]
        }
      ],
      "source": [
        "df.info()"
      ]
    },
    {
      "cell_type": "code",
      "execution_count": 6,
      "metadata": {
        "colab": {
          "base_uri": "https://localhost:8080/",
          "height": 455
        },
        "id": "iJOV6L7iOkgj",
        "outputId": "e8e8569e-f59b-4dcf-c50c-3dc4962ec2a6"
      },
      "outputs": [
        {
          "output_type": "execute_result",
          "data": {
            "text/plain": [
              "                                                  Title  \\\n",
              "Id                                                        \n",
              "0     Interrogating the function of GABA<sub>A</sub>...   \n",
              "1     Floralozone improves cognitive impairment in v...   \n",
              "2     The effects of Vilazodone, YL-0919 and Vortiox...   \n",
              "3     Deciphering therapeutic options for neurodegen...   \n",
              "4     Therapeutic effect of extracellular vesicles f...   \n",
              "...                                                 ...   \n",
              "2995  Challenges and opportunities in translational ...   \n",
              "2996  Growth and Differentiation of Circulating Stem...   \n",
              "2997  Remote Ischemic Postconditioning vs. Physical ...   \n",
              "2998  Working Memory for Signs with Poor Visual Reso...   \n",
              "2999  6-Gingerol, an active constituent of ginger, a...   \n",
              "\n",
              "                                               Abstract  \n",
              "Id                                                       \n",
              "0     To better understand neural circuits and behav...  \n",
              "1     Vascular dementia (VD) is the second largest t...  \n",
              "2     Parkinson's disease is a neurodegenerative dis...  \n",
              "3     Silent information regulator 1 (SIRT1) is a ni...  \n",
              "4     Extracellular vesicles (EVs) are biologically ...  \n",
              "...                                                 ...  \n",
              "2995  For decades, basic research on the underlying ...  \n",
              "2996  Stem cell therapy is gaining momentum as an ef...  \n",
              "2997  There remain debates on neuroprotection and re...  \n",
              "2998  Stimulus degradation adds to working memory lo...  \n",
              "2999  This study examined the protective effect of 6...  \n",
              "\n",
              "[3000 rows x 2 columns]"
            ],
            "text/html": [
              "\n",
              "  <div id=\"df-c7b67104-7719-4d36-85b9-e4c3fddff178\">\n",
              "    <div class=\"colab-df-container\">\n",
              "      <div>\n",
              "<style scoped>\n",
              "    .dataframe tbody tr th:only-of-type {\n",
              "        vertical-align: middle;\n",
              "    }\n",
              "\n",
              "    .dataframe tbody tr th {\n",
              "        vertical-align: top;\n",
              "    }\n",
              "\n",
              "    .dataframe thead th {\n",
              "        text-align: right;\n",
              "    }\n",
              "</style>\n",
              "<table border=\"1\" class=\"dataframe\">\n",
              "  <thead>\n",
              "    <tr style=\"text-align: right;\">\n",
              "      <th></th>\n",
              "      <th>Title</th>\n",
              "      <th>Abstract</th>\n",
              "    </tr>\n",
              "    <tr>\n",
              "      <th>Id</th>\n",
              "      <th></th>\n",
              "      <th></th>\n",
              "    </tr>\n",
              "  </thead>\n",
              "  <tbody>\n",
              "    <tr>\n",
              "      <th>0</th>\n",
              "      <td>Interrogating the function of GABA&lt;sub&gt;A&lt;/sub&gt;...</td>\n",
              "      <td>To better understand neural circuits and behav...</td>\n",
              "    </tr>\n",
              "    <tr>\n",
              "      <th>1</th>\n",
              "      <td>Floralozone improves cognitive impairment in v...</td>\n",
              "      <td>Vascular dementia (VD) is the second largest t...</td>\n",
              "    </tr>\n",
              "    <tr>\n",
              "      <th>2</th>\n",
              "      <td>The effects of Vilazodone, YL-0919 and Vortiox...</td>\n",
              "      <td>Parkinson's disease is a neurodegenerative dis...</td>\n",
              "    </tr>\n",
              "    <tr>\n",
              "      <th>3</th>\n",
              "      <td>Deciphering therapeutic options for neurodegen...</td>\n",
              "      <td>Silent information regulator 1 (SIRT1) is a ni...</td>\n",
              "    </tr>\n",
              "    <tr>\n",
              "      <th>4</th>\n",
              "      <td>Therapeutic effect of extracellular vesicles f...</td>\n",
              "      <td>Extracellular vesicles (EVs) are biologically ...</td>\n",
              "    </tr>\n",
              "    <tr>\n",
              "      <th>...</th>\n",
              "      <td>...</td>\n",
              "      <td>...</td>\n",
              "    </tr>\n",
              "    <tr>\n",
              "      <th>2995</th>\n",
              "      <td>Challenges and opportunities in translational ...</td>\n",
              "      <td>For decades, basic research on the underlying ...</td>\n",
              "    </tr>\n",
              "    <tr>\n",
              "      <th>2996</th>\n",
              "      <td>Growth and Differentiation of Circulating Stem...</td>\n",
              "      <td>Stem cell therapy is gaining momentum as an ef...</td>\n",
              "    </tr>\n",
              "    <tr>\n",
              "      <th>2997</th>\n",
              "      <td>Remote Ischemic Postconditioning vs. Physical ...</td>\n",
              "      <td>There remain debates on neuroprotection and re...</td>\n",
              "    </tr>\n",
              "    <tr>\n",
              "      <th>2998</th>\n",
              "      <td>Working Memory for Signs with Poor Visual Reso...</td>\n",
              "      <td>Stimulus degradation adds to working memory lo...</td>\n",
              "    </tr>\n",
              "    <tr>\n",
              "      <th>2999</th>\n",
              "      <td>6-Gingerol, an active constituent of ginger, a...</td>\n",
              "      <td>This study examined the protective effect of 6...</td>\n",
              "    </tr>\n",
              "  </tbody>\n",
              "</table>\n",
              "<p>3000 rows × 2 columns</p>\n",
              "</div>\n",
              "      <button class=\"colab-df-convert\" onclick=\"convertToInteractive('df-c7b67104-7719-4d36-85b9-e4c3fddff178')\"\n",
              "              title=\"Convert this dataframe to an interactive table.\"\n",
              "              style=\"display:none;\">\n",
              "        \n",
              "  <svg xmlns=\"http://www.w3.org/2000/svg\" height=\"24px\"viewBox=\"0 0 24 24\"\n",
              "       width=\"24px\">\n",
              "    <path d=\"M0 0h24v24H0V0z\" fill=\"none\"/>\n",
              "    <path d=\"M18.56 5.44l.94 2.06.94-2.06 2.06-.94-2.06-.94-.94-2.06-.94 2.06-2.06.94zm-11 1L8.5 8.5l.94-2.06 2.06-.94-2.06-.94L8.5 2.5l-.94 2.06-2.06.94zm10 10l.94 2.06.94-2.06 2.06-.94-2.06-.94-.94-2.06-.94 2.06-2.06.94z\"/><path d=\"M17.41 7.96l-1.37-1.37c-.4-.4-.92-.59-1.43-.59-.52 0-1.04.2-1.43.59L10.3 9.45l-7.72 7.72c-.78.78-.78 2.05 0 2.83L4 21.41c.39.39.9.59 1.41.59.51 0 1.02-.2 1.41-.59l7.78-7.78 2.81-2.81c.8-.78.8-2.07 0-2.86zM5.41 20L4 18.59l7.72-7.72 1.47 1.35L5.41 20z\"/>\n",
              "  </svg>\n",
              "      </button>\n",
              "      \n",
              "  <style>\n",
              "    .colab-df-container {\n",
              "      display:flex;\n",
              "      flex-wrap:wrap;\n",
              "      gap: 12px;\n",
              "    }\n",
              "\n",
              "    .colab-df-convert {\n",
              "      background-color: #E8F0FE;\n",
              "      border: none;\n",
              "      border-radius: 50%;\n",
              "      cursor: pointer;\n",
              "      display: none;\n",
              "      fill: #1967D2;\n",
              "      height: 32px;\n",
              "      padding: 0 0 0 0;\n",
              "      width: 32px;\n",
              "    }\n",
              "\n",
              "    .colab-df-convert:hover {\n",
              "      background-color: #E2EBFA;\n",
              "      box-shadow: 0px 1px 2px rgba(60, 64, 67, 0.3), 0px 1px 3px 1px rgba(60, 64, 67, 0.15);\n",
              "      fill: #174EA6;\n",
              "    }\n",
              "\n",
              "    [theme=dark] .colab-df-convert {\n",
              "      background-color: #3B4455;\n",
              "      fill: #D2E3FC;\n",
              "    }\n",
              "\n",
              "    [theme=dark] .colab-df-convert:hover {\n",
              "      background-color: #434B5C;\n",
              "      box-shadow: 0px 1px 3px 1px rgba(0, 0, 0, 0.15);\n",
              "      filter: drop-shadow(0px 1px 2px rgba(0, 0, 0, 0.3));\n",
              "      fill: #FFFFFF;\n",
              "    }\n",
              "  </style>\n",
              "\n",
              "      <script>\n",
              "        const buttonEl =\n",
              "          document.querySelector('#df-c7b67104-7719-4d36-85b9-e4c3fddff178 button.colab-df-convert');\n",
              "        buttonEl.style.display =\n",
              "          google.colab.kernel.accessAllowed ? 'block' : 'none';\n",
              "\n",
              "        async function convertToInteractive(key) {\n",
              "          const element = document.querySelector('#df-c7b67104-7719-4d36-85b9-e4c3fddff178');\n",
              "          const dataTable =\n",
              "            await google.colab.kernel.invokeFunction('convertToInteractive',\n",
              "                                                     [key], {});\n",
              "          if (!dataTable) return;\n",
              "\n",
              "          const docLinkHtml = 'Like what you see? Visit the ' +\n",
              "            '<a target=\"_blank\" href=https://colab.research.google.com/notebooks/data_table.ipynb>data table notebook</a>'\n",
              "            + ' to learn more about interactive tables.';\n",
              "          element.innerHTML = '';\n",
              "          dataTable['output_type'] = 'display_data';\n",
              "          await google.colab.output.renderOutput(dataTable, element);\n",
              "          const docLink = document.createElement('div');\n",
              "          docLink.innerHTML = docLinkHtml;\n",
              "          element.appendChild(docLink);\n",
              "        }\n",
              "      </script>\n",
              "    </div>\n",
              "  </div>\n",
              "  "
            ]
          },
          "metadata": {},
          "execution_count": 6
        }
      ],
      "source": [
        "df = df.rename(columns={'Unnamed: 0': 'Id'})\n",
        "df.set_index('Id')"
      ]
    },
    {
      "cell_type": "markdown",
      "metadata": {
        "id": "ssYORnQ2VwdB"
      },
      "source": [
        "# Cleaning abstracts"
      ]
    },
    {
      "cell_type": "code",
      "execution_count": 7,
      "metadata": {
        "colab": {
          "base_uri": "https://localhost:8080/",
          "height": 607
        },
        "id": "mh6irRPGVwdC",
        "outputId": "bbd36037-5481-441e-fd25-58cd67250be3"
      },
      "outputs": [
        {
          "output_type": "execute_result",
          "data": {
            "text/plain": [
              "        Id                                              Title  \\\n",
              "0        0  Interrogating the function of GABA<sub>A</sub>...   \n",
              "1        1  Floralozone improves cognitive impairment in v...   \n",
              "2        2  The effects of Vilazodone, YL-0919 and Vortiox...   \n",
              "3        3  Deciphering therapeutic options for neurodegen...   \n",
              "4        4  Therapeutic effect of extracellular vesicles f...   \n",
              "...    ...                                                ...   \n",
              "2995  2995  Challenges and opportunities in translational ...   \n",
              "2996  2996  Growth and Differentiation of Circulating Stem...   \n",
              "2997  2997  Remote Ischemic Postconditioning vs. Physical ...   \n",
              "2998  2998  Working Memory for Signs with Poor Visual Reso...   \n",
              "2999  2999  6-Gingerol, an active constituent of ginger, a...   \n",
              "\n",
              "                                               Abstract  \\\n",
              "0     To better understand neural circuits and behav...   \n",
              "1     Vascular dementia (VD) is the second largest t...   \n",
              "2     Parkinson's disease is a neurodegenerative dis...   \n",
              "3     Silent information regulator 1 (SIRT1) is a ni...   \n",
              "4     Extracellular vesicles (EVs) are biologically ...   \n",
              "...                                                 ...   \n",
              "2995  For decades, basic research on the underlying ...   \n",
              "2996  Stem cell therapy is gaining momentum as an ef...   \n",
              "2997  There remain debates on neuroprotection and re...   \n",
              "2998  Stimulus degradation adds to working memory lo...   \n",
              "2999  This study examined the protective effect of 6...   \n",
              "\n",
              "                                        clean_abstracts  \n",
              "0     better understand neural circuits behavior mic...  \n",
              "1     vascular dementia vd second largest type demen...  \n",
              "2     parkinson disease neurodegenerative disease of...  \n",
              "3     silent information regulator sirt1 nicotinamid...  \n",
              "4     extracellular vesicles evs biologically active...  \n",
              "...                                                 ...  \n",
              "2995  decades basic research underlying mechanisms n...  \n",
              "2996  stem cell therapy gaining momentum effective t...  \n",
              "2997  remain debates neuroprotection rehabilitation ...  \n",
              "2998  stimulus degradation adds working memory load ...  \n",
              "2999  study examined protective effect gingerol 6g l...  \n",
              "\n",
              "[3000 rows x 4 columns]"
            ],
            "text/html": [
              "\n",
              "  <div id=\"df-6425955c-a4ae-4681-9450-4623f4f57da1\">\n",
              "    <div class=\"colab-df-container\">\n",
              "      <div>\n",
              "<style scoped>\n",
              "    .dataframe tbody tr th:only-of-type {\n",
              "        vertical-align: middle;\n",
              "    }\n",
              "\n",
              "    .dataframe tbody tr th {\n",
              "        vertical-align: top;\n",
              "    }\n",
              "\n",
              "    .dataframe thead th {\n",
              "        text-align: right;\n",
              "    }\n",
              "</style>\n",
              "<table border=\"1\" class=\"dataframe\">\n",
              "  <thead>\n",
              "    <tr style=\"text-align: right;\">\n",
              "      <th></th>\n",
              "      <th>Id</th>\n",
              "      <th>Title</th>\n",
              "      <th>Abstract</th>\n",
              "      <th>clean_abstracts</th>\n",
              "    </tr>\n",
              "  </thead>\n",
              "  <tbody>\n",
              "    <tr>\n",
              "      <th>0</th>\n",
              "      <td>0</td>\n",
              "      <td>Interrogating the function of GABA&lt;sub&gt;A&lt;/sub&gt;...</td>\n",
              "      <td>To better understand neural circuits and behav...</td>\n",
              "      <td>better understand neural circuits behavior mic...</td>\n",
              "    </tr>\n",
              "    <tr>\n",
              "      <th>1</th>\n",
              "      <td>1</td>\n",
              "      <td>Floralozone improves cognitive impairment in v...</td>\n",
              "      <td>Vascular dementia (VD) is the second largest t...</td>\n",
              "      <td>vascular dementia vd second largest type demen...</td>\n",
              "    </tr>\n",
              "    <tr>\n",
              "      <th>2</th>\n",
              "      <td>2</td>\n",
              "      <td>The effects of Vilazodone, YL-0919 and Vortiox...</td>\n",
              "      <td>Parkinson's disease is a neurodegenerative dis...</td>\n",
              "      <td>parkinson disease neurodegenerative disease of...</td>\n",
              "    </tr>\n",
              "    <tr>\n",
              "      <th>3</th>\n",
              "      <td>3</td>\n",
              "      <td>Deciphering therapeutic options for neurodegen...</td>\n",
              "      <td>Silent information regulator 1 (SIRT1) is a ni...</td>\n",
              "      <td>silent information regulator sirt1 nicotinamid...</td>\n",
              "    </tr>\n",
              "    <tr>\n",
              "      <th>4</th>\n",
              "      <td>4</td>\n",
              "      <td>Therapeutic effect of extracellular vesicles f...</td>\n",
              "      <td>Extracellular vesicles (EVs) are biologically ...</td>\n",
              "      <td>extracellular vesicles evs biologically active...</td>\n",
              "    </tr>\n",
              "    <tr>\n",
              "      <th>...</th>\n",
              "      <td>...</td>\n",
              "      <td>...</td>\n",
              "      <td>...</td>\n",
              "      <td>...</td>\n",
              "    </tr>\n",
              "    <tr>\n",
              "      <th>2995</th>\n",
              "      <td>2995</td>\n",
              "      <td>Challenges and opportunities in translational ...</td>\n",
              "      <td>For decades, basic research on the underlying ...</td>\n",
              "      <td>decades basic research underlying mechanisms n...</td>\n",
              "    </tr>\n",
              "    <tr>\n",
              "      <th>2996</th>\n",
              "      <td>2996</td>\n",
              "      <td>Growth and Differentiation of Circulating Stem...</td>\n",
              "      <td>Stem cell therapy is gaining momentum as an ef...</td>\n",
              "      <td>stem cell therapy gaining momentum effective t...</td>\n",
              "    </tr>\n",
              "    <tr>\n",
              "      <th>2997</th>\n",
              "      <td>2997</td>\n",
              "      <td>Remote Ischemic Postconditioning vs. Physical ...</td>\n",
              "      <td>There remain debates on neuroprotection and re...</td>\n",
              "      <td>remain debates neuroprotection rehabilitation ...</td>\n",
              "    </tr>\n",
              "    <tr>\n",
              "      <th>2998</th>\n",
              "      <td>2998</td>\n",
              "      <td>Working Memory for Signs with Poor Visual Reso...</td>\n",
              "      <td>Stimulus degradation adds to working memory lo...</td>\n",
              "      <td>stimulus degradation adds working memory load ...</td>\n",
              "    </tr>\n",
              "    <tr>\n",
              "      <th>2999</th>\n",
              "      <td>2999</td>\n",
              "      <td>6-Gingerol, an active constituent of ginger, a...</td>\n",
              "      <td>This study examined the protective effect of 6...</td>\n",
              "      <td>study examined protective effect gingerol 6g l...</td>\n",
              "    </tr>\n",
              "  </tbody>\n",
              "</table>\n",
              "<p>3000 rows × 4 columns</p>\n",
              "</div>\n",
              "      <button class=\"colab-df-convert\" onclick=\"convertToInteractive('df-6425955c-a4ae-4681-9450-4623f4f57da1')\"\n",
              "              title=\"Convert this dataframe to an interactive table.\"\n",
              "              style=\"display:none;\">\n",
              "        \n",
              "  <svg xmlns=\"http://www.w3.org/2000/svg\" height=\"24px\"viewBox=\"0 0 24 24\"\n",
              "       width=\"24px\">\n",
              "    <path d=\"M0 0h24v24H0V0z\" fill=\"none\"/>\n",
              "    <path d=\"M18.56 5.44l.94 2.06.94-2.06 2.06-.94-2.06-.94-.94-2.06-.94 2.06-2.06.94zm-11 1L8.5 8.5l.94-2.06 2.06-.94-2.06-.94L8.5 2.5l-.94 2.06-2.06.94zm10 10l.94 2.06.94-2.06 2.06-.94-2.06-.94-.94-2.06-.94 2.06-2.06.94z\"/><path d=\"M17.41 7.96l-1.37-1.37c-.4-.4-.92-.59-1.43-.59-.52 0-1.04.2-1.43.59L10.3 9.45l-7.72 7.72c-.78.78-.78 2.05 0 2.83L4 21.41c.39.39.9.59 1.41.59.51 0 1.02-.2 1.41-.59l7.78-7.78 2.81-2.81c.8-.78.8-2.07 0-2.86zM5.41 20L4 18.59l7.72-7.72 1.47 1.35L5.41 20z\"/>\n",
              "  </svg>\n",
              "      </button>\n",
              "      \n",
              "  <style>\n",
              "    .colab-df-container {\n",
              "      display:flex;\n",
              "      flex-wrap:wrap;\n",
              "      gap: 12px;\n",
              "    }\n",
              "\n",
              "    .colab-df-convert {\n",
              "      background-color: #E8F0FE;\n",
              "      border: none;\n",
              "      border-radius: 50%;\n",
              "      cursor: pointer;\n",
              "      display: none;\n",
              "      fill: #1967D2;\n",
              "      height: 32px;\n",
              "      padding: 0 0 0 0;\n",
              "      width: 32px;\n",
              "    }\n",
              "\n",
              "    .colab-df-convert:hover {\n",
              "      background-color: #E2EBFA;\n",
              "      box-shadow: 0px 1px 2px rgba(60, 64, 67, 0.3), 0px 1px 3px 1px rgba(60, 64, 67, 0.15);\n",
              "      fill: #174EA6;\n",
              "    }\n",
              "\n",
              "    [theme=dark] .colab-df-convert {\n",
              "      background-color: #3B4455;\n",
              "      fill: #D2E3FC;\n",
              "    }\n",
              "\n",
              "    [theme=dark] .colab-df-convert:hover {\n",
              "      background-color: #434B5C;\n",
              "      box-shadow: 0px 1px 3px 1px rgba(0, 0, 0, 0.15);\n",
              "      filter: drop-shadow(0px 1px 2px rgba(0, 0, 0, 0.3));\n",
              "      fill: #FFFFFF;\n",
              "    }\n",
              "  </style>\n",
              "\n",
              "      <script>\n",
              "        const buttonEl =\n",
              "          document.querySelector('#df-6425955c-a4ae-4681-9450-4623f4f57da1 button.colab-df-convert');\n",
              "        buttonEl.style.display =\n",
              "          google.colab.kernel.accessAllowed ? 'block' : 'none';\n",
              "\n",
              "        async function convertToInteractive(key) {\n",
              "          const element = document.querySelector('#df-6425955c-a4ae-4681-9450-4623f4f57da1');\n",
              "          const dataTable =\n",
              "            await google.colab.kernel.invokeFunction('convertToInteractive',\n",
              "                                                     [key], {});\n",
              "          if (!dataTable) return;\n",
              "\n",
              "          const docLinkHtml = 'Like what you see? Visit the ' +\n",
              "            '<a target=\"_blank\" href=https://colab.research.google.com/notebooks/data_table.ipynb>data table notebook</a>'\n",
              "            + ' to learn more about interactive tables.';\n",
              "          element.innerHTML = '';\n",
              "          dataTable['output_type'] = 'display_data';\n",
              "          await google.colab.output.renderOutput(dataTable, element);\n",
              "          const docLink = document.createElement('div');\n",
              "          docLink.innerHTML = docLinkHtml;\n",
              "          element.appendChild(docLink);\n",
              "        }\n",
              "      </script>\n",
              "    </div>\n",
              "  </div>\n",
              "  "
            ]
          },
          "metadata": {},
          "execution_count": 7
        }
      ],
      "source": [
        "df['clean_abstracts'] = hero.clean(df['Abstract'], pipeline = custom_pipeline)\n",
        "df"
      ]
    },
    {
      "cell_type": "code",
      "execution_count": 8,
      "metadata": {
        "colab": {
          "base_uri": "https://localhost:8080/",
          "height": 363
        },
        "id": "SXB8MzP4VwdD",
        "outputId": "b643786f-9b07-4dce-f1bf-4a724fbdee3e"
      },
      "outputs": [
        {
          "output_type": "execute_result",
          "data": {
            "text/plain": [
              "                                     clean_abstracts  word_cnt\n",
              "0  better understand neural circuits behavior mic...       133\n",
              "1  vascular dementia vd second largest type demen...       190\n",
              "2  parkinson disease neurodegenerative disease of...       215\n",
              "3  silent information regulator sirt1 nicotinamid...       102\n",
              "4  extracellular vesicles evs biologically active...        79\n",
              "5  tauopathies group neurodegenerative diseases a...        91\n",
              "6  management chronic neuropathic pain remains ch...        97\n",
              "7  neuromuscular training nmt facilitates acquisi...        18\n",
              "8  post traumatic stress disorder ptsd emerged se...        23\n",
              "9  substantial evidence indicates bisphenol bpa u...       141"
            ],
            "text/html": [
              "\n",
              "  <div id=\"df-9982d5ff-8ae8-4567-886f-140f90753d3c\">\n",
              "    <div class=\"colab-df-container\">\n",
              "      <div>\n",
              "<style scoped>\n",
              "    .dataframe tbody tr th:only-of-type {\n",
              "        vertical-align: middle;\n",
              "    }\n",
              "\n",
              "    .dataframe tbody tr th {\n",
              "        vertical-align: top;\n",
              "    }\n",
              "\n",
              "    .dataframe thead th {\n",
              "        text-align: right;\n",
              "    }\n",
              "</style>\n",
              "<table border=\"1\" class=\"dataframe\">\n",
              "  <thead>\n",
              "    <tr style=\"text-align: right;\">\n",
              "      <th></th>\n",
              "      <th>clean_abstracts</th>\n",
              "      <th>word_cnt</th>\n",
              "    </tr>\n",
              "  </thead>\n",
              "  <tbody>\n",
              "    <tr>\n",
              "      <th>0</th>\n",
              "      <td>better understand neural circuits behavior mic...</td>\n",
              "      <td>133</td>\n",
              "    </tr>\n",
              "    <tr>\n",
              "      <th>1</th>\n",
              "      <td>vascular dementia vd second largest type demen...</td>\n",
              "      <td>190</td>\n",
              "    </tr>\n",
              "    <tr>\n",
              "      <th>2</th>\n",
              "      <td>parkinson disease neurodegenerative disease of...</td>\n",
              "      <td>215</td>\n",
              "    </tr>\n",
              "    <tr>\n",
              "      <th>3</th>\n",
              "      <td>silent information regulator sirt1 nicotinamid...</td>\n",
              "      <td>102</td>\n",
              "    </tr>\n",
              "    <tr>\n",
              "      <th>4</th>\n",
              "      <td>extracellular vesicles evs biologically active...</td>\n",
              "      <td>79</td>\n",
              "    </tr>\n",
              "    <tr>\n",
              "      <th>5</th>\n",
              "      <td>tauopathies group neurodegenerative diseases a...</td>\n",
              "      <td>91</td>\n",
              "    </tr>\n",
              "    <tr>\n",
              "      <th>6</th>\n",
              "      <td>management chronic neuropathic pain remains ch...</td>\n",
              "      <td>97</td>\n",
              "    </tr>\n",
              "    <tr>\n",
              "      <th>7</th>\n",
              "      <td>neuromuscular training nmt facilitates acquisi...</td>\n",
              "      <td>18</td>\n",
              "    </tr>\n",
              "    <tr>\n",
              "      <th>8</th>\n",
              "      <td>post traumatic stress disorder ptsd emerged se...</td>\n",
              "      <td>23</td>\n",
              "    </tr>\n",
              "    <tr>\n",
              "      <th>9</th>\n",
              "      <td>substantial evidence indicates bisphenol bpa u...</td>\n",
              "      <td>141</td>\n",
              "    </tr>\n",
              "  </tbody>\n",
              "</table>\n",
              "</div>\n",
              "      <button class=\"colab-df-convert\" onclick=\"convertToInteractive('df-9982d5ff-8ae8-4567-886f-140f90753d3c')\"\n",
              "              title=\"Convert this dataframe to an interactive table.\"\n",
              "              style=\"display:none;\">\n",
              "        \n",
              "  <svg xmlns=\"http://www.w3.org/2000/svg\" height=\"24px\"viewBox=\"0 0 24 24\"\n",
              "       width=\"24px\">\n",
              "    <path d=\"M0 0h24v24H0V0z\" fill=\"none\"/>\n",
              "    <path d=\"M18.56 5.44l.94 2.06.94-2.06 2.06-.94-2.06-.94-.94-2.06-.94 2.06-2.06.94zm-11 1L8.5 8.5l.94-2.06 2.06-.94-2.06-.94L8.5 2.5l-.94 2.06-2.06.94zm10 10l.94 2.06.94-2.06 2.06-.94-2.06-.94-.94-2.06-.94 2.06-2.06.94z\"/><path d=\"M17.41 7.96l-1.37-1.37c-.4-.4-.92-.59-1.43-.59-.52 0-1.04.2-1.43.59L10.3 9.45l-7.72 7.72c-.78.78-.78 2.05 0 2.83L4 21.41c.39.39.9.59 1.41.59.51 0 1.02-.2 1.41-.59l7.78-7.78 2.81-2.81c.8-.78.8-2.07 0-2.86zM5.41 20L4 18.59l7.72-7.72 1.47 1.35L5.41 20z\"/>\n",
              "  </svg>\n",
              "      </button>\n",
              "      \n",
              "  <style>\n",
              "    .colab-df-container {\n",
              "      display:flex;\n",
              "      flex-wrap:wrap;\n",
              "      gap: 12px;\n",
              "    }\n",
              "\n",
              "    .colab-df-convert {\n",
              "      background-color: #E8F0FE;\n",
              "      border: none;\n",
              "      border-radius: 50%;\n",
              "      cursor: pointer;\n",
              "      display: none;\n",
              "      fill: #1967D2;\n",
              "      height: 32px;\n",
              "      padding: 0 0 0 0;\n",
              "      width: 32px;\n",
              "    }\n",
              "\n",
              "    .colab-df-convert:hover {\n",
              "      background-color: #E2EBFA;\n",
              "      box-shadow: 0px 1px 2px rgba(60, 64, 67, 0.3), 0px 1px 3px 1px rgba(60, 64, 67, 0.15);\n",
              "      fill: #174EA6;\n",
              "    }\n",
              "\n",
              "    [theme=dark] .colab-df-convert {\n",
              "      background-color: #3B4455;\n",
              "      fill: #D2E3FC;\n",
              "    }\n",
              "\n",
              "    [theme=dark] .colab-df-convert:hover {\n",
              "      background-color: #434B5C;\n",
              "      box-shadow: 0px 1px 3px 1px rgba(0, 0, 0, 0.15);\n",
              "      filter: drop-shadow(0px 1px 2px rgba(0, 0, 0, 0.3));\n",
              "      fill: #FFFFFF;\n",
              "    }\n",
              "  </style>\n",
              "\n",
              "      <script>\n",
              "        const buttonEl =\n",
              "          document.querySelector('#df-9982d5ff-8ae8-4567-886f-140f90753d3c button.colab-df-convert');\n",
              "        buttonEl.style.display =\n",
              "          google.colab.kernel.accessAllowed ? 'block' : 'none';\n",
              "\n",
              "        async function convertToInteractive(key) {\n",
              "          const element = document.querySelector('#df-9982d5ff-8ae8-4567-886f-140f90753d3c');\n",
              "          const dataTable =\n",
              "            await google.colab.kernel.invokeFunction('convertToInteractive',\n",
              "                                                     [key], {});\n",
              "          if (!dataTable) return;\n",
              "\n",
              "          const docLinkHtml = 'Like what you see? Visit the ' +\n",
              "            '<a target=\"_blank\" href=https://colab.research.google.com/notebooks/data_table.ipynb>data table notebook</a>'\n",
              "            + ' to learn more about interactive tables.';\n",
              "          element.innerHTML = '';\n",
              "          dataTable['output_type'] = 'display_data';\n",
              "          await google.colab.output.renderOutput(dataTable, element);\n",
              "          const docLink = document.createElement('div');\n",
              "          docLink.innerHTML = docLinkHtml;\n",
              "          element.appendChild(docLink);\n",
              "        }\n",
              "      </script>\n",
              "    </div>\n",
              "  </div>\n",
              "  "
            ]
          },
          "metadata": {},
          "execution_count": 8
        }
      ],
      "source": [
        "# Getting word count using text features\n",
        "tf.word_count(df,\"clean_abstracts\",\"word_cnt\")\n",
        "df[[\"clean_abstracts\",\"word_cnt\"]].head(10)"
      ]
    },
    {
      "cell_type": "code",
      "execution_count": 9,
      "metadata": {
        "id": "cpQSPJpE6vlv"
      },
      "outputs": [],
      "source": [
        "# Data preprocessing\n",
        "from sklearn.feature_extraction.text import TfidfVectorizer\n",
        "from sklearn.cluster import KMeans\n",
        "\n",
        "documents = df['clean_abstracts'].values.astype(\"U\")\n",
        "\n",
        "vectorizer = TfidfVectorizer(stop_words='english')\n",
        "features = vectorizer.fit_transform(documents)"
      ]
    },
    {
      "cell_type": "code",
      "source": [
        "feature_names = vectorizer.get_feature_names()"
      ],
      "metadata": {
        "colab": {
          "base_uri": "https://localhost:8080/"
        },
        "id": "G2InkvPn6TwV",
        "outputId": "b329dce4-05a9-44b9-e6e5-af0eb95dca46"
      },
      "execution_count": 10,
      "outputs": [
        {
          "output_type": "stream",
          "name": "stderr",
          "text": [
            "/usr/local/lib/python3.7/dist-packages/sklearn/utils/deprecation.py:87: FutureWarning: Function get_feature_names is deprecated; get_feature_names is deprecated in 1.0 and will be removed in 1.2. Please use get_feature_names_out instead.\n",
            "  warnings.warn(msg, category=FutureWarning)\n"
          ]
        }
      ]
    },
    {
      "cell_type": "markdown",
      "metadata": {
        "id": "zmmqGoxB6_wx"
      },
      "source": [
        "# K-Means\n",
        "\n",
        "1) Deciding the number of clusters"
      ]
    },
    {
      "cell_type": "code",
      "execution_count": 11,
      "metadata": {
        "id": "JmimGaNV6vpd"
      },
      "outputs": [],
      "source": [
        "kmeans_kwargs = {  \n",
        "        \"init\": \"random\",\n",
        "        \"n_init\": 10,\n",
        "        \"max_iter\": 300,\n",
        "        \"random_state\": 42,\n",
        "    }\n",
        "   \n",
        "# A list holds the SSE values for each k\n",
        "sse = []  # sum of squared error (distances in our case)\n",
        "for k in range(1, 21):  # we will try clustering data into range(1, 11) clusters\n",
        "  kmeans = KMeans(n_clusters=k, **kmeans_kwargs)  # initiates the k-means algorithm\n",
        "  kmeans.fit(features)  # fits k-means on our data\n",
        "  sse.append(kmeans.inertia_)  # Sum of squared distances of samples to their closest cluster center.kl.plot_knee()"
      ]
    },
    {
      "cell_type": "code",
      "execution_count": 12,
      "metadata": {
        "id": "arIlUJ0e-tEg"
      },
      "outputs": [],
      "source": [
        " import matplotlib.pyplot as plt"
      ]
    },
    {
      "cell_type": "code",
      "execution_count": 13,
      "metadata": {
        "colab": {
          "base_uri": "https://localhost:8080/",
          "height": 279
        },
        "id": "jE-s1b_76vsg",
        "outputId": "dfe99d85-9f63-4a50-a67c-532a3b948e68"
      },
      "outputs": [
        {
          "output_type": "display_data",
          "data": {
            "text/plain": [
              "<Figure size 432x288 with 1 Axes>"
            ],
            "image/png": "[encoded data removed]"
          },
          "metadata": {}
        }
      ],
      "source": [
        "fig, axs = plt.subplots()\n",
        "plt.plot(range(1, 21), sse)\n",
        "plt.xticks(range(1, 21))\n",
        "plt.xlabel(\"Number of Clusters\")\n",
        "plt.ylabel(\"SSE\")\n",
        "\n",
        "fig.set(facecolor='white')\n",
        "plt.show()"
      ]
    },
    {
      "cell_type": "code",
      "execution_count": 14,
      "metadata": {
        "colab": {
          "base_uri": "https://localhost:8080/"
        },
        "id": "-Qb039GJ7Q-g",
        "outputId": "bc09ab8b-7962-4d6d-8042-b4d0308ec124"
      },
      "outputs": [
        {
          "output_type": "stream",
          "name": "stdout",
          "text": [
            "Collecting kneed\n",
            "  Downloading kneed-0.7.0-py2.py3-none-any.whl (9.4 kB)\n",
            "Requirement already satisfied: scipy in /usr/local/lib/python3.7/dist-packages (from kneed) (1.4.1)\n",
            "Requirement already satisfied: numpy>=1.14.2 in /usr/local/lib/python3.7/dist-packages (from kneed) (1.21.5)\n",
            "Requirement already satisfied: matplotlib in /usr/local/lib/python3.7/dist-packages (from kneed) (3.2.2)\n",
            "Requirement already satisfied: python-dateutil>=2.1 in /usr/local/lib/python3.7/dist-packages (from matplotlib->kneed) (2.8.2)\n",
            "Requirement already satisfied: cycler>=0.10 in /usr/local/lib/python3.7/dist-packages (from matplotlib->kneed) (0.11.0)\n",
            "Requirement already satisfied: pyparsing!=2.0.4,!=2.1.2,!=2.1.6,>=2.0.1 in /usr/local/lib/python3.7/dist-packages (from matplotlib->kneed) (3.0.7)\n",
            "Requirement already satisfied: kiwisolver>=1.0.1 in /usr/local/lib/python3.7/dist-packages (from matplotlib->kneed) (1.3.2)\n",
            "Requirement already satisfied: six>=1.5 in /usr/local/lib/python3.7/dist-packages (from python-dateutil>=2.1->matplotlib->kneed) (1.15.0)\n",
            "Installing collected packages: kneed\n",
            "Successfully installed kneed-0.7.0\n"
          ]
        }
      ],
      "source": [
        "pip install kneed"
      ]
    },
    {
      "cell_type": "code",
      "execution_count": 15,
      "metadata": {
        "colab": {
          "base_uri": "https://localhost:8080/"
        },
        "id": "y0ZS2VJl7RAY",
        "outputId": "849a603e-89c0-49eb-e20a-20b1f6265c21"
      },
      "outputs": [
        {
          "output_type": "stream",
          "name": "stdout",
          "text": [
            "We should use 13 clusters.\n"
          ]
        }
      ],
      "source": [
        "from kneed import KneeLocator\n",
        "import matplotlib.pyplot as plt  # plotting\n",
        "\n",
        "kl = KneeLocator(\n",
        "    range(1, 21), sse, curve=\"convex\", direction=\"decreasing\"\n",
        "    )\n",
        "\n",
        "print(f'We should use {kl.elbow} clusters.')"
      ]
    },
    {
      "cell_type": "code",
      "execution_count": 16,
      "metadata": {
        "colab": {
          "base_uri": "https://localhost:8080/",
          "height": 390
        },
        "id": "r8q28mQw7REK",
        "outputId": "794cc2e4-31f2-4040-8a02-a1916d6c25f0"
      },
      "outputs": [
        {
          "output_type": "display_data",
          "data": {
            "text/plain": [
              "<Figure size 432x432 with 1 Axes>"
            ],
            "image/png": "[encoded data removed]"
          },
          "metadata": {
            "needs_background": "light"
          }
        }
      ],
      "source": [
        "kl.plot_knee()"
      ]
    },
    {
      "cell_type": "code",
      "execution_count": 17,
      "metadata": {
        "colab": {
          "base_uri": "https://localhost:8080/"
        },
        "id": "PTM5R7lE7RF_",
        "outputId": "2587cf07-e883-4fcc-b4ba-11ad0ce8b44b"
      },
      "outputs": [
        {
          "output_type": "execute_result",
          "data": {
            "text/plain": [
              "KMeans(max_iter=100, n_clusters=13, n_init=1)"
            ]
          },
          "metadata": {},
          "execution_count": 17
        }
      ],
      "source": [
        "k = 13\n",
        "model = KMeans(n_clusters=k, init='k-means++', max_iter=100, n_init=1)\n",
        "model.fit(features)"
      ]
    },
    {
      "cell_type": "code",
      "execution_count": 18,
      "metadata": {
        "colab": {
          "base_uri": "https://localhost:8080/",
          "height": 337
        },
        "id": "MFC9Dtuk7RJ8",
        "outputId": "60cc28ec-507c-44c4-8346-8df4f5dddf8e"
      },
      "outputs": [
        {
          "output_type": "execute_result",
          "data": {
            "text/plain": [
              "   Id                                              Title  \\\n",
              "0   0  Interrogating the function of GABA<sub>A</sub>...   \n",
              "1   1  Floralozone improves cognitive impairment in v...   \n",
              "2   2  The effects of Vilazodone, YL-0919 and Vortiox...   \n",
              "3   3  Deciphering therapeutic options for neurodegen...   \n",
              "4   4  Therapeutic effect of extracellular vesicles f...   \n",
              "\n",
              "                                            Abstract  \\\n",
              "0  To better understand neural circuits and behav...   \n",
              "1  Vascular dementia (VD) is the second largest t...   \n",
              "2  Parkinson's disease is a neurodegenerative dis...   \n",
              "3  Silent information regulator 1 (SIRT1) is a ni...   \n",
              "4  Extracellular vesicles (EVs) are biologically ...   \n",
              "\n",
              "                                     clean_abstracts  word_cnt  cluster  \n",
              "0  better understand neural circuits behavior mic...       133        2  \n",
              "1  vascular dementia vd second largest type demen...       190        3  \n",
              "2  parkinson disease neurodegenerative disease of...       215        2  \n",
              "3  silent information regulator sirt1 nicotinamid...       102        1  \n",
              "4  extracellular vesicles evs biologically active...        79        1  "
            ],
            "text/html": [
              "\n",
              "  <div id=\"df-52d09df5-3a7c-4fcd-9649-e8bba61278a8\">\n",
              "    <div class=\"colab-df-container\">\n",
              "      <div>\n",
              "<style scoped>\n",
              "    .dataframe tbody tr th:only-of-type {\n",
              "        vertical-align: middle;\n",
              "    }\n",
              "\n",
              "    .dataframe tbody tr th {\n",
              "        vertical-align: top;\n",
              "    }\n",
              "\n",
              "    .dataframe thead th {\n",
              "        text-align: right;\n",
              "    }\n",
              "</style>\n",
              "<table border=\"1\" class=\"dataframe\">\n",
              "  <thead>\n",
              "    <tr style=\"text-align: right;\">\n",
              "      <th></th>\n",
              "      <th>Id</th>\n",
              "      <th>Title</th>\n",
              "      <th>Abstract</th>\n",
              "      <th>clean_abstracts</th>\n",
              "      <th>word_cnt</th>\n",
              "      <th>cluster</th>\n",
              "    </tr>\n",
              "  </thead>\n",
              "  <tbody>\n",
              "    <tr>\n",
              "      <th>0</th>\n",
              "      <td>0</td>\n",
              "      <td>Interrogating the function of GABA&lt;sub&gt;A&lt;/sub&gt;...</td>\n",
              "      <td>To better understand neural circuits and behav...</td>\n",
              "      <td>better understand neural circuits behavior mic...</td>\n",
              "      <td>133</td>\n",
              "      <td>2</td>\n",
              "    </tr>\n",
              "    <tr>\n",
              "      <th>1</th>\n",
              "      <td>1</td>\n",
              "      <td>Floralozone improves cognitive impairment in v...</td>\n",
              "      <td>Vascular dementia (VD) is the second largest t...</td>\n",
              "      <td>vascular dementia vd second largest type demen...</td>\n",
              "      <td>190</td>\n",
              "      <td>3</td>\n",
              "    </tr>\n",
              "    <tr>\n",
              "      <th>2</th>\n",
              "      <td>2</td>\n",
              "      <td>The effects of Vilazodone, YL-0919 and Vortiox...</td>\n",
              "      <td>Parkinson's disease is a neurodegenerative dis...</td>\n",
              "      <td>parkinson disease neurodegenerative disease of...</td>\n",
              "      <td>215</td>\n",
              "      <td>2</td>\n",
              "    </tr>\n",
              "    <tr>\n",
              "      <th>3</th>\n",
              "      <td>3</td>\n",
              "      <td>Deciphering therapeutic options for neurodegen...</td>\n",
              "      <td>Silent information regulator 1 (SIRT1) is a ni...</td>\n",
              "      <td>silent information regulator sirt1 nicotinamid...</td>\n",
              "      <td>102</td>\n",
              "      <td>1</td>\n",
              "    </tr>\n",
              "    <tr>\n",
              "      <th>4</th>\n",
              "      <td>4</td>\n",
              "      <td>Therapeutic effect of extracellular vesicles f...</td>\n",
              "      <td>Extracellular vesicles (EVs) are biologically ...</td>\n",
              "      <td>extracellular vesicles evs biologically active...</td>\n",
              "      <td>79</td>\n",
              "      <td>1</td>\n",
              "    </tr>\n",
              "  </tbody>\n",
              "</table>\n",
              "</div>\n",
              "      <button class=\"colab-df-convert\" onclick=\"convertToInteractive('df-52d09df5-3a7c-4fcd-9649-e8bba61278a8')\"\n",
              "              title=\"Convert this dataframe to an interactive table.\"\n",
              "              style=\"display:none;\">\n",
              "        \n",
              "  <svg xmlns=\"http://www.w3.org/2000/svg\" height=\"24px\"viewBox=\"0 0 24 24\"\n",
              "       width=\"24px\">\n",
              "    <path d=\"M0 0h24v24H0V0z\" fill=\"none\"/>\n",
              "    <path d=\"M18.56 5.44l.94 2.06.94-2.06 2.06-.94-2.06-.94-.94-2.06-.94 2.06-2.06.94zm-11 1L8.5 8.5l.94-2.06 2.06-.94-2.06-.94L8.5 2.5l-.94 2.06-2.06.94zm10 10l.94 2.06.94-2.06 2.06-.94-2.06-.94-.94-2.06-.94 2.06-2.06.94z\"/><path d=\"M17.41 7.96l-1.37-1.37c-.4-.4-.92-.59-1.43-.59-.52 0-1.04.2-1.43.59L10.3 9.45l-7.72 7.72c-.78.78-.78 2.05 0 2.83L4 21.41c.39.39.9.59 1.41.59.51 0 1.02-.2 1.41-.59l7.78-7.78 2.81-2.81c.8-.78.8-2.07 0-2.86zM5.41 20L4 18.59l7.72-7.72 1.47 1.35L5.41 20z\"/>\n",
              "  </svg>\n",
              "      </button>\n",
              "      \n",
              "  <style>\n",
              "    .colab-df-container {\n",
              "      display:flex;\n",
              "      flex-wrap:wrap;\n",
              "      gap: 12px;\n",
              "    }\n",
              "\n",
              "    .colab-df-convert {\n",
              "      background-color: #E8F0FE;\n",
              "      border: none;\n",
              "      border-radius: 50%;\n",
              "      cursor: pointer;\n",
              "      display: none;\n",
              "      fill: #1967D2;\n",
              "      height: 32px;\n",
              "      padding: 0 0 0 0;\n",
              "      width: 32px;\n",
              "    }\n",
              "\n",
              "    .colab-df-convert:hover {\n",
              "      background-color: #E2EBFA;\n",
              "      box-shadow: 0px 1px 2px rgba(60, 64, 67, 0.3), 0px 1px 3px 1px rgba(60, 64, 67, 0.15);\n",
              "      fill: #174EA6;\n",
              "    }\n",
              "\n",
              "    [theme=dark] .colab-df-convert {\n",
              "      background-color: #3B4455;\n",
              "      fill: #D2E3FC;\n",
              "    }\n",
              "\n",
              "    [theme=dark] .colab-df-convert:hover {\n",
              "      background-color: #434B5C;\n",
              "      box-shadow: 0px 1px 3px 1px rgba(0, 0, 0, 0.15);\n",
              "      filter: drop-shadow(0px 1px 2px rgba(0, 0, 0, 0.3));\n",
              "      fill: #FFFFFF;\n",
              "    }\n",
              "  </style>\n",
              "\n",
              "      <script>\n",
              "        const buttonEl =\n",
              "          document.querySelector('#df-52d09df5-3a7c-4fcd-9649-e8bba61278a8 button.colab-df-convert');\n",
              "        buttonEl.style.display =\n",
              "          google.colab.kernel.accessAllowed ? 'block' : 'none';\n",
              "\n",
              "        async function convertToInteractive(key) {\n",
              "          const element = document.querySelector('#df-52d09df5-3a7c-4fcd-9649-e8bba61278a8');\n",
              "          const dataTable =\n",
              "            await google.colab.kernel.invokeFunction('convertToInteractive',\n",
              "                                                     [key], {});\n",
              "          if (!dataTable) return;\n",
              "\n",
              "          const docLinkHtml = 'Like what you see? Visit the ' +\n",
              "            '<a target=\"_blank\" href=https://colab.research.google.com/notebooks/data_table.ipynb>data table notebook</a>'\n",
              "            + ' to learn more about interactive tables.';\n",
              "          element.innerHTML = '';\n",
              "          dataTable['output_type'] = 'display_data';\n",
              "          await google.colab.output.renderOutput(dataTable, element);\n",
              "          const docLink = document.createElement('div');\n",
              "          docLink.innerHTML = docLinkHtml;\n",
              "          element.appendChild(docLink);\n",
              "        }\n",
              "      </script>\n",
              "    </div>\n",
              "  </div>\n",
              "  "
            ]
          },
          "metadata": {},
          "execution_count": 18
        }
      ],
      "source": [
        "df['cluster'] = model.labels_\n",
        "\n",
        "df.head()"
      ]
    },
    {
      "cell_type": "code",
      "execution_count": 19,
      "metadata": {
        "id": "RAxJnvWH6v8I"
      },
      "outputs": [],
      "source": [
        "# output the result to a text file.\n",
        "\n",
        "clusters = df.groupby('cluster')    \n",
        "\n",
        "for cluster in clusters.groups:\n",
        "    f = open('cluster'+str(cluster)+ '.csv', 'w') # create csv file\n",
        "    data = clusters.get_group(cluster)[['Id','Abstract']] # get title and overview columns\n",
        "    f.write(data.to_csv(index_label='Id')) # set index to id\n",
        "    f.close()"
      ]
    },
    {
      "cell_type": "code",
      "execution_count": 20,
      "metadata": {
        "colab": {
          "base_uri": "https://localhost:8080/"
        },
        "id": "IyBiSWFB6v_B",
        "outputId": "929d91f5-4d57-4bf3-c15e-68a3221607f0"
      },
      "outputs": [
        {
          "output_type": "stream",
          "name": "stdout",
          "text": [
            "Cluster centroids: \n",
            "\n",
            "Cluster 0:\n",
            " sci\n",
            " spinal\n",
            " cord\n",
            " injury\n",
            " motor\n",
            " recovery\n",
            " cervical\n",
            " functional\n",
            " stimulation\n",
            " respiratory\n",
            "------------\n",
            "Cluster 1:\n",
            " brain\n",
            " neuronal\n",
            " disorders\n",
            " plasticity\n",
            " development\n",
            " synaptic\n",
            " cell\n",
            " disease\n",
            " neurons\n",
            " cells\n",
            "------------\n",
            "Cluster 2:\n",
            " sub\n",
            " gaba\n",
            " receptor\n",
            " sup\n",
            " rs\n",
            " receptors\n",
            " synaptic\n",
            " ht\n",
            " 2a\n",
            " tonic\n",
            "------------\n",
            "Cluster 3:\n",
            " mice\n",
            " hippocampal\n",
            " memory\n",
            " hippocampus\n",
            " synaptic\n",
            " rats\n",
            " stress\n",
            " expression\n",
            " cognitive\n",
            " plasticity\n",
            "------------\n",
            "Cluster 4:\n",
            " sleep\n",
            " memory\n",
            " rem\n",
            " circadian\n",
            " nrem\n",
            " wake\n",
            " sd\n",
            " consolidation\n",
            " deprivation\n",
            " synaptic\n",
            "------------\n",
            "Cluster 5:\n",
            " sup\n",
            " ca\n",
            " synaptic\n",
            " mice\n",
            " plasticity\n",
            " neurons\n",
            " neuronal\n",
            " channels\n",
            " sub\n",
            " protein\n",
            "------------\n",
            "Cluster 6:\n",
            " exercise\n",
            " physical\n",
            " effects\n",
            " cognitive\n",
            " neuroplasticity\n",
            " aerobic\n",
            " bdnf\n",
            " pd\n",
            " training\n",
            " intensity\n",
            "------------\n",
            "Cluster 7:\n",
            " stroke\n",
            " motor\n",
            " stimulation\n",
            " rehabilitation\n",
            " tdcs\n",
            " recovery\n",
            " brain\n",
            " transcranial\n",
            " rtms\n",
            " patients\n",
            "------------\n",
            "Cluster 8:\n",
            " plasticity\n",
            " brain\n",
            " learning\n",
            " visual\n",
            " neural\n",
            " activity\n",
            " network\n",
            " synaptic\n",
            " neurons\n",
            " cortical\n",
            "------------\n",
            "Cluster 9:\n",
            " synaptic\n",
            " receptors\n",
            " glutamate\n",
            " ltp\n",
            " receptor\n",
            " ampar\n",
            " plasticity\n",
            " nmdar\n",
            " nmda\n",
            " nmdars\n",
            "------------\n",
            "Cluster 10:\n",
            " ad\n",
            " disease\n",
            " alzheimer\n",
            " ab\n",
            " tau\n",
            " amyloid\n",
            " synaptic\n",
            " cognitive\n",
            " app\n",
            " memory\n",
            "------------\n",
            "Cluster 11:\n",
            " pain\n",
            " chronic\n",
            " neuropathic\n",
            " patients\n",
            " covid\n",
            " oa\n",
            " study\n",
            " sensitization\n",
            " intensity\n",
            " musculoskeletal\n",
            "------------\n",
            "Cluster 12:\n",
            " cocaine\n",
            " drug\n",
            " addiction\n",
            " seeking\n",
            " abstinence\n",
            " reward\n",
            " exposure\n",
            " lhb\n",
            " relapse\n",
            " heroin\n",
            "------------\n"
          ]
        },
        {
          "output_type": "stream",
          "name": "stderr",
          "text": [
            "/usr/local/lib/python3.7/dist-packages/sklearn/utils/deprecation.py:87: FutureWarning: Function get_feature_names is deprecated; get_feature_names is deprecated in 1.0 and will be removed in 1.2. Please use get_feature_names_out instead.\n",
            "  warnings.warn(msg, category=FutureWarning)\n"
          ]
        }
      ],
      "source": [
        "print(\"Cluster centroids: \\n\")\n",
        "order_centroids = model.cluster_centers_.argsort()[:, ::-1]\n",
        "terms = vectorizer.get_feature_names()\n",
        "\n",
        "for i in range(k):\n",
        "    print(\"Cluster %d:\" % i)\n",
        "    for j in order_centroids[i, :10]: #print out 10 feature terms of each cluster\n",
        "        print (' %s' % terms[j])\n",
        "    print('------------')"
      ]
    },
    {
      "cell_type": "markdown",
      "source": [
        "# Wordcloud"
      ],
      "metadata": {
        "id": "D0U2kQcvI678"
      }
    },
    {
      "cell_type": "code",
      "source": [
        "import nltk\n",
        "from nltk.corpus import stopwords\n",
        "nltk.download('stopwords')\n",
        "\n",
        "from wordcloud import WordCloud"
      ],
      "metadata": {
        "colab": {
          "base_uri": "https://localhost:8080/"
        },
        "id": "zAocbzSHI4Ne",
        "outputId": "17161031-e09d-4743-f50e-7c6b1d19aee8"
      },
      "execution_count": 21,
      "outputs": [
        {
          "output_type": "stream",
          "name": "stderr",
          "text": [
            "[nltk_data] Downloading package stopwords to /root/nltk_data...\n",
            "[nltk_data]   Package stopwords is already up-to-date!\n"
          ]
        }
      ]
    },
    {
      "cell_type": "code",
      "source": [
        "stop_words = set(stopwords.words('english'))"
      ],
      "metadata": {
        "id": "m3yPusChI4Q5"
      },
      "execution_count": 22,
      "outputs": []
    },
    {
      "cell_type": "code",
      "source": [
        "abs = \" \".join(abstract for abstract in df.clean_abstracts)\n",
        "wordcloud2 = WordCloud(stopwords=stop_words, max_words=50).generate(abs)\n",
        "plt.imshow(wordcloud2, interpolation='bilinear')\n",
        "plt.axis(\"off\")\n",
        "plt.show()"
      ],
      "metadata": {
        "colab": {
          "base_uri": "https://localhost:8080/",
          "height": 198
        },
        "id": "LPtqK84oI4Sq",
        "outputId": "f4ad1069-f1db-4044-db20-074fc9cd59a2"
      },
      "execution_count": 23,
      "outputs": [
        {
          "output_type": "display_data",
          "data": {
            "text/plain": [
              "<Figure size 432x288 with 1 Axes>"
            ],
            "image/png": "[encoded data removed]"
          },
          "metadata": {
            "needs_background": "light"
          }
        }
      ]
    }
  ],
  "metadata": {
    "colab": {
      "collapsed_sections": [],
      "name": "text_analysis.ipynb",
      "provenance": []
    },
    "kernelspec": {
      "display_name": "Python 3",
      "name": "python3"
    },
    "language_info": {
      "name": "python"
    }
  },
  "nbformat": 4,
  "nbformat_minor": 0
}