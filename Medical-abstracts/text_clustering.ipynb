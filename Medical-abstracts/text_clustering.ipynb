{
  "nbformat": 4,
  "nbformat_minor": 0,
  "metadata": {
    "colab": {
      "name": "text-clustering.ipynb",
      "provenance": [],
      "collapsed_sections": []
    },
    "kernelspec": {
      "name": "python3",
      "display_name": "Python 3"
    },
    "language_info": {
      "name": "python"
    }
  },
  "cells": [
    {
      "cell_type": "code",
      "metadata": {
        "id": "FWils4wt7DuV"
      },
      "source": [
        "import pandas as pd"
      ],
      "execution_count": 1,
      "outputs": []
    },
    {
      "cell_type": "code",
      "metadata": {
        "id": "lb5hqHj06tEc"
      },
      "source": [
        "df = pd.read_csv('abstracts.csv')"
      ],
      "execution_count": 2,
      "outputs": []
    },
    {
      "cell_type": "code",
      "metadata": {
        "colab": {
          "base_uri": "https://localhost:8080/"
        },
        "id": "BtIcbgD_6vjk",
        "outputId": "591533f6-60f6-4366-9f6c-3a7bb7e2973a"
      },
      "source": [
        "df.info()"
      ],
      "execution_count": 3,
      "outputs": [
        {
          "output_type": "stream",
          "name": "stdout",
          "text": [
            "<class 'pandas.core.frame.DataFrame'>\n",
            "RangeIndex: 3000 entries, 0 to 2999\n",
            "Data columns (total 3 columns):\n",
            " #   Column      Non-Null Count  Dtype \n",
            "---  ------      --------------  ----- \n",
            " 0   Unnamed: 0  3000 non-null   int64 \n",
            " 1   Title       3000 non-null   object\n",
            " 2   Abstract    3000 non-null   object\n",
            "dtypes: int64(1), object(2)\n",
            "memory usage: 70.4+ KB\n"
          ]
        }
      ]
    },
    {
      "cell_type": "code",
      "metadata": {
        "colab": {
          "base_uri": "https://localhost:8080/",
          "height": 455
        },
        "id": "iJOV6L7iOkgj",
        "outputId": "e5056363-fc88-4deb-e368-2a6a6d208f1c"
      },
      "source": [
        "df = df.rename(columns={'Unnamed: 0': 'Id'})\n",
        "df.set_index('Id')"
      ],
      "execution_count": 4,
      "outputs": [
        {
          "output_type": "execute_result",
          "data": {
            "text/plain": [
              "                                                  Title  \\\n",
              "Id                                                        \n",
              "0     Interrogating the function of GABA<sub>A</sub>...   \n",
              "1     Floralozone improves cognitive impairment in v...   \n",
              "2     The effects of Vilazodone, YL-0919 and Vortiox...   \n",
              "3     Deciphering therapeutic options for neurodegen...   \n",
              "4     Therapeutic effect of extracellular vesicles f...   \n",
              "...                                                 ...   \n",
              "2995  Challenges and opportunities in translational ...   \n",
              "2996  Growth and Differentiation of Circulating Stem...   \n",
              "2997  Remote Ischemic Postconditioning vs. Physical ...   \n",
              "2998  Working Memory for Signs with Poor Visual Reso...   \n",
              "2999  6-Gingerol, an active constituent of ginger, a...   \n",
              "\n",
              "                                               Abstract  \n",
              "Id                                                       \n",
              "0     To better understand neural circuits and behav...  \n",
              "1     Vascular dementia (VD) is the second largest t...  \n",
              "2     Parkinson's disease is a neurodegenerative dis...  \n",
              "3     Silent information regulator 1 (SIRT1) is a ni...  \n",
              "4     Extracellular vesicles (EVs) are biologically ...  \n",
              "...                                                 ...  \n",
              "2995  For decades, basic research on the underlying ...  \n",
              "2996  Stem cell therapy is gaining momentum as an ef...  \n",
              "2997  There remain debates on neuroprotection and re...  \n",
              "2998  Stimulus degradation adds to working memory lo...  \n",
              "2999  This study examined the protective effect of 6...  \n",
              "\n",
              "[3000 rows x 2 columns]"
            ],
            "text/html": [
              "\n",
              "  <div id=\"df-0b0e6cc3-dd4c-4169-aa42-962958206a77\">\n",
              "    <div class=\"colab-df-container\">\n",
              "      <div>\n",
              "<style scoped>\n",
              "    .dataframe tbody tr th:only-of-type {\n",
              "        vertical-align: middle;\n",
              "    }\n",
              "\n",
              "    .dataframe tbody tr th {\n",
              "        vertical-align: top;\n",
              "    }\n",
              "\n",
              "    .dataframe thead th {\n",
              "        text-align: right;\n",
              "    }\n",
              "</style>\n",
              "<table border=\"1\" class=\"dataframe\">\n",
              "  <thead>\n",
              "    <tr style=\"text-align: right;\">\n",
              "      <th></th>\n",
              "      <th>Title</th>\n",
              "      <th>Abstract</th>\n",
              "    </tr>\n",
              "    <tr>\n",
              "      <th>Id</th>\n",
              "      <th></th>\n",
              "      <th></th>\n",
              "    </tr>\n",
              "  </thead>\n",
              "  <tbody>\n",
              "    <tr>\n",
              "      <th>0</th>\n",
              "      <td>Interrogating the function of GABA&lt;sub&gt;A&lt;/sub&gt;...</td>\n",
              "      <td>To better understand neural circuits and behav...</td>\n",
              "    </tr>\n",
              "    <tr>\n",
              "      <th>1</th>\n",
              "      <td>Floralozone improves cognitive impairment in v...</td>\n",
              "      <td>Vascular dementia (VD) is the second largest t...</td>\n",
              "    </tr>\n",
              "    <tr>\n",
              "      <th>2</th>\n",
              "      <td>The effects of Vilazodone, YL-0919 and Vortiox...</td>\n",
              "      <td>Parkinson's disease is a neurodegenerative dis...</td>\n",
              "    </tr>\n",
              "    <tr>\n",
              "      <th>3</th>\n",
              "      <td>Deciphering therapeutic options for neurodegen...</td>\n",
              "      <td>Silent information regulator 1 (SIRT1) is a ni...</td>\n",
              "    </tr>\n",
              "    <tr>\n",
              "      <th>4</th>\n",
              "      <td>Therapeutic effect of extracellular vesicles f...</td>\n",
              "      <td>Extracellular vesicles (EVs) are biologically ...</td>\n",
              "    </tr>\n",
              "    <tr>\n",
              "      <th>...</th>\n",
              "      <td>...</td>\n",
              "      <td>...</td>\n",
              "    </tr>\n",
              "    <tr>\n",
              "      <th>2995</th>\n",
              "      <td>Challenges and opportunities in translational ...</td>\n",
              "      <td>For decades, basic research on the underlying ...</td>\n",
              "    </tr>\n",
              "    <tr>\n",
              "      <th>2996</th>\n",
              "      <td>Growth and Differentiation of Circulating Stem...</td>\n",
              "      <td>Stem cell therapy is gaining momentum as an ef...</td>\n",
              "    </tr>\n",
              "    <tr>\n",
              "      <th>2997</th>\n",
              "      <td>Remote Ischemic Postconditioning vs. Physical ...</td>\n",
              "      <td>There remain debates on neuroprotection and re...</td>\n",
              "    </tr>\n",
              "    <tr>\n",
              "      <th>2998</th>\n",
              "      <td>Working Memory for Signs with Poor Visual Reso...</td>\n",
              "      <td>Stimulus degradation adds to working memory lo...</td>\n",
              "    </tr>\n",
              "    <tr>\n",
              "      <th>2999</th>\n",
              "      <td>6-Gingerol, an active constituent of ginger, a...</td>\n",
              "      <td>This study examined the protective effect of 6...</td>\n",
              "    </tr>\n",
              "  </tbody>\n",
              "</table>\n",
              "<p>3000 rows × 2 columns</p>\n",
              "</div>\n",
              "      <button class=\"colab-df-convert\" onclick=\"convertToInteractive('df-0b0e6cc3-dd4c-4169-aa42-962958206a77')\"\n",
              "              title=\"Convert this dataframe to an interactive table.\"\n",
              "              style=\"display:none;\">\n",
              "        \n",
              "  <svg xmlns=\"http://www.w3.org/2000/svg\" height=\"24px\"viewBox=\"0 0 24 24\"\n",
              "       width=\"24px\">\n",
              "    <path d=\"M0 0h24v24H0V0z\" fill=\"none\"/>\n",
              "    <path d=\"M18.56 5.44l.94 2.06.94-2.06 2.06-.94-2.06-.94-.94-2.06-.94 2.06-2.06.94zm-11 1L8.5 8.5l.94-2.06 2.06-.94-2.06-.94L8.5 2.5l-.94 2.06-2.06.94zm10 10l.94 2.06.94-2.06 2.06-.94-2.06-.94-.94-2.06-.94 2.06-2.06.94z\"/><path d=\"M17.41 7.96l-1.37-1.37c-.4-.4-.92-.59-1.43-.59-.52 0-1.04.2-1.43.59L10.3 9.45l-7.72 7.72c-.78.78-.78 2.05 0 2.83L4 21.41c.39.39.9.59 1.41.59.51 0 1.02-.2 1.41-.59l7.78-7.78 2.81-2.81c.8-.78.8-2.07 0-2.86zM5.41 20L4 18.59l7.72-7.72 1.47 1.35L5.41 20z\"/>\n",
              "  </svg>\n",
              "      </button>\n",
              "      \n",
              "  <style>\n",
              "    .colab-df-container {\n",
              "      display:flex;\n",
              "      flex-wrap:wrap;\n",
              "      gap: 12px;\n",
              "    }\n",
              "\n",
              "    .colab-df-convert {\n",
              "      background-color: #E8F0FE;\n",
              "      border: none;\n",
              "      border-radius: 50%;\n",
              "      cursor: pointer;\n",
              "      display: none;\n",
              "      fill: #1967D2;\n",
              "      height: 32px;\n",
              "      padding: 0 0 0 0;\n",
              "      width: 32px;\n",
              "    }\n",
              "\n",
              "    .colab-df-convert:hover {\n",
              "      background-color: #E2EBFA;\n",
              "      box-shadow: 0px 1px 2px rgba(60, 64, 67, 0.3), 0px 1px 3px 1px rgba(60, 64, 67, 0.15);\n",
              "      fill: #174EA6;\n",
              "    }\n",
              "\n",
              "    [theme=dark] .colab-df-convert {\n",
              "      background-color: #3B4455;\n",
              "      fill: #D2E3FC;\n",
              "    }\n",
              "\n",
              "    [theme=dark] .colab-df-convert:hover {\n",
              "      background-color: #434B5C;\n",
              "      box-shadow: 0px 1px 3px 1px rgba(0, 0, 0, 0.15);\n",
              "      filter: drop-shadow(0px 1px 2px rgba(0, 0, 0, 0.3));\n",
              "      fill: #FFFFFF;\n",
              "    }\n",
              "  </style>\n",
              "\n",
              "      <script>\n",
              "        const buttonEl =\n",
              "          document.querySelector('#df-0b0e6cc3-dd4c-4169-aa42-962958206a77 button.colab-df-convert');\n",
              "        buttonEl.style.display =\n",
              "          google.colab.kernel.accessAllowed ? 'block' : 'none';\n",
              "\n",
              "        async function convertToInteractive(key) {\n",
              "          const element = document.querySelector('#df-0b0e6cc3-dd4c-4169-aa42-962958206a77');\n",
              "          const dataTable =\n",
              "            await google.colab.kernel.invokeFunction('convertToInteractive',\n",
              "                                                     [key], {});\n",
              "          if (!dataTable) return;\n",
              "\n",
              "          const docLinkHtml = 'Like what you see? Visit the ' +\n",
              "            '<a target=\"_blank\" href=https://colab.research.google.com/notebooks/data_table.ipynb>data table notebook</a>'\n",
              "            + ' to learn more about interactive tables.';\n",
              "          element.innerHTML = '';\n",
              "          dataTable['output_type'] = 'display_data';\n",
              "          await google.colab.output.renderOutput(dataTable, element);\n",
              "          const docLink = document.createElement('div');\n",
              "          docLink.innerHTML = docLinkHtml;\n",
              "          element.appendChild(docLink);\n",
              "        }\n",
              "      </script>\n",
              "    </div>\n",
              "  </div>\n",
              "  "
            ]
          },
          "metadata": {},
          "execution_count": 4
        }
      ]
    },
    {
      "cell_type": "code",
      "metadata": {
        "id": "cpQSPJpE6vlv"
      },
      "source": [
        "# Data preprocessing\n",
        "from sklearn.feature_extraction.text import TfidfVectorizer\n",
        "from sklearn.cluster import KMeans\n",
        "\n",
        "documents = df['Abstract'].values.astype(\"U\")\n",
        "\n",
        "vectorizer = TfidfVectorizer(stop_words='english')\n",
        "features = vectorizer.fit_transform(documents)"
      ],
      "execution_count": 5,
      "outputs": []
    },
    {
      "cell_type": "markdown",
      "metadata": {
        "id": "zmmqGoxB6_wx"
      },
      "source": [
        "#K-Means\n",
        "\n",
        "1) Deciding the number of clusters"
      ]
    },
    {
      "cell_type": "code",
      "metadata": {
        "id": "JmimGaNV6vpd"
      },
      "source": [
        "kmeans_kwargs = {  \n",
        "        \"init\": \"random\",\n",
        "        \"n_init\": 10,\n",
        "        \"max_iter\": 300,\n",
        "        \"random_state\": 42,\n",
        "    }\n",
        "   \n",
        "# A list holds the SSE values for each k\n",
        "sse = []  # sum of squared error (distances in our case)\n",
        "for k in range(1, 21):  # we will try clustering data into range(1, 11) clusters\n",
        "  kmeans = KMeans(n_clusters=k, **kmeans_kwargs)  # initiates the k-means algorithm\n",
        "  kmeans.fit(features)  # fits k-means on our data\n",
        "  sse.append(kmeans.inertia_)  # Sum of squared distances of samples to their closest cluster center.kl.plot_knee()"
      ],
      "execution_count": 6,
      "outputs": []
    },
    {
      "cell_type": "code",
      "metadata": {
        "id": "arIlUJ0e-tEg"
      },
      "source": [
        " import matplotlib.pyplot as plt"
      ],
      "execution_count": 7,
      "outputs": []
    },
    {
      "cell_type": "code",
      "metadata": {
        "colab": {
          "base_uri": "https://localhost:8080/",
          "height": 279
        },
        "id": "jE-s1b_76vsg",
        "outputId": "285f3fb2-d960-4522-941e-421295fb307a"
      },
      "source": [
        "fig, axs = plt.subplots()\n",
        "plt.plot(range(1, 21), sse)\n",
        "plt.xticks(range(1, 21))\n",
        "plt.xlabel(\"Number of Clusters\")\n",
        "plt.ylabel(\"SSE\")\n",
        "\n",
        "fig.set(facecolor='white')\n",
        "plt.show()"
      ],
      "execution_count": 8,
      "outputs": [
        {
          "output_type": "display_data",
          "data": {
            "text/plain": [
              "<Figure size 432x288 with 1 Axes>"
            ],
            "image/png": "[encoded data removed]"
          },
          "metadata": {}
        }
      ]
    },
    {
      "cell_type": "code",
      "metadata": {
        "colab": {
          "base_uri": "https://localhost:8080/"
        },
        "id": "-Qb039GJ7Q-g",
        "outputId": "4e99eb2e-1b04-4e55-fd81-4c8a9157d8e6"
      },
      "source": [
        "pip install kneed"
      ],
      "execution_count": 9,
      "outputs": [
        {
          "output_type": "stream",
          "name": "stdout",
          "text": [
            "Requirement already satisfied: kneed in /usr/local/lib/python3.7/dist-packages (0.7.0)\n",
            "Requirement already satisfied: matplotlib in /usr/local/lib/python3.7/dist-packages (from kneed) (3.2.2)\n",
            "Requirement already satisfied: numpy>=1.14.2 in /usr/local/lib/python3.7/dist-packages (from kneed) (1.21.5)\n",
            "Requirement already satisfied: scipy in /usr/local/lib/python3.7/dist-packages (from kneed) (1.4.1)\n",
            "Requirement already satisfied: pyparsing!=2.0.4,!=2.1.2,!=2.1.6,>=2.0.1 in /usr/local/lib/python3.7/dist-packages (from matplotlib->kneed) (3.0.7)\n",
            "Requirement already satisfied: kiwisolver>=1.0.1 in /usr/local/lib/python3.7/dist-packages (from matplotlib->kneed) (1.3.2)\n",
            "Requirement already satisfied: python-dateutil>=2.1 in /usr/local/lib/python3.7/dist-packages (from matplotlib->kneed) (2.8.2)\n",
            "Requirement already satisfied: cycler>=0.10 in /usr/local/lib/python3.7/dist-packages (from matplotlib->kneed) (0.11.0)\n",
            "Requirement already satisfied: six>=1.5 in /usr/local/lib/python3.7/dist-packages (from python-dateutil>=2.1->matplotlib->kneed) (1.15.0)\n"
          ]
        }
      ]
    },
    {
      "cell_type": "code",
      "metadata": {
        "colab": {
          "base_uri": "https://localhost:8080/"
        },
        "id": "y0ZS2VJl7RAY",
        "outputId": "c9d44332-ede3-412d-9e9f-0db60f42dc0a"
      },
      "source": [
        "from kneed import KneeLocator\n",
        "import matplotlib.pyplot as plt  # plotting\n",
        "\n",
        "kl = KneeLocator(\n",
        "    range(1, 21), sse, curve=\"convex\", direction=\"decreasing\"\n",
        "    )\n",
        "\n",
        "print(f'We should use {kl.elbow} clusters.')"
      ],
      "execution_count": 10,
      "outputs": [
        {
          "output_type": "stream",
          "name": "stdout",
          "text": [
            "We should use 12 clusters.\n"
          ]
        }
      ]
    },
    {
      "cell_type": "code",
      "metadata": {
        "colab": {
          "base_uri": "https://localhost:8080/",
          "height": 390
        },
        "id": "r8q28mQw7REK",
        "outputId": "556767b8-ec2f-457b-af1c-bd85b3408a2e"
      },
      "source": [
        "kl.plot_knee()"
      ],
      "execution_count": 11,
      "outputs": [
        {
          "output_type": "display_data",
          "data": {
            "text/plain": [
              "<Figure size 432x432 with 1 Axes>"
            ],
            "image/png": "[encoded data removed]"
          },
          "metadata": {
            "needs_background": "light"
          }
        }
      ]
    },
    {
      "cell_type": "code",
      "metadata": {
        "colab": {
          "base_uri": "https://localhost:8080/"
        },
        "id": "PTM5R7lE7RF_",
        "outputId": "c8908d65-b566-49c9-d8c7-47cc212fc6ba"
      },
      "source": [
        "k = 10\n",
        "model = KMeans(n_clusters=k, init='k-means++', max_iter=100, n_init=1)\n",
        "model.fit(features)"
      ],
      "execution_count": 12,
      "outputs": [
        {
          "output_type": "execute_result",
          "data": {
            "text/plain": [
              "KMeans(max_iter=100, n_clusters=10, n_init=1)"
            ]
          },
          "metadata": {},
          "execution_count": 12
        }
      ]
    },
    {
      "cell_type": "code",
      "metadata": {
        "colab": {
          "base_uri": "https://localhost:8080/",
          "height": 677
        },
        "id": "MFC9Dtuk7RJ8",
        "outputId": "63647205-6398-44b2-da3c-a181338ab30a"
      },
      "source": [
        "df['cluster'] = model.labels_\n",
        "\n",
        "df.head(20)"
      ],
      "execution_count": 13,
      "outputs": [
        {
          "output_type": "execute_result",
          "data": {
            "text/plain": [
              "    Id                                              Title  \\\n",
              "0    0  Interrogating the function of GABA<sub>A</sub>...   \n",
              "1    1  Floralozone improves cognitive impairment in v...   \n",
              "2    2  The effects of Vilazodone, YL-0919 and Vortiox...   \n",
              "3    3  Deciphering therapeutic options for neurodegen...   \n",
              "4    4  Therapeutic effect of extracellular vesicles f...   \n",
              "5    5  Tauopathies: the role of tau in cellular cross...   \n",
              "6    6  Chronic neuropathic pain is more than a percep...   \n",
              "7    7  Preliminary Report on the Train the Brain Proj...   \n",
              "8    8  A Neurobiological Framework for the Therapeuti...   \n",
              "9    9  Does Bisphenol A Confer Risk of Neurodevelopme...   \n",
              "10  10  More than Addiction-The Nucleus Accumbens Cont...   \n",
              "11  11  Transcriptomic and Network Analyses Reveal Imm...   \n",
              "12  12  The Effect of Meclofenoxate on the Transcripto...   \n",
              "13  13  Manipulating the Level of Sensorimotor Stimula...   \n",
              "14  14  Experimental Arthritis Inhibits Adult Hippocam...   \n",
              "15  15  Profiling and Association over Time between Di...   \n",
              "16  16  Role and Impact of Cerebrolysin for Ischemic S...   \n",
              "17  17  Learning Ability and Hippocampal Transcriptome...   \n",
              "18  18  Effects of β-Hydroxy β-Methylbutyrate Suppleme...   \n",
              "19  19  Emerging Evidence for the Widespread Role of G...   \n",
              "\n",
              "                                             Abstract  cluster  \n",
              "0   To better understand neural circuits and behav...        7  \n",
              "1   Vascular dementia (VD) is the second largest t...        0  \n",
              "2   Parkinson's disease is a neurodegenerative dis...        7  \n",
              "3   Silent information regulator 1 (SIRT1) is a ni...        9  \n",
              "4   Extracellular vesicles (EVs) are biologically ...        9  \n",
              "5   Tauopathies are a group of neurodegenerative d...        9  \n",
              "6   The management of chronic neuropathic pain rem...        6  \n",
              "7   Neuromuscular training (NMT) facilitates the a...        1  \n",
              "8   Post traumatic stress disorder (PTSD) has emer...        9  \n",
              "9   Substantial evidence indicates that bisphenol ...        9  \n",
              "10  Stress and negative emotions evoked by social ...        9  \n",
              "11  Approach and avoidance (A/A) tendencies are st...        9  \n",
              "12  Annual fish of the genus <i>Nothobranchius</i>...        9  \n",
              "13  Repetitive transcranial magnetic stimulation (...        3  \n",
              "14  <b>Background:</b> Adult-born neurons of the h...        0  \n",
              "15  To longitudinally investigate the relationship...        6  \n",
              "16  Stroke is still a significant health problem t...        2  \n",
              "17  In this study, we hypothesized that complex ea...        0  \n",
              "18  β-hydroxy β-methylbutyrate (HMB), a metabolite...        0  \n",
              "19  The monoamine model of depression has long for...        9  "
            ],
            "text/html": [
              "\n",
              "  <div id=\"df-5927826e-1b45-4a46-ab74-882db7a718b5\">\n",
              "    <div class=\"colab-df-container\">\n",
              "      <div>\n",
              "<style scoped>\n",
              "    .dataframe tbody tr th:only-of-type {\n",
              "        vertical-align: middle;\n",
              "    }\n",
              "\n",
              "    .dataframe tbody tr th {\n",
              "        vertical-align: top;\n",
              "    }\n",
              "\n",
              "    .dataframe thead th {\n",
              "        text-align: right;\n",
              "    }\n",
              "</style>\n",
              "<table border=\"1\" class=\"dataframe\">\n",
              "  <thead>\n",
              "    <tr style=\"text-align: right;\">\n",
              "      <th></th>\n",
              "      <th>Id</th>\n",
              "      <th>Title</th>\n",
              "      <th>Abstract</th>\n",
              "      <th>cluster</th>\n",
              "    </tr>\n",
              "  </thead>\n",
              "  <tbody>\n",
              "    <tr>\n",
              "      <th>0</th>\n",
              "      <td>0</td>\n",
              "      <td>Interrogating the function of GABA&lt;sub&gt;A&lt;/sub&gt;...</td>\n",
              "      <td>To better understand neural circuits and behav...</td>\n",
              "      <td>7</td>\n",
              "    </tr>\n",
              "    <tr>\n",
              "      <th>1</th>\n",
              "      <td>1</td>\n",
              "      <td>Floralozone improves cognitive impairment in v...</td>\n",
              "      <td>Vascular dementia (VD) is the second largest t...</td>\n",
              "      <td>0</td>\n",
              "    </tr>\n",
              "    <tr>\n",
              "      <th>2</th>\n",
              "      <td>2</td>\n",
              "      <td>The effects of Vilazodone, YL-0919 and Vortiox...</td>\n",
              "      <td>Parkinson's disease is a neurodegenerative dis...</td>\n",
              "      <td>7</td>\n",
              "    </tr>\n",
              "    <tr>\n",
              "      <th>3</th>\n",
              "      <td>3</td>\n",
              "      <td>Deciphering therapeutic options for neurodegen...</td>\n",
              "      <td>Silent information regulator 1 (SIRT1) is a ni...</td>\n",
              "      <td>9</td>\n",
              "    </tr>\n",
              "    <tr>\n",
              "      <th>4</th>\n",
              "      <td>4</td>\n",
              "      <td>Therapeutic effect of extracellular vesicles f...</td>\n",
              "      <td>Extracellular vesicles (EVs) are biologically ...</td>\n",
              "      <td>9</td>\n",
              "    </tr>\n",
              "    <tr>\n",
              "      <th>5</th>\n",
              "      <td>5</td>\n",
              "      <td>Tauopathies: the role of tau in cellular cross...</td>\n",
              "      <td>Tauopathies are a group of neurodegenerative d...</td>\n",
              "      <td>9</td>\n",
              "    </tr>\n",
              "    <tr>\n",
              "      <th>6</th>\n",
              "      <td>6</td>\n",
              "      <td>Chronic neuropathic pain is more than a percep...</td>\n",
              "      <td>The management of chronic neuropathic pain rem...</td>\n",
              "      <td>6</td>\n",
              "    </tr>\n",
              "    <tr>\n",
              "      <th>7</th>\n",
              "      <td>7</td>\n",
              "      <td>Preliminary Report on the Train the Brain Proj...</td>\n",
              "      <td>Neuromuscular training (NMT) facilitates the a...</td>\n",
              "      <td>1</td>\n",
              "    </tr>\n",
              "    <tr>\n",
              "      <th>8</th>\n",
              "      <td>8</td>\n",
              "      <td>A Neurobiological Framework for the Therapeuti...</td>\n",
              "      <td>Post traumatic stress disorder (PTSD) has emer...</td>\n",
              "      <td>9</td>\n",
              "    </tr>\n",
              "    <tr>\n",
              "      <th>9</th>\n",
              "      <td>9</td>\n",
              "      <td>Does Bisphenol A Confer Risk of Neurodevelopme...</td>\n",
              "      <td>Substantial evidence indicates that bisphenol ...</td>\n",
              "      <td>9</td>\n",
              "    </tr>\n",
              "    <tr>\n",
              "      <th>10</th>\n",
              "      <td>10</td>\n",
              "      <td>More than Addiction-The Nucleus Accumbens Cont...</td>\n",
              "      <td>Stress and negative emotions evoked by social ...</td>\n",
              "      <td>9</td>\n",
              "    </tr>\n",
              "    <tr>\n",
              "      <th>11</th>\n",
              "      <td>11</td>\n",
              "      <td>Transcriptomic and Network Analyses Reveal Imm...</td>\n",
              "      <td>Approach and avoidance (A/A) tendencies are st...</td>\n",
              "      <td>9</td>\n",
              "    </tr>\n",
              "    <tr>\n",
              "      <th>12</th>\n",
              "      <td>12</td>\n",
              "      <td>The Effect of Meclofenoxate on the Transcripto...</td>\n",
              "      <td>Annual fish of the genus &lt;i&gt;Nothobranchius&lt;/i&gt;...</td>\n",
              "      <td>9</td>\n",
              "    </tr>\n",
              "    <tr>\n",
              "      <th>13</th>\n",
              "      <td>13</td>\n",
              "      <td>Manipulating the Level of Sensorimotor Stimula...</td>\n",
              "      <td>Repetitive transcranial magnetic stimulation (...</td>\n",
              "      <td>3</td>\n",
              "    </tr>\n",
              "    <tr>\n",
              "      <th>14</th>\n",
              "      <td>14</td>\n",
              "      <td>Experimental Arthritis Inhibits Adult Hippocam...</td>\n",
              "      <td>&lt;b&gt;Background:&lt;/b&gt; Adult-born neurons of the h...</td>\n",
              "      <td>0</td>\n",
              "    </tr>\n",
              "    <tr>\n",
              "      <th>15</th>\n",
              "      <td>15</td>\n",
              "      <td>Profiling and Association over Time between Di...</td>\n",
              "      <td>To longitudinally investigate the relationship...</td>\n",
              "      <td>6</td>\n",
              "    </tr>\n",
              "    <tr>\n",
              "      <th>16</th>\n",
              "      <td>16</td>\n",
              "      <td>Role and Impact of Cerebrolysin for Ischemic S...</td>\n",
              "      <td>Stroke is still a significant health problem t...</td>\n",
              "      <td>2</td>\n",
              "    </tr>\n",
              "    <tr>\n",
              "      <th>17</th>\n",
              "      <td>17</td>\n",
              "      <td>Learning Ability and Hippocampal Transcriptome...</td>\n",
              "      <td>In this study, we hypothesized that complex ea...</td>\n",
              "      <td>0</td>\n",
              "    </tr>\n",
              "    <tr>\n",
              "      <th>18</th>\n",
              "      <td>18</td>\n",
              "      <td>Effects of β-Hydroxy β-Methylbutyrate Suppleme...</td>\n",
              "      <td>β-hydroxy β-methylbutyrate (HMB), a metabolite...</td>\n",
              "      <td>0</td>\n",
              "    </tr>\n",
              "    <tr>\n",
              "      <th>19</th>\n",
              "      <td>19</td>\n",
              "      <td>Emerging Evidence for the Widespread Role of G...</td>\n",
              "      <td>The monoamine model of depression has long for...</td>\n",
              "      <td>9</td>\n",
              "    </tr>\n",
              "  </tbody>\n",
              "</table>\n",
              "</div>\n",
              "      <button class=\"colab-df-convert\" onclick=\"convertToInteractive('df-5927826e-1b45-4a46-ab74-882db7a718b5')\"\n",
              "              title=\"Convert this dataframe to an interactive table.\"\n",
              "              style=\"display:none;\">\n",
              "        \n",
              "  <svg xmlns=\"http://www.w3.org/2000/svg\" height=\"24px\"viewBox=\"0 0 24 24\"\n",
              "       width=\"24px\">\n",
              "    <path d=\"M0 0h24v24H0V0z\" fill=\"none\"/>\n",
              "    <path d=\"M18.56 5.44l.94 2.06.94-2.06 2.06-.94-2.06-.94-.94-2.06-.94 2.06-2.06.94zm-11 1L8.5 8.5l.94-2.06 2.06-.94-2.06-.94L8.5 2.5l-.94 2.06-2.06.94zm10 10l.94 2.06.94-2.06 2.06-.94-2.06-.94-.94-2.06-.94 2.06-2.06.94z\"/><path d=\"M17.41 7.96l-1.37-1.37c-.4-.4-.92-.59-1.43-.59-.52 0-1.04.2-1.43.59L10.3 9.45l-7.72 7.72c-.78.78-.78 2.05 0 2.83L4 21.41c.39.39.9.59 1.41.59.51 0 1.02-.2 1.41-.59l7.78-7.78 2.81-2.81c.8-.78.8-2.07 0-2.86zM5.41 20L4 18.59l7.72-7.72 1.47 1.35L5.41 20z\"/>\n",
              "  </svg>\n",
              "      </button>\n",
              "      \n",
              "  <style>\n",
              "    .colab-df-container {\n",
              "      display:flex;\n",
              "      flex-wrap:wrap;\n",
              "      gap: 12px;\n",
              "    }\n",
              "\n",
              "    .colab-df-convert {\n",
              "      background-color: #E8F0FE;\n",
              "      border: none;\n",
              "      border-radius: 50%;\n",
              "      cursor: pointer;\n",
              "      display: none;\n",
              "      fill: #1967D2;\n",
              "      height: 32px;\n",
              "      padding: 0 0 0 0;\n",
              "      width: 32px;\n",
              "    }\n",
              "\n",
              "    .colab-df-convert:hover {\n",
              "      background-color: #E2EBFA;\n",
              "      box-shadow: 0px 1px 2px rgba(60, 64, 67, 0.3), 0px 1px 3px 1px rgba(60, 64, 67, 0.15);\n",
              "      fill: #174EA6;\n",
              "    }\n",
              "\n",
              "    [theme=dark] .colab-df-convert {\n",
              "      background-color: #3B4455;\n",
              "      fill: #D2E3FC;\n",
              "    }\n",
              "\n",
              "    [theme=dark] .colab-df-convert:hover {\n",
              "      background-color: #434B5C;\n",
              "      box-shadow: 0px 1px 3px 1px rgba(0, 0, 0, 0.15);\n",
              "      filter: drop-shadow(0px 1px 2px rgba(0, 0, 0, 0.3));\n",
              "      fill: #FFFFFF;\n",
              "    }\n",
              "  </style>\n",
              "\n",
              "      <script>\n",
              "        const buttonEl =\n",
              "          document.querySelector('#df-5927826e-1b45-4a46-ab74-882db7a718b5 button.colab-df-convert');\n",
              "        buttonEl.style.display =\n",
              "          google.colab.kernel.accessAllowed ? 'block' : 'none';\n",
              "\n",
              "        async function convertToInteractive(key) {\n",
              "          const element = document.querySelector('#df-5927826e-1b45-4a46-ab74-882db7a718b5');\n",
              "          const dataTable =\n",
              "            await google.colab.kernel.invokeFunction('convertToInteractive',\n",
              "                                                     [key], {});\n",
              "          if (!dataTable) return;\n",
              "\n",
              "          const docLinkHtml = 'Like what you see? Visit the ' +\n",
              "            '<a target=\"_blank\" href=https://colab.research.google.com/notebooks/data_table.ipynb>data table notebook</a>'\n",
              "            + ' to learn more about interactive tables.';\n",
              "          element.innerHTML = '';\n",
              "          dataTable['output_type'] = 'display_data';\n",
              "          await google.colab.output.renderOutput(dataTable, element);\n",
              "          const docLink = document.createElement('div');\n",
              "          docLink.innerHTML = docLinkHtml;\n",
              "          element.appendChild(docLink);\n",
              "        }\n",
              "      </script>\n",
              "    </div>\n",
              "  </div>\n",
              "  "
            ]
          },
          "metadata": {},
          "execution_count": 13
        }
      ]
    },
    {
      "cell_type": "code",
      "metadata": {
        "id": "RAxJnvWH6v8I"
      },
      "source": [
        "# output the result to a text file.\n",
        "\n",
        "clusters = df.groupby('cluster')    \n",
        "\n",
        "for cluster in clusters.groups:\n",
        "    f = open('cluster'+str(cluster)+ '.csv', 'w') # create csv file\n",
        "    data = clusters.get_group(cluster)[['Id','Abstract']] # get title and overview columns\n",
        "    f.write(data.to_csv(index_label='Id')) # set index to id\n",
        "    f.close()"
      ],
      "execution_count": 14,
      "outputs": []
    },
    {
      "cell_type": "code",
      "metadata": {
        "colab": {
          "base_uri": "https://localhost:8080/"
        },
        "id": "IyBiSWFB6v_B",
        "outputId": "e81f4284-f03a-472d-d900-52a232f248b9"
      },
      "source": [
        "print(\"Cluster centroids: \\n\")\n",
        "order_centroids = model.cluster_centers_.argsort()[:, ::-1]\n",
        "terms = vectorizer.get_feature_names()\n",
        "\n",
        "for i in range(k):\n",
        "    print(\"Cluster %d:\" % i)\n",
        "    for j in order_centroids[i, :10]: #print out 10 feature terms of each cluster\n",
        "        print (' %s' % terms[j])\n",
        "    print('------------')"
      ],
      "execution_count": 15,
      "outputs": [
        {
          "output_type": "stream",
          "name": "stdout",
          "text": [
            "Cluster centroids: \n",
            "\n",
            "Cluster 0:\n",
            " mice\n",
            " hippocampal\n",
            " memory\n",
            " hippocampus\n",
            " rats\n",
            " synaptic\n",
            " cognitive\n",
            " expression\n",
            " plasticity\n",
            " effects\n",
            "------------\n",
            "Cluster 1:\n",
            " brain\n",
            " visual\n",
            " motor\n",
            " training\n",
            " functional\n",
            " cortical\n",
            " changes\n",
            " neural\n",
            " auditory\n",
            " cognitive\n",
            "------------\n",
            "Cluster 2:\n",
            " stroke\n",
            " recovery\n",
            " rehabilitation\n",
            " motor\n",
            " patients\n",
            " post\n",
            " ischemic\n",
            " functional\n",
            " brain\n",
            " neuroplasticity\n",
            "------------\n",
            "Cluster 3:\n",
            " stimulation\n",
            " rtms\n",
            " transcranial\n",
            " tms\n",
            " motor\n",
            " tdcs\n",
            " magnetic\n",
            " m1\n",
            " vns\n",
            " brain\n",
            "------------\n",
            "Cluster 4:\n",
            " sup\n",
            " ca\n",
            " synaptic\n",
            " mice\n",
            " neurons\n",
            " plasticity\n",
            " neuronal\n",
            " sub\n",
            " channels\n",
            " protein\n",
            "------------\n",
            "Cluster 5:\n",
            " synaptic\n",
            " neurons\n",
            " plasticity\n",
            " neuronal\n",
            " activity\n",
            " synapses\n",
            " memory\n",
            " learning\n",
            " receptors\n",
            " dependent\n",
            "------------\n",
            "Cluster 6:\n",
            " pain\n",
            " exercise\n",
            " chronic\n",
            " neuropathic\n",
            " patients\n",
            " intensity\n",
            " physical\n",
            " effects\n",
            " study\n",
            " covid\n",
            "------------\n",
            "Cluster 7:\n",
            " sub\n",
            " gaba\n",
            " receptor\n",
            " receptors\n",
            " rs\n",
            " sup\n",
            " synaptic\n",
            " 2a\n",
            " ht\n",
            " tonic\n",
            "------------\n",
            "Cluster 8:\n",
            " sci\n",
            " spinal\n",
            " cord\n",
            " injury\n",
            " motor\n",
            " recovery\n",
            " cervical\n",
            " stimulation\n",
            " functional\n",
            " respiratory\n",
            "------------\n",
            "Cluster 9:\n",
            " brain\n",
            " stress\n",
            " disease\n",
            " ad\n",
            " disorders\n",
            " bdnf\n",
            " effects\n",
            " neuronal\n",
            " mechanisms\n",
            " depression\n",
            "------------\n"
          ]
        },
        {
          "output_type": "stream",
          "name": "stderr",
          "text": [
            "/usr/local/lib/python3.7/dist-packages/sklearn/utils/deprecation.py:87: FutureWarning: Function get_feature_names is deprecated; get_feature_names is deprecated in 1.0 and will be removed in 1.2. Please use get_feature_names_out instead.\n",
            "  warnings.warn(msg, category=FutureWarning)\n"
          ]
        }
      ]
    },
    {
      "cell_type": "code",
      "metadata": {
        "id": "gpCYEMej-7e2"
      },
      "source": [
        ""
      ],
      "execution_count": 15,
      "outputs": []
    }
  ]
}