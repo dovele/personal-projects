{
  "nbformat": 4,
  "nbformat_minor": 0,
  "metadata": {
    "kernelspec": {
      "display_name": "Python 3",
      "language": "python",
      "name": "python3"
    },
    "language_info": {
      "codemirror_mode": {
        "name": "ipython",
        "version": 3
      },
      "file_extension": ".py",
      "mimetype": "text/x-python",
      "name": "python",
      "nbconvert_exporter": "python",
      "pygments_lexer": "ipython3",
      "version": "3.7.6"
    },
    "colab": {
      "name": "A/B testing Udacity.ipynb",
      "provenance": [],
      "collapsed_sections": [],
      "include_colab_link": true
    }
  },
  "cells": [
    {
      "cell_type": "markdown",
      "metadata": {
        "id": "view-in-github",
        "colab_type": "text"
      },
      "source": [
        "<a href=\"https://colab.research.google.com/github/dovele/personal-projects/blob/main/A_B_testing_Udacity.ipynb\" target=\"_parent\"><img src=\"https://colab.research.google.com/assets/colab-badge.svg\" alt=\"Open In Colab\"/></a>"
      ]
    },
    {
      "cell_type": "markdown",
      "metadata": {
        "id": "Qecvd3LRo8iw"
      },
      "source": [
        "# Module 1: Data Science Fundamentals"
      ]
    },
    {
      "cell_type": "markdown",
      "metadata": {
        "id": "ymjnW5CRo8i6"
      },
      "source": [
        "## Sprint 2: Statistical Tests and Experiments"
      ]
    },
    {
      "cell_type": "markdown",
      "metadata": {
        "id": "aBymhBdEo8i7"
      },
      "source": [
        "## Let's analyse Udacity A/B test!"
      ]
    },
    {
      "cell_type": "markdown",
      "metadata": {
        "id": "F3jt1pn4o8i9"
      },
      "source": [
        "<div><img style=\"height: 350px;\" src=\"https://upload.wikimedia.org/wikipedia/commons/3/3b/Udacity_logo.png\" /></div>"
      ]
    },
    {
      "cell_type": "markdown",
      "metadata": {
        "id": "fwffO8Xfo8jB"
      },
      "source": [
        "## Concepts to explore"
      ]
    },
    {
      "cell_type": "markdown",
      "metadata": {
        "id": "NSAhfUSso8jE"
      },
      "source": [
        "You will mostly focus on statistical hypothesis testing in this project on real-life data."
      ]
    },
    {
      "cell_type": "markdown",
      "metadata": {
        "id": "VEbG3j_Yo8jE"
      },
      "source": [
        "## Requirements"
      ]
    },
    {
      "cell_type": "markdown",
      "metadata": {
        "id": "0G1DjYvmo8jE"
      },
      "source": [
        "* Visualize 95% confidence interval between control and experiment groups on [click-through rate](https://en.wikipedia.org/wiki/Click-through_rate) metric. Explain what the confidence interval means, what's the relationship with the population of a group.\n",
        "* Verify that the difference in each of the metrics between control and experiment groups is statistically significant using z-test, 95% confidence level.\n",
        "* Verify that the difference in each of the metrics between control and experiment groups is statistically significant using t-test, 95% confidence level.\n",
        "* Compare both test method results. Explain why they differ / do not differ that much and why.\n",
        "* Choose 1 method (either z or t) and explore statistical significance of any metric under different confidence levels - 60%, 90%, 95%, 99%. If conclusions about significance differ under different confidence levels, explain why.\n",
        "* Calculate p-values."
      ]
    },
    {
      "cell_type": "code",
      "metadata": {
        "id": "iOWeIr5mpa_2",
        "colab": {
          "base_uri": "https://localhost:8080/"
        },
        "outputId": "7bbe2b14-69ab-414c-fc80-ab536de0ecb7"
      },
      "source": [
        "import pandas as pd\n",
        "import numpy as np\n",
        "import seaborn as sns\n",
        "import matplotlib as plt\n",
        "import matplotlib.pyplot as plt\n",
        "%matplotlib inline\n",
        "import math as math\n",
        "import scipy.stats as sp\n",
        "from scipy.stats import norm\n",
        "import statsmodels.api as sm\n",
        "\n",
        "import warnings\n",
        "warnings.filterwarnings(\"ignore\")\n",
        "\n",
        "url_control = 'https://raw.githubusercontent.com/dovele/personal-projects/main/Udacity%20AB%20testing/Final%20Project%20Results%20-%20Control.csv'\n",
        "url_exp = 'https://raw.githubusercontent.com/dovele/personal-projects/main/Udacity%20AB%20testing/Final%20Project%20Results%20-%20Experiment.csv'\n",
        "\n",
        "control = pd.read_csv(url_control, index_col=0)\n",
        "experiment = pd.read_csv(url_exp, index_col=0)"
      ],
      "execution_count": 1,
      "outputs": [
        {
          "output_type": "stream",
          "name": "stderr",
          "text": [
            "/usr/local/lib/python3.7/dist-packages/statsmodels/tools/_testing.py:19: FutureWarning: pandas.util.testing is deprecated. Use the functions in the public API at pandas.testing instead.\n",
            "  import pandas.util.testing as tm\n"
          ]
        }
      ]
    },
    {
      "cell_type": "code",
      "metadata": {
        "colab": {
          "base_uri": "https://localhost:8080/",
          "height": 237
        },
        "id": "KtVfHqgxpbiF",
        "outputId": "fecce14a-493c-45a1-b43e-1b4724a620d7"
      },
      "source": [
        "control.head()"
      ],
      "execution_count": 2,
      "outputs": [
        {
          "output_type": "execute_result",
          "data": {
            "text/plain": [
              "             Pageviews  Clicks  Enrollments  Payments\n",
              "Date                                                 \n",
              "Sat, Oct 11       7723     687        134.0      70.0\n",
              "Sun, Oct 12       9102     779        147.0      70.0\n",
              "Mon, Oct 13      10511     909        167.0      95.0\n",
              "Tue, Oct 14       9871     836        156.0     105.0\n",
              "Wed, Oct 15      10014     837        163.0      64.0"
            ],
            "text/html": [
              "\n",
              "  <div id=\"df-274eadce-65b0-4f11-8882-aad61f551af5\">\n",
              "    <div class=\"colab-df-container\">\n",
              "      <div>\n",
              "<style scoped>\n",
              "    .dataframe tbody tr th:only-of-type {\n",
              "        vertical-align: middle;\n",
              "    }\n",
              "\n",
              "    .dataframe tbody tr th {\n",
              "        vertical-align: top;\n",
              "    }\n",
              "\n",
              "    .dataframe thead th {\n",
              "        text-align: right;\n",
              "    }\n",
              "</style>\n",
              "<table border=\"1\" class=\"dataframe\">\n",
              "  <thead>\n",
              "    <tr style=\"text-align: right;\">\n",
              "      <th></th>\n",
              "      <th>Pageviews</th>\n",
              "      <th>Clicks</th>\n",
              "      <th>Enrollments</th>\n",
              "      <th>Payments</th>\n",
              "    </tr>\n",
              "    <tr>\n",
              "      <th>Date</th>\n",
              "      <th></th>\n",
              "      <th></th>\n",
              "      <th></th>\n",
              "      <th></th>\n",
              "    </tr>\n",
              "  </thead>\n",
              "  <tbody>\n",
              "    <tr>\n",
              "      <th>Sat, Oct 11</th>\n",
              "      <td>7723</td>\n",
              "      <td>687</td>\n",
              "      <td>134.0</td>\n",
              "      <td>70.0</td>\n",
              "    </tr>\n",
              "    <tr>\n",
              "      <th>Sun, Oct 12</th>\n",
              "      <td>9102</td>\n",
              "      <td>779</td>\n",
              "      <td>147.0</td>\n",
              "      <td>70.0</td>\n",
              "    </tr>\n",
              "    <tr>\n",
              "      <th>Mon, Oct 13</th>\n",
              "      <td>10511</td>\n",
              "      <td>909</td>\n",
              "      <td>167.0</td>\n",
              "      <td>95.0</td>\n",
              "    </tr>\n",
              "    <tr>\n",
              "      <th>Tue, Oct 14</th>\n",
              "      <td>9871</td>\n",
              "      <td>836</td>\n",
              "      <td>156.0</td>\n",
              "      <td>105.0</td>\n",
              "    </tr>\n",
              "    <tr>\n",
              "      <th>Wed, Oct 15</th>\n",
              "      <td>10014</td>\n",
              "      <td>837</td>\n",
              "      <td>163.0</td>\n",
              "      <td>64.0</td>\n",
              "    </tr>\n",
              "  </tbody>\n",
              "</table>\n",
              "</div>\n",
              "      <button class=\"colab-df-convert\" onclick=\"convertToInteractive('df-274eadce-65b0-4f11-8882-aad61f551af5')\"\n",
              "              title=\"Convert this dataframe to an interactive table.\"\n",
              "              style=\"display:none;\">\n",
              "        \n",
              "  <svg xmlns=\"http://www.w3.org/2000/svg\" height=\"24px\"viewBox=\"0 0 24 24\"\n",
              "       width=\"24px\">\n",
              "    <path d=\"M0 0h24v24H0V0z\" fill=\"none\"/>\n",
              "    <path d=\"M18.56 5.44l.94 2.06.94-2.06 2.06-.94-2.06-.94-.94-2.06-.94 2.06-2.06.94zm-11 1L8.5 8.5l.94-2.06 2.06-.94-2.06-.94L8.5 2.5l-.94 2.06-2.06.94zm10 10l.94 2.06.94-2.06 2.06-.94-2.06-.94-.94-2.06-.94 2.06-2.06.94z\"/><path d=\"M17.41 7.96l-1.37-1.37c-.4-.4-.92-.59-1.43-.59-.52 0-1.04.2-1.43.59L10.3 9.45l-7.72 7.72c-.78.78-.78 2.05 0 2.83L4 21.41c.39.39.9.59 1.41.59.51 0 1.02-.2 1.41-.59l7.78-7.78 2.81-2.81c.8-.78.8-2.07 0-2.86zM5.41 20L4 18.59l7.72-7.72 1.47 1.35L5.41 20z\"/>\n",
              "  </svg>\n",
              "      </button>\n",
              "      \n",
              "  <style>\n",
              "    .colab-df-container {\n",
              "      display:flex;\n",
              "      flex-wrap:wrap;\n",
              "      gap: 12px;\n",
              "    }\n",
              "\n",
              "    .colab-df-convert {\n",
              "      background-color: #E8F0FE;\n",
              "      border: none;\n",
              "      border-radius: 50%;\n",
              "      cursor: pointer;\n",
              "      display: none;\n",
              "      fill: #1967D2;\n",
              "      height: 32px;\n",
              "      padding: 0 0 0 0;\n",
              "      width: 32px;\n",
              "    }\n",
              "\n",
              "    .colab-df-convert:hover {\n",
              "      background-color: #E2EBFA;\n",
              "      box-shadow: 0px 1px 2px rgba(60, 64, 67, 0.3), 0px 1px 3px 1px rgba(60, 64, 67, 0.15);\n",
              "      fill: #174EA6;\n",
              "    }\n",
              "\n",
              "    [theme=dark] .colab-df-convert {\n",
              "      background-color: #3B4455;\n",
              "      fill: #D2E3FC;\n",
              "    }\n",
              "\n",
              "    [theme=dark] .colab-df-convert:hover {\n",
              "      background-color: #434B5C;\n",
              "      box-shadow: 0px 1px 3px 1px rgba(0, 0, 0, 0.15);\n",
              "      filter: drop-shadow(0px 1px 2px rgba(0, 0, 0, 0.3));\n",
              "      fill: #FFFFFF;\n",
              "    }\n",
              "  </style>\n",
              "\n",
              "      <script>\n",
              "        const buttonEl =\n",
              "          document.querySelector('#df-274eadce-65b0-4f11-8882-aad61f551af5 button.colab-df-convert');\n",
              "        buttonEl.style.display =\n",
              "          google.colab.kernel.accessAllowed ? 'block' : 'none';\n",
              "\n",
              "        async function convertToInteractive(key) {\n",
              "          const element = document.querySelector('#df-274eadce-65b0-4f11-8882-aad61f551af5');\n",
              "          const dataTable =\n",
              "            await google.colab.kernel.invokeFunction('convertToInteractive',\n",
              "                                                     [key], {});\n",
              "          if (!dataTable) return;\n",
              "\n",
              "          const docLinkHtml = 'Like what you see? Visit the ' +\n",
              "            '<a target=\"_blank\" href=https://colab.research.google.com/notebooks/data_table.ipynb>data table notebook</a>'\n",
              "            + ' to learn more about interactive tables.';\n",
              "          element.innerHTML = '';\n",
              "          dataTable['output_type'] = 'display_data';\n",
              "          await google.colab.output.renderOutput(dataTable, element);\n",
              "          const docLink = document.createElement('div');\n",
              "          docLink.innerHTML = docLinkHtml;\n",
              "          element.appendChild(docLink);\n",
              "        }\n",
              "      </script>\n",
              "    </div>\n",
              "  </div>\n",
              "  "
            ]
          },
          "metadata": {},
          "execution_count": 2
        }
      ]
    },
    {
      "cell_type": "code",
      "metadata": {
        "colab": {
          "base_uri": "https://localhost:8080/"
        },
        "id": "hoONw2jApbj1",
        "outputId": "c5b7b68a-189d-4b9b-ad25-dfe3d61a892e"
      },
      "source": [
        "control.info()"
      ],
      "execution_count": 3,
      "outputs": [
        {
          "output_type": "stream",
          "name": "stdout",
          "text": [
            "<class 'pandas.core.frame.DataFrame'>\n",
            "Index: 37 entries, Sat, Oct 11 to Sun, Nov 16\n",
            "Data columns (total 4 columns):\n",
            " #   Column       Non-Null Count  Dtype  \n",
            "---  ------       --------------  -----  \n",
            " 0   Pageviews    37 non-null     int64  \n",
            " 1   Clicks       37 non-null     int64  \n",
            " 2   Enrollments  23 non-null     float64\n",
            " 3   Payments     23 non-null     float64\n",
            "dtypes: float64(2), int64(2)\n",
            "memory usage: 1.4+ KB\n"
          ]
        }
      ]
    },
    {
      "cell_type": "code",
      "metadata": {
        "colab": {
          "base_uri": "https://localhost:8080/",
          "height": 237
        },
        "id": "n9YKKmSDpboA",
        "outputId": "af93a88f-55e4-444f-a841-a942f98bb912"
      },
      "source": [
        "control[\"CTR_pct\"] = (control[\"Clicks\"] / control[\"Pageviews\"]) * 100 #click-through rate - CTR - percentage\n",
        "control[\"CAE_pct\"] = (control[\"Enrollments\"] / control[\"Clicks\"]) * 100 #clicked and enrolled - CAE - percentage\n",
        "control[\"EAP_pct\"] = (control[\"Payments\"] / control[\"Enrollments\"]) * 100 # enrolled and paid - EAP - percentage\n",
        "control[\"PAP_pct\"] = (control[\"Payments\"] / control[\"Clicks\"]) * 100 #viewied the page and paid for course - PAP - percentage\n",
        "\n",
        "control[\"CTR\"] = (control[\"Clicks\"] / control[\"Pageviews\"]) #click-through rate - CTR - proportion\n",
        "control[\"CAE\"] = (control[\"Enrollments\"] / control[\"Clicks\"]) #clicked and enrolled - CAE - proportion\n",
        "control[\"EAP\"] = (control[\"Payments\"] / control[\"Enrollments\"]) # enrolled and paid - EAP - proportion\n",
        "control[\"PAP\"] = (control[\"Payments\"] / control[\"Clicks\"])  #viewied the page and paid for course - PAP - proportion\n",
        "control[\"bin\"] = \"control\"\n",
        "control.head()"
      ],
      "execution_count": 4,
      "outputs": [
        {
          "output_type": "execute_result",
          "data": {
            "text/plain": [
              "             Pageviews  Clicks  Enrollments  Payments   CTR_pct    CAE_pct  \\\n",
              "Date                                                                         \n",
              "Sat, Oct 11       7723     687        134.0      70.0  8.895507  19.505095   \n",
              "Sun, Oct 12       9102     779        147.0      70.0  8.558559  18.870347   \n",
              "Mon, Oct 13      10511     909        167.0      95.0  8.648083  18.371837   \n",
              "Tue, Oct 14       9871     836        156.0     105.0  8.469253  18.660287   \n",
              "Wed, Oct 15      10014     837        163.0      64.0  8.358298  19.474313   \n",
              "\n",
              "               EAP_pct    PAP_pct       CTR       CAE       EAP       PAP  \\\n",
              "Date                                                                        \n",
              "Sat, Oct 11  52.238806  10.189229  0.088955  0.195051  0.522388  0.101892   \n",
              "Sun, Oct 12  47.619048   8.985879  0.085586  0.188703  0.476190  0.089859   \n",
              "Mon, Oct 13  56.886228  10.451045  0.086481  0.183718  0.568862  0.104510   \n",
              "Tue, Oct 14  67.307692  12.559809  0.084693  0.186603  0.673077  0.125598   \n",
              "Wed, Oct 15  39.263804   7.646356  0.083583  0.194743  0.392638  0.076464   \n",
              "\n",
              "                 bin  \n",
              "Date                  \n",
              "Sat, Oct 11  control  \n",
              "Sun, Oct 12  control  \n",
              "Mon, Oct 13  control  \n",
              "Tue, Oct 14  control  \n",
              "Wed, Oct 15  control  "
            ],
            "text/html": [
              "\n",
              "  <div id=\"df-bf33084e-3f5c-4f64-b6ea-80d485de3ba5\">\n",
              "    <div class=\"colab-df-container\">\n",
              "      <div>\n",
              "<style scoped>\n",
              "    .dataframe tbody tr th:only-of-type {\n",
              "        vertical-align: middle;\n",
              "    }\n",
              "\n",
              "    .dataframe tbody tr th {\n",
              "        vertical-align: top;\n",
              "    }\n",
              "\n",
              "    .dataframe thead th {\n",
              "        text-align: right;\n",
              "    }\n",
              "</style>\n",
              "<table border=\"1\" class=\"dataframe\">\n",
              "  <thead>\n",
              "    <tr style=\"text-align: right;\">\n",
              "      <th></th>\n",
              "      <th>Pageviews</th>\n",
              "      <th>Clicks</th>\n",
              "      <th>Enrollments</th>\n",
              "      <th>Payments</th>\n",
              "      <th>CTR_pct</th>\n",
              "      <th>CAE_pct</th>\n",
              "      <th>EAP_pct</th>\n",
              "      <th>PAP_pct</th>\n",
              "      <th>CTR</th>\n",
              "      <th>CAE</th>\n",
              "      <th>EAP</th>\n",
              "      <th>PAP</th>\n",
              "      <th>bin</th>\n",
              "    </tr>\n",
              "    <tr>\n",
              "      <th>Date</th>\n",
              "      <th></th>\n",
              "      <th></th>\n",
              "      <th></th>\n",
              "      <th></th>\n",
              "      <th></th>\n",
              "      <th></th>\n",
              "      <th></th>\n",
              "      <th></th>\n",
              "      <th></th>\n",
              "      <th></th>\n",
              "      <th></th>\n",
              "      <th></th>\n",
              "      <th></th>\n",
              "    </tr>\n",
              "  </thead>\n",
              "  <tbody>\n",
              "    <tr>\n",
              "      <th>Sat, Oct 11</th>\n",
              "      <td>7723</td>\n",
              "      <td>687</td>\n",
              "      <td>134.0</td>\n",
              "      <td>70.0</td>\n",
              "      <td>8.895507</td>\n",
              "      <td>19.505095</td>\n",
              "      <td>52.238806</td>\n",
              "      <td>10.189229</td>\n",
              "      <td>0.088955</td>\n",
              "      <td>0.195051</td>\n",
              "      <td>0.522388</td>\n",
              "      <td>0.101892</td>\n",
              "      <td>control</td>\n",
              "    </tr>\n",
              "    <tr>\n",
              "      <th>Sun, Oct 12</th>\n",
              "      <td>9102</td>\n",
              "      <td>779</td>\n",
              "      <td>147.0</td>\n",
              "      <td>70.0</td>\n",
              "      <td>8.558559</td>\n",
              "      <td>18.870347</td>\n",
              "      <td>47.619048</td>\n",
              "      <td>8.985879</td>\n",
              "      <td>0.085586</td>\n",
              "      <td>0.188703</td>\n",
              "      <td>0.476190</td>\n",
              "      <td>0.089859</td>\n",
              "      <td>control</td>\n",
              "    </tr>\n",
              "    <tr>\n",
              "      <th>Mon, Oct 13</th>\n",
              "      <td>10511</td>\n",
              "      <td>909</td>\n",
              "      <td>167.0</td>\n",
              "      <td>95.0</td>\n",
              "      <td>8.648083</td>\n",
              "      <td>18.371837</td>\n",
              "      <td>56.886228</td>\n",
              "      <td>10.451045</td>\n",
              "      <td>0.086481</td>\n",
              "      <td>0.183718</td>\n",
              "      <td>0.568862</td>\n",
              "      <td>0.104510</td>\n",
              "      <td>control</td>\n",
              "    </tr>\n",
              "    <tr>\n",
              "      <th>Tue, Oct 14</th>\n",
              "      <td>9871</td>\n",
              "      <td>836</td>\n",
              "      <td>156.0</td>\n",
              "      <td>105.0</td>\n",
              "      <td>8.469253</td>\n",
              "      <td>18.660287</td>\n",
              "      <td>67.307692</td>\n",
              "      <td>12.559809</td>\n",
              "      <td>0.084693</td>\n",
              "      <td>0.186603</td>\n",
              "      <td>0.673077</td>\n",
              "      <td>0.125598</td>\n",
              "      <td>control</td>\n",
              "    </tr>\n",
              "    <tr>\n",
              "      <th>Wed, Oct 15</th>\n",
              "      <td>10014</td>\n",
              "      <td>837</td>\n",
              "      <td>163.0</td>\n",
              "      <td>64.0</td>\n",
              "      <td>8.358298</td>\n",
              "      <td>19.474313</td>\n",
              "      <td>39.263804</td>\n",
              "      <td>7.646356</td>\n",
              "      <td>0.083583</td>\n",
              "      <td>0.194743</td>\n",
              "      <td>0.392638</td>\n",
              "      <td>0.076464</td>\n",
              "      <td>control</td>\n",
              "    </tr>\n",
              "  </tbody>\n",
              "</table>\n",
              "</div>\n",
              "      <button class=\"colab-df-convert\" onclick=\"convertToInteractive('df-bf33084e-3f5c-4f64-b6ea-80d485de3ba5')\"\n",
              "              title=\"Convert this dataframe to an interactive table.\"\n",
              "              style=\"display:none;\">\n",
              "        \n",
              "  <svg xmlns=\"http://www.w3.org/2000/svg\" height=\"24px\"viewBox=\"0 0 24 24\"\n",
              "       width=\"24px\">\n",
              "    <path d=\"M0 0h24v24H0V0z\" fill=\"none\"/>\n",
              "    <path d=\"M18.56 5.44l.94 2.06.94-2.06 2.06-.94-2.06-.94-.94-2.06-.94 2.06-2.06.94zm-11 1L8.5 8.5l.94-2.06 2.06-.94-2.06-.94L8.5 2.5l-.94 2.06-2.06.94zm10 10l.94 2.06.94-2.06 2.06-.94-2.06-.94-.94-2.06-.94 2.06-2.06.94z\"/><path d=\"M17.41 7.96l-1.37-1.37c-.4-.4-.92-.59-1.43-.59-.52 0-1.04.2-1.43.59L10.3 9.45l-7.72 7.72c-.78.78-.78 2.05 0 2.83L4 21.41c.39.39.9.59 1.41.59.51 0 1.02-.2 1.41-.59l7.78-7.78 2.81-2.81c.8-.78.8-2.07 0-2.86zM5.41 20L4 18.59l7.72-7.72 1.47 1.35L5.41 20z\"/>\n",
              "  </svg>\n",
              "      </button>\n",
              "      \n",
              "  <style>\n",
              "    .colab-df-container {\n",
              "      display:flex;\n",
              "      flex-wrap:wrap;\n",
              "      gap: 12px;\n",
              "    }\n",
              "\n",
              "    .colab-df-convert {\n",
              "      background-color: #E8F0FE;\n",
              "      border: none;\n",
              "      border-radius: 50%;\n",
              "      cursor: pointer;\n",
              "      display: none;\n",
              "      fill: #1967D2;\n",
              "      height: 32px;\n",
              "      padding: 0 0 0 0;\n",
              "      width: 32px;\n",
              "    }\n",
              "\n",
              "    .colab-df-convert:hover {\n",
              "      background-color: #E2EBFA;\n",
              "      box-shadow: 0px 1px 2px rgba(60, 64, 67, 0.3), 0px 1px 3px 1px rgba(60, 64, 67, 0.15);\n",
              "      fill: #174EA6;\n",
              "    }\n",
              "\n",
              "    [theme=dark] .colab-df-convert {\n",
              "      background-color: #3B4455;\n",
              "      fill: #D2E3FC;\n",
              "    }\n",
              "\n",
              "    [theme=dark] .colab-df-convert:hover {\n",
              "      background-color: #434B5C;\n",
              "      box-shadow: 0px 1px 3px 1px rgba(0, 0, 0, 0.15);\n",
              "      filter: drop-shadow(0px 1px 2px rgba(0, 0, 0, 0.3));\n",
              "      fill: #FFFFFF;\n",
              "    }\n",
              "  </style>\n",
              "\n",
              "      <script>\n",
              "        const buttonEl =\n",
              "          document.querySelector('#df-bf33084e-3f5c-4f64-b6ea-80d485de3ba5 button.colab-df-convert');\n",
              "        buttonEl.style.display =\n",
              "          google.colab.kernel.accessAllowed ? 'block' : 'none';\n",
              "\n",
              "        async function convertToInteractive(key) {\n",
              "          const element = document.querySelector('#df-bf33084e-3f5c-4f64-b6ea-80d485de3ba5');\n",
              "          const dataTable =\n",
              "            await google.colab.kernel.invokeFunction('convertToInteractive',\n",
              "                                                     [key], {});\n",
              "          if (!dataTable) return;\n",
              "\n",
              "          const docLinkHtml = 'Like what you see? Visit the ' +\n",
              "            '<a target=\"_blank\" href=https://colab.research.google.com/notebooks/data_table.ipynb>data table notebook</a>'\n",
              "            + ' to learn more about interactive tables.';\n",
              "          element.innerHTML = '';\n",
              "          dataTable['output_type'] = 'display_data';\n",
              "          await google.colab.output.renderOutput(dataTable, element);\n",
              "          const docLink = document.createElement('div');\n",
              "          docLink.innerHTML = docLinkHtml;\n",
              "          element.appendChild(docLink);\n",
              "        }\n",
              "      </script>\n",
              "    </div>\n",
              "  </div>\n",
              "  "
            ]
          },
          "metadata": {},
          "execution_count": 4
        }
      ]
    },
    {
      "cell_type": "code",
      "metadata": {
        "colab": {
          "base_uri": "https://localhost:8080/",
          "height": 237
        },
        "id": "ultPyrA8ylgu",
        "outputId": "b11b075b-6ae3-4789-9ffb-3a50e168651c"
      },
      "source": [
        "experiment[\"CTR_pct\"] = (experiment[\"Clicks\"] / experiment[\"Pageviews\"]) * 100 #click-through rate - CTR - percentage\n",
        "experiment[\"CAE_pct\"] = (experiment[\"Enrollments\"] / experiment[\"Clicks\"]) * 100 #clicked and enrolled - CAE - percentage\n",
        "experiment[\"EAP_pct\"] = (experiment[\"Payments\"] / experiment[\"Enrollments\"]) * 100 #enrolled and paid - EAP - percentage\n",
        "experiment[\"PAP_pct\"] = (experiment[\"Payments\"] / experiment[\"Clicks\"]) * 100 #viewied the page and paid for course - PAP - percentage\n",
        "\n",
        "experiment[\"CTR\"] = (experiment[\"Clicks\"] / experiment[\"Pageviews\"])  #click-through rate - CTR - proportion\n",
        "experiment[\"CAE\"] = (experiment[\"Enrollments\"] / experiment[\"Clicks\"])  #clicked and enrolled - CAE - proportion\n",
        "experiment[\"EAP\"] = (experiment[\"Payments\"] / experiment[\"Enrollments\"])  #enrolled and paid - EAP - proportion\n",
        "experiment[\"PAP\"] = (experiment[\"Payments\"] / experiment[\"Clicks\"])  #viewied the page and paid for course - PAP - proportion\n",
        "experiment[\"bin\"] = \"experiment\"\n",
        "\n",
        "experiment.head()\n"
      ],
      "execution_count": 5,
      "outputs": [
        {
          "output_type": "execute_result",
          "data": {
            "text/plain": [
              "             Pageviews  Clicks  Enrollments  Payments   CTR_pct    CAE_pct  \\\n",
              "Date                                                                         \n",
              "Sat, Oct 11       7716     686        105.0      34.0  8.890617  15.306122   \n",
              "Sun, Oct 12       9288     785        116.0      91.0  8.451766  14.777070   \n",
              "Mon, Oct 13      10480     884        145.0      79.0  8.435115  16.402715   \n",
              "Tue, Oct 14       9867     827        138.0      92.0  8.381474  16.686820   \n",
              "Wed, Oct 15       9793     832        140.0      94.0  8.495864  16.826923   \n",
              "\n",
              "               EAP_pct    PAP_pct       CTR       CAE       EAP       PAP  \\\n",
              "Date                                                                        \n",
              "Sat, Oct 11  32.380952   4.956268  0.088906  0.153061  0.323810  0.049563   \n",
              "Sun, Oct 12  78.448276  11.592357  0.084518  0.147771  0.784483  0.115924   \n",
              "Mon, Oct 13  54.482759   8.936652  0.084351  0.164027  0.544828  0.089367   \n",
              "Tue, Oct 14  66.666667  11.124547  0.083815  0.166868  0.666667  0.111245   \n",
              "Wed, Oct 15  67.142857  11.298077  0.084959  0.168269  0.671429  0.112981   \n",
              "\n",
              "                    bin  \n",
              "Date                     \n",
              "Sat, Oct 11  experiment  \n",
              "Sun, Oct 12  experiment  \n",
              "Mon, Oct 13  experiment  \n",
              "Tue, Oct 14  experiment  \n",
              "Wed, Oct 15  experiment  "
            ],
            "text/html": [
              "\n",
              "  <div id=\"df-1fe3ac1f-692a-4e07-b816-c7c0ba3d781b\">\n",
              "    <div class=\"colab-df-container\">\n",
              "      <div>\n",
              "<style scoped>\n",
              "    .dataframe tbody tr th:only-of-type {\n",
              "        vertical-align: middle;\n",
              "    }\n",
              "\n",
              "    .dataframe tbody tr th {\n",
              "        vertical-align: top;\n",
              "    }\n",
              "\n",
              "    .dataframe thead th {\n",
              "        text-align: right;\n",
              "    }\n",
              "</style>\n",
              "<table border=\"1\" class=\"dataframe\">\n",
              "  <thead>\n",
              "    <tr style=\"text-align: right;\">\n",
              "      <th></th>\n",
              "      <th>Pageviews</th>\n",
              "      <th>Clicks</th>\n",
              "      <th>Enrollments</th>\n",
              "      <th>Payments</th>\n",
              "      <th>CTR_pct</th>\n",
              "      <th>CAE_pct</th>\n",
              "      <th>EAP_pct</th>\n",
              "      <th>PAP_pct</th>\n",
              "      <th>CTR</th>\n",
              "      <th>CAE</th>\n",
              "      <th>EAP</th>\n",
              "      <th>PAP</th>\n",
              "      <th>bin</th>\n",
              "    </tr>\n",
              "    <tr>\n",
              "      <th>Date</th>\n",
              "      <th></th>\n",
              "      <th></th>\n",
              "      <th></th>\n",
              "      <th></th>\n",
              "      <th></th>\n",
              "      <th></th>\n",
              "      <th></th>\n",
              "      <th></th>\n",
              "      <th></th>\n",
              "      <th></th>\n",
              "      <th></th>\n",
              "      <th></th>\n",
              "      <th></th>\n",
              "    </tr>\n",
              "  </thead>\n",
              "  <tbody>\n",
              "    <tr>\n",
              "      <th>Sat, Oct 11</th>\n",
              "      <td>7716</td>\n",
              "      <td>686</td>\n",
              "      <td>105.0</td>\n",
              "      <td>34.0</td>\n",
              "      <td>8.890617</td>\n",
              "      <td>15.306122</td>\n",
              "      <td>32.380952</td>\n",
              "      <td>4.956268</td>\n",
              "      <td>0.088906</td>\n",
              "      <td>0.153061</td>\n",
              "      <td>0.323810</td>\n",
              "      <td>0.049563</td>\n",
              "      <td>experiment</td>\n",
              "    </tr>\n",
              "    <tr>\n",
              "      <th>Sun, Oct 12</th>\n",
              "      <td>9288</td>\n",
              "      <td>785</td>\n",
              "      <td>116.0</td>\n",
              "      <td>91.0</td>\n",
              "      <td>8.451766</td>\n",
              "      <td>14.777070</td>\n",
              "      <td>78.448276</td>\n",
              "      <td>11.592357</td>\n",
              "      <td>0.084518</td>\n",
              "      <td>0.147771</td>\n",
              "      <td>0.784483</td>\n",
              "      <td>0.115924</td>\n",
              "      <td>experiment</td>\n",
              "    </tr>\n",
              "    <tr>\n",
              "      <th>Mon, Oct 13</th>\n",
              "      <td>10480</td>\n",
              "      <td>884</td>\n",
              "      <td>145.0</td>\n",
              "      <td>79.0</td>\n",
              "      <td>8.435115</td>\n",
              "      <td>16.402715</td>\n",
              "      <td>54.482759</td>\n",
              "      <td>8.936652</td>\n",
              "      <td>0.084351</td>\n",
              "      <td>0.164027</td>\n",
              "      <td>0.544828</td>\n",
              "      <td>0.089367</td>\n",
              "      <td>experiment</td>\n",
              "    </tr>\n",
              "    <tr>\n",
              "      <th>Tue, Oct 14</th>\n",
              "      <td>9867</td>\n",
              "      <td>827</td>\n",
              "      <td>138.0</td>\n",
              "      <td>92.0</td>\n",
              "      <td>8.381474</td>\n",
              "      <td>16.686820</td>\n",
              "      <td>66.666667</td>\n",
              "      <td>11.124547</td>\n",
              "      <td>0.083815</td>\n",
              "      <td>0.166868</td>\n",
              "      <td>0.666667</td>\n",
              "      <td>0.111245</td>\n",
              "      <td>experiment</td>\n",
              "    </tr>\n",
              "    <tr>\n",
              "      <th>Wed, Oct 15</th>\n",
              "      <td>9793</td>\n",
              "      <td>832</td>\n",
              "      <td>140.0</td>\n",
              "      <td>94.0</td>\n",
              "      <td>8.495864</td>\n",
              "      <td>16.826923</td>\n",
              "      <td>67.142857</td>\n",
              "      <td>11.298077</td>\n",
              "      <td>0.084959</td>\n",
              "      <td>0.168269</td>\n",
              "      <td>0.671429</td>\n",
              "      <td>0.112981</td>\n",
              "      <td>experiment</td>\n",
              "    </tr>\n",
              "  </tbody>\n",
              "</table>\n",
              "</div>\n",
              "      <button class=\"colab-df-convert\" onclick=\"convertToInteractive('df-1fe3ac1f-692a-4e07-b816-c7c0ba3d781b')\"\n",
              "              title=\"Convert this dataframe to an interactive table.\"\n",
              "              style=\"display:none;\">\n",
              "        \n",
              "  <svg xmlns=\"http://www.w3.org/2000/svg\" height=\"24px\"viewBox=\"0 0 24 24\"\n",
              "       width=\"24px\">\n",
              "    <path d=\"M0 0h24v24H0V0z\" fill=\"none\"/>\n",
              "    <path d=\"M18.56 5.44l.94 2.06.94-2.06 2.06-.94-2.06-.94-.94-2.06-.94 2.06-2.06.94zm-11 1L8.5 8.5l.94-2.06 2.06-.94-2.06-.94L8.5 2.5l-.94 2.06-2.06.94zm10 10l.94 2.06.94-2.06 2.06-.94-2.06-.94-.94-2.06-.94 2.06-2.06.94z\"/><path d=\"M17.41 7.96l-1.37-1.37c-.4-.4-.92-.59-1.43-.59-.52 0-1.04.2-1.43.59L10.3 9.45l-7.72 7.72c-.78.78-.78 2.05 0 2.83L4 21.41c.39.39.9.59 1.41.59.51 0 1.02-.2 1.41-.59l7.78-7.78 2.81-2.81c.8-.78.8-2.07 0-2.86zM5.41 20L4 18.59l7.72-7.72 1.47 1.35L5.41 20z\"/>\n",
              "  </svg>\n",
              "      </button>\n",
              "      \n",
              "  <style>\n",
              "    .colab-df-container {\n",
              "      display:flex;\n",
              "      flex-wrap:wrap;\n",
              "      gap: 12px;\n",
              "    }\n",
              "\n",
              "    .colab-df-convert {\n",
              "      background-color: #E8F0FE;\n",
              "      border: none;\n",
              "      border-radius: 50%;\n",
              "      cursor: pointer;\n",
              "      display: none;\n",
              "      fill: #1967D2;\n",
              "      height: 32px;\n",
              "      padding: 0 0 0 0;\n",
              "      width: 32px;\n",
              "    }\n",
              "\n",
              "    .colab-df-convert:hover {\n",
              "      background-color: #E2EBFA;\n",
              "      box-shadow: 0px 1px 2px rgba(60, 64, 67, 0.3), 0px 1px 3px 1px rgba(60, 64, 67, 0.15);\n",
              "      fill: #174EA6;\n",
              "    }\n",
              "\n",
              "    [theme=dark] .colab-df-convert {\n",
              "      background-color: #3B4455;\n",
              "      fill: #D2E3FC;\n",
              "    }\n",
              "\n",
              "    [theme=dark] .colab-df-convert:hover {\n",
              "      background-color: #434B5C;\n",
              "      box-shadow: 0px 1px 3px 1px rgba(0, 0, 0, 0.15);\n",
              "      filter: drop-shadow(0px 1px 2px rgba(0, 0, 0, 0.3));\n",
              "      fill: #FFFFFF;\n",
              "    }\n",
              "  </style>\n",
              "\n",
              "      <script>\n",
              "        const buttonEl =\n",
              "          document.querySelector('#df-1fe3ac1f-692a-4e07-b816-c7c0ba3d781b button.colab-df-convert');\n",
              "        buttonEl.style.display =\n",
              "          google.colab.kernel.accessAllowed ? 'block' : 'none';\n",
              "\n",
              "        async function convertToInteractive(key) {\n",
              "          const element = document.querySelector('#df-1fe3ac1f-692a-4e07-b816-c7c0ba3d781b');\n",
              "          const dataTable =\n",
              "            await google.colab.kernel.invokeFunction('convertToInteractive',\n",
              "                                                     [key], {});\n",
              "          if (!dataTable) return;\n",
              "\n",
              "          const docLinkHtml = 'Like what you see? Visit the ' +\n",
              "            '<a target=\"_blank\" href=https://colab.research.google.com/notebooks/data_table.ipynb>data table notebook</a>'\n",
              "            + ' to learn more about interactive tables.';\n",
              "          element.innerHTML = '';\n",
              "          dataTable['output_type'] = 'display_data';\n",
              "          await google.colab.output.renderOutput(dataTable, element);\n",
              "          const docLink = document.createElement('div');\n",
              "          docLink.innerHTML = docLinkHtml;\n",
              "          element.appendChild(docLink);\n",
              "        }\n",
              "      </script>\n",
              "    </div>\n",
              "  </div>\n",
              "  "
            ]
          },
          "metadata": {},
          "execution_count": 5
        }
      ]
    },
    {
      "cell_type": "markdown",
      "metadata": {
        "id": "9-MSp0-DYorG"
      },
      "source": [
        "I added 4 columns - CTR, CAE, EAP, PAP, which are calculated from Pageviews, Clicks, Enrollments, Payments so that I could compare them as proportions (and columns CRT_pctm CAE_pct, EAP_pct, PAP_pct expressed in percent).\n",
        "\n",
        "Bin column has the name of the group - control or experimental group."
      ]
    },
    {
      "cell_type": "code",
      "metadata": {
        "id": "47IpbS-a0FqE",
        "colab": {
          "base_uri": "https://localhost:8080/",
          "height": 206
        },
        "outputId": "ec39765a-1d54-4b5e-c9bf-1e37036ef0ae"
      },
      "source": [
        "df = pd.concat([control, experiment]).reset_index() #drop=True\n",
        "df.head()"
      ],
      "execution_count": 6,
      "outputs": [
        {
          "output_type": "execute_result",
          "data": {
            "text/plain": [
              "          Date  Pageviews  Clicks  Enrollments  Payments   CTR_pct    CAE_pct  \\\n",
              "0  Sat, Oct 11       7723     687        134.0      70.0  8.895507  19.505095   \n",
              "1  Sun, Oct 12       9102     779        147.0      70.0  8.558559  18.870347   \n",
              "2  Mon, Oct 13      10511     909        167.0      95.0  8.648083  18.371837   \n",
              "3  Tue, Oct 14       9871     836        156.0     105.0  8.469253  18.660287   \n",
              "4  Wed, Oct 15      10014     837        163.0      64.0  8.358298  19.474313   \n",
              "\n",
              "     EAP_pct    PAP_pct       CTR       CAE       EAP       PAP      bin  \n",
              "0  52.238806  10.189229  0.088955  0.195051  0.522388  0.101892  control  \n",
              "1  47.619048   8.985879  0.085586  0.188703  0.476190  0.089859  control  \n",
              "2  56.886228  10.451045  0.086481  0.183718  0.568862  0.104510  control  \n",
              "3  67.307692  12.559809  0.084693  0.186603  0.673077  0.125598  control  \n",
              "4  39.263804   7.646356  0.083583  0.194743  0.392638  0.076464  control  "
            ],
            "text/html": [
              "\n",
              "  <div id=\"df-8f0b1555-3b23-4855-b116-9bc7c5b58175\">\n",
              "    <div class=\"colab-df-container\">\n",
              "      <div>\n",
              "<style scoped>\n",
              "    .dataframe tbody tr th:only-of-type {\n",
              "        vertical-align: middle;\n",
              "    }\n",
              "\n",
              "    .dataframe tbody tr th {\n",
              "        vertical-align: top;\n",
              "    }\n",
              "\n",
              "    .dataframe thead th {\n",
              "        text-align: right;\n",
              "    }\n",
              "</style>\n",
              "<table border=\"1\" class=\"dataframe\">\n",
              "  <thead>\n",
              "    <tr style=\"text-align: right;\">\n",
              "      <th></th>\n",
              "      <th>Date</th>\n",
              "      <th>Pageviews</th>\n",
              "      <th>Clicks</th>\n",
              "      <th>Enrollments</th>\n",
              "      <th>Payments</th>\n",
              "      <th>CTR_pct</th>\n",
              "      <th>CAE_pct</th>\n",
              "      <th>EAP_pct</th>\n",
              "      <th>PAP_pct</th>\n",
              "      <th>CTR</th>\n",
              "      <th>CAE</th>\n",
              "      <th>EAP</th>\n",
              "      <th>PAP</th>\n",
              "      <th>bin</th>\n",
              "    </tr>\n",
              "  </thead>\n",
              "  <tbody>\n",
              "    <tr>\n",
              "      <th>0</th>\n",
              "      <td>Sat, Oct 11</td>\n",
              "      <td>7723</td>\n",
              "      <td>687</td>\n",
              "      <td>134.0</td>\n",
              "      <td>70.0</td>\n",
              "      <td>8.895507</td>\n",
              "      <td>19.505095</td>\n",
              "      <td>52.238806</td>\n",
              "      <td>10.189229</td>\n",
              "      <td>0.088955</td>\n",
              "      <td>0.195051</td>\n",
              "      <td>0.522388</td>\n",
              "      <td>0.101892</td>\n",
              "      <td>control</td>\n",
              "    </tr>\n",
              "    <tr>\n",
              "      <th>1</th>\n",
              "      <td>Sun, Oct 12</td>\n",
              "      <td>9102</td>\n",
              "      <td>779</td>\n",
              "      <td>147.0</td>\n",
              "      <td>70.0</td>\n",
              "      <td>8.558559</td>\n",
              "      <td>18.870347</td>\n",
              "      <td>47.619048</td>\n",
              "      <td>8.985879</td>\n",
              "      <td>0.085586</td>\n",
              "      <td>0.188703</td>\n",
              "      <td>0.476190</td>\n",
              "      <td>0.089859</td>\n",
              "      <td>control</td>\n",
              "    </tr>\n",
              "    <tr>\n",
              "      <th>2</th>\n",
              "      <td>Mon, Oct 13</td>\n",
              "      <td>10511</td>\n",
              "      <td>909</td>\n",
              "      <td>167.0</td>\n",
              "      <td>95.0</td>\n",
              "      <td>8.648083</td>\n",
              "      <td>18.371837</td>\n",
              "      <td>56.886228</td>\n",
              "      <td>10.451045</td>\n",
              "      <td>0.086481</td>\n",
              "      <td>0.183718</td>\n",
              "      <td>0.568862</td>\n",
              "      <td>0.104510</td>\n",
              "      <td>control</td>\n",
              "    </tr>\n",
              "    <tr>\n",
              "      <th>3</th>\n",
              "      <td>Tue, Oct 14</td>\n",
              "      <td>9871</td>\n",
              "      <td>836</td>\n",
              "      <td>156.0</td>\n",
              "      <td>105.0</td>\n",
              "      <td>8.469253</td>\n",
              "      <td>18.660287</td>\n",
              "      <td>67.307692</td>\n",
              "      <td>12.559809</td>\n",
              "      <td>0.084693</td>\n",
              "      <td>0.186603</td>\n",
              "      <td>0.673077</td>\n",
              "      <td>0.125598</td>\n",
              "      <td>control</td>\n",
              "    </tr>\n",
              "    <tr>\n",
              "      <th>4</th>\n",
              "      <td>Wed, Oct 15</td>\n",
              "      <td>10014</td>\n",
              "      <td>837</td>\n",
              "      <td>163.0</td>\n",
              "      <td>64.0</td>\n",
              "      <td>8.358298</td>\n",
              "      <td>19.474313</td>\n",
              "      <td>39.263804</td>\n",
              "      <td>7.646356</td>\n",
              "      <td>0.083583</td>\n",
              "      <td>0.194743</td>\n",
              "      <td>0.392638</td>\n",
              "      <td>0.076464</td>\n",
              "      <td>control</td>\n",
              "    </tr>\n",
              "  </tbody>\n",
              "</table>\n",
              "</div>\n",
              "      <button class=\"colab-df-convert\" onclick=\"convertToInteractive('df-8f0b1555-3b23-4855-b116-9bc7c5b58175')\"\n",
              "              title=\"Convert this dataframe to an interactive table.\"\n",
              "              style=\"display:none;\">\n",
              "        \n",
              "  <svg xmlns=\"http://www.w3.org/2000/svg\" height=\"24px\"viewBox=\"0 0 24 24\"\n",
              "       width=\"24px\">\n",
              "    <path d=\"M0 0h24v24H0V0z\" fill=\"none\"/>\n",
              "    <path d=\"M18.56 5.44l.94 2.06.94-2.06 2.06-.94-2.06-.94-.94-2.06-.94 2.06-2.06.94zm-11 1L8.5 8.5l.94-2.06 2.06-.94-2.06-.94L8.5 2.5l-.94 2.06-2.06.94zm10 10l.94 2.06.94-2.06 2.06-.94-2.06-.94-.94-2.06-.94 2.06-2.06.94z\"/><path d=\"M17.41 7.96l-1.37-1.37c-.4-.4-.92-.59-1.43-.59-.52 0-1.04.2-1.43.59L10.3 9.45l-7.72 7.72c-.78.78-.78 2.05 0 2.83L4 21.41c.39.39.9.59 1.41.59.51 0 1.02-.2 1.41-.59l7.78-7.78 2.81-2.81c.8-.78.8-2.07 0-2.86zM5.41 20L4 18.59l7.72-7.72 1.47 1.35L5.41 20z\"/>\n",
              "  </svg>\n",
              "      </button>\n",
              "      \n",
              "  <style>\n",
              "    .colab-df-container {\n",
              "      display:flex;\n",
              "      flex-wrap:wrap;\n",
              "      gap: 12px;\n",
              "    }\n",
              "\n",
              "    .colab-df-convert {\n",
              "      background-color: #E8F0FE;\n",
              "      border: none;\n",
              "      border-radius: 50%;\n",
              "      cursor: pointer;\n",
              "      display: none;\n",
              "      fill: #1967D2;\n",
              "      height: 32px;\n",
              "      padding: 0 0 0 0;\n",
              "      width: 32px;\n",
              "    }\n",
              "\n",
              "    .colab-df-convert:hover {\n",
              "      background-color: #E2EBFA;\n",
              "      box-shadow: 0px 1px 2px rgba(60, 64, 67, 0.3), 0px 1px 3px 1px rgba(60, 64, 67, 0.15);\n",
              "      fill: #174EA6;\n",
              "    }\n",
              "\n",
              "    [theme=dark] .colab-df-convert {\n",
              "      background-color: #3B4455;\n",
              "      fill: #D2E3FC;\n",
              "    }\n",
              "\n",
              "    [theme=dark] .colab-df-convert:hover {\n",
              "      background-color: #434B5C;\n",
              "      box-shadow: 0px 1px 3px 1px rgba(0, 0, 0, 0.15);\n",
              "      filter: drop-shadow(0px 1px 2px rgba(0, 0, 0, 0.3));\n",
              "      fill: #FFFFFF;\n",
              "    }\n",
              "  </style>\n",
              "\n",
              "      <script>\n",
              "        const buttonEl =\n",
              "          document.querySelector('#df-8f0b1555-3b23-4855-b116-9bc7c5b58175 button.colab-df-convert');\n",
              "        buttonEl.style.display =\n",
              "          google.colab.kernel.accessAllowed ? 'block' : 'none';\n",
              "\n",
              "        async function convertToInteractive(key) {\n",
              "          const element = document.querySelector('#df-8f0b1555-3b23-4855-b116-9bc7c5b58175');\n",
              "          const dataTable =\n",
              "            await google.colab.kernel.invokeFunction('convertToInteractive',\n",
              "                                                     [key], {});\n",
              "          if (!dataTable) return;\n",
              "\n",
              "          const docLinkHtml = 'Like what you see? Visit the ' +\n",
              "            '<a target=\"_blank\" href=https://colab.research.google.com/notebooks/data_table.ipynb>data table notebook</a>'\n",
              "            + ' to learn more about interactive tables.';\n",
              "          element.innerHTML = '';\n",
              "          dataTable['output_type'] = 'display_data';\n",
              "          await google.colab.output.renderOutput(dataTable, element);\n",
              "          const docLink = document.createElement('div');\n",
              "          docLink.innerHTML = docLinkHtml;\n",
              "          element.appendChild(docLink);\n",
              "        }\n",
              "      </script>\n",
              "    </div>\n",
              "  </div>\n",
              "  "
            ]
          },
          "metadata": {},
          "execution_count": 6
        }
      ]
    },
    {
      "cell_type": "markdown",
      "metadata": {
        "id": "PcRgsG3V6hYr"
      },
      "source": [
        "CTR has 37 rows for each of the groups (control and experiment) and other metrics (CAE, EAP, PAP) have 23 per group, because they are derrived from either Enrollments or Payments, which have 23 recorded rows."
      ]
    },
    {
      "cell_type": "code",
      "metadata": {
        "id": "dkgPFz6LM_xg",
        "colab": {
          "base_uri": "https://localhost:8080/"
        },
        "outputId": "f2814792-d658-40af-c064-fa1b0a3fb10a"
      },
      "source": [
        "df.info()"
      ],
      "execution_count": 7,
      "outputs": [
        {
          "output_type": "stream",
          "name": "stdout",
          "text": [
            "<class 'pandas.core.frame.DataFrame'>\n",
            "RangeIndex: 74 entries, 0 to 73\n",
            "Data columns (total 14 columns):\n",
            " #   Column       Non-Null Count  Dtype  \n",
            "---  ------       --------------  -----  \n",
            " 0   Date         74 non-null     object \n",
            " 1   Pageviews    74 non-null     int64  \n",
            " 2   Clicks       74 non-null     int64  \n",
            " 3   Enrollments  46 non-null     float64\n",
            " 4   Payments     46 non-null     float64\n",
            " 5   CTR_pct      74 non-null     float64\n",
            " 6   CAE_pct      46 non-null     float64\n",
            " 7   EAP_pct      46 non-null     float64\n",
            " 8   PAP_pct      46 non-null     float64\n",
            " 9   CTR          74 non-null     float64\n",
            " 10  CAE          46 non-null     float64\n",
            " 11  EAP          46 non-null     float64\n",
            " 12  PAP          46 non-null     float64\n",
            " 13  bin          74 non-null     object \n",
            "dtypes: float64(10), int64(2), object(2)\n",
            "memory usage: 8.2+ KB\n"
          ]
        }
      ]
    },
    {
      "cell_type": "markdown",
      "metadata": {
        "id": "OLRgsMc_ez7m"
      },
      "source": [
        "### Confidence interval 95 % for Click-through-rate (CTR)"
      ]
    },
    {
      "cell_type": "markdown",
      "metadata": {
        "id": "KuDnB2wmZ2OU"
      },
      "source": [
        "Let's look at the distribution of CTR in both groups."
      ]
    },
    {
      "cell_type": "code",
      "metadata": {
        "colab": {
          "base_uri": "https://localhost:8080/",
          "height": 334
        },
        "id": "HPtDmfCRUiub",
        "outputId": "a1725096-8ee3-4c32-c59c-2f5c79dd132b"
      },
      "source": [
        "plt.figure(figsize=(10,5))\n",
        "sns.set_style(\"darkgrid\")\n",
        "sns.distplot(control.CTR, kde=True, hist = False, color='b');\n",
        "sns.distplot(experiment.CTR, kde=True, hist = False, color='r');"
      ],
      "execution_count": 8,
      "outputs": [
        {
          "output_type": "display_data",
          "data": {
            "text/plain": [
              "<Figure size 720x360 with 1 Axes>"
            ],
            "image/png": "[encoded data removed]"
          },
          "metadata": {
            "needs_background": "light"
          }
        }
      ]
    },
    {
      "cell_type": "markdown",
      "metadata": {
        "id": "qv4n5iozUzHp"
      },
      "source": [
        "Distribution in both groups is close to a normal distribution."
      ]
    },
    {
      "cell_type": "code",
      "metadata": {
        "id": "GOUkEEJSNIc6",
        "colab": {
          "base_uri": "https://localhost:8080/"
        },
        "outputId": "84699f0a-a96a-4196-acf8-fe304adf2db4"
      },
      "source": [
        "mean1 = control[\"CTR_pct\"].mean()\n",
        "sem1 = control[\"CTR_pct\"].sem()\n",
        "std1 = control[\"CTR_pct\"].std()\n",
        "stdp1 = control[\"CTR\"].std()\n",
        "\n",
        "print(mean1, sem1, std1, stdp1)"
      ],
      "execution_count": 9,
      "outputs": [
        {
          "output_type": "stream",
          "name": "stdout",
          "text": [
            "8.21292746965395 0.05308026419838648 0.32287464216427536 0.003228746421642753\n"
          ]
        }
      ]
    },
    {
      "cell_type": "code",
      "metadata": {
        "id": "WqlDOrwnNIec",
        "colab": {
          "base_uri": "https://localhost:8080/"
        },
        "outputId": "1d997f35-9b71-4a3d-e311-d16f61b825ba"
      },
      "source": [
        "mean2 = experiment[\"CTR_pct\"].mean()\n",
        "sem2 = experiment[\"CTR_pct\"].sem()\n",
        "std2 = experiment[\"CTR_pct\"].std()\n",
        "stdp2 = experiment[\"CTR\"].std()\n",
        "\n",
        "print(mean2, sem2, std2, stdp2)"
      ],
      "execution_count": 10,
      "outputs": [
        {
          "output_type": "stream",
          "name": "stdout",
          "text": [
            "8.219052099356418 0.051226311299777914 0.31159748693968137 0.003115974869396814\n"
          ]
        }
      ]
    },
    {
      "cell_type": "code",
      "metadata": {
        "id": "qbJTAxzSNIi1",
        "colab": {
          "base_uri": "https://localhost:8080/"
        },
        "outputId": "08a55880-c17e-474f-e9fb-bfd3d1ba8537"
      },
      "source": [
        "#MOE = z * sd/√n ; sem = sd/√n\n",
        "MOE_control = 1.96 * sem1 #margin of error - MOE; z=1.96 (95% CI); sem - standard error of the mean\n",
        "MOE_exp = 1.96 * sem2\n",
        "print(MOE_control, MOE_exp)"
      ],
      "execution_count": 11,
      "outputs": [
        {
          "output_type": "stream",
          "name": "stdout",
          "text": [
            "0.1040373178288375 0.10040357014756471\n"
          ]
        }
      ]
    },
    {
      "cell_type": "markdown",
      "metadata": {
        "id": "nbC8vGsV8PHK"
      },
      "source": [
        "After calculating mean CTR_pct in %, we can see that it is very similar in both groups.\n",
        "Also calculated the margin of error using 1.96 (because that's the z score 95 % confidence interval).\n",
        "\n",
        "Visualizing CTR_pct mean rates and CI at 95% of both groups:"
      ]
    },
    {
      "cell_type": "code",
      "metadata": {
        "id": "2KPKw9GX_gLY",
        "colab": {
          "base_uri": "https://localhost:8080/",
          "height": 278
        },
        "outputId": "2dc9677c-517a-4136-cfc9-d3c5269858cf"
      },
      "source": [
        "ax = sns.pointplot(x=\"bin\", y=\"CTR_pct\", data=df, ci=95, capsize=.1)"
      ],
      "execution_count": 12,
      "outputs": [
        {
          "output_type": "display_data",
          "data": {
            "text/plain": [
              "<Figure size 432x288 with 1 Axes>"
            ],
            "image/png": "[encoded data removed]"
          },
          "metadata": {}
        }
      ]
    },
    {
      "cell_type": "markdown",
      "metadata": {
        "id": "GMf1c55zcFkq"
      },
      "source": [
        "Confidence intervals are calculated by subtracting or adding MOE to the mean."
      ]
    },
    {
      "cell_type": "code",
      "metadata": {
        "id": "FeK_9Y1YNPNR",
        "colab": {
          "base_uri": "https://localhost:8080/"
        },
        "outputId": "d5acc090-07de-492b-fa6c-83be940ead6a"
      },
      "source": [
        "conf_interval_control = (mean1 - MOE_control, \n",
        "                         mean1 + MOE_control)\n",
        "\n",
        "conf_interval_exp = (mean2 - MOE_exp,\n",
        "                    mean2 + MOE_exp)\n",
        "\n",
        "print('95% confidence interval for control group is:', conf_interval_control)\n",
        "print('95% confidence interval for experiment group is:', conf_interval_exp)"
      ],
      "execution_count": 13,
      "outputs": [
        {
          "output_type": "stream",
          "name": "stdout",
          "text": [
            "95% confidence interval for control group is: (8.108890151825113, 8.316964787482787)\n",
            "95% confidence interval for experiment group is: (8.118648529208853, 8.319455669503983)\n"
          ]
        }
      ]
    },
    {
      "cell_type": "markdown",
      "metadata": {
        "id": "QCwalcgkedWq"
      },
      "source": [
        "The mean rate of both groups is almost the same.\n",
        "\n",
        "Calculating a confidence interval from a sample let's you obtain a range for where the population parameter is likely to reside.\n",
        "\n",
        "For 95% confidence interval, an average of 19 out of 20 contain the population parameter, in this case - click-though rate."
      ]
    },
    {
      "cell_type": "markdown",
      "metadata": {
        "id": "kp9yl07xeM9u"
      },
      "source": [
        "We can also calculate confidence interval for difference between sample proportions.\n",
        "\n"
      ]
    },
    {
      "cell_type": "code",
      "metadata": {
        "id": "qgi2isMkVE7p"
      },
      "source": [
        "p_pool_c = control[\"Clicks\"].sum() / control[\"Pageviews\"].sum() #pooled proportion in control group CTR\n",
        "p_pool_e = experiment[\"Clicks\"].sum() / experiment[\"Pageviews\"].sum() #pooled proportion in experimental group CTR"
      ],
      "execution_count": 14,
      "outputs": []
    },
    {
      "cell_type": "code",
      "metadata": {
        "id": "iiz0oecd_YRt",
        "colab": {
          "base_uri": "https://localhost:8080/"
        },
        "outputId": "f035b5d4-ffe0-4c2e-e452-f8f821e8a301"
      },
      "source": [
        "p_pool_dif = p_pool_e - p_pool_c\n",
        "print(p_pool_dif)"
      ],
      "execution_count": 15,
      "outputs": [
        {
          "output_type": "stream",
          "name": "stdout",
          "text": [
            "5.662709158693602e-05\n"
          ]
        }
      ]
    },
    {
      "cell_type": "code",
      "metadata": {
        "id": "wVkHKgiiVwrE",
        "colab": {
          "base_uri": "https://localhost:8080/"
        },
        "outputId": "27ddf257-aeec-417c-b275-f1ea40d347d2"
      },
      "source": [
        "#pooled standart error for difference CI ; SEpooled = √p(1-p)*(1/n+1/n)\n",
        "xp = (1-p_pool_dif)\n",
        "xn = 1/37 + 1/37\n",
        "se_pool = math.sqrt(p_pool_dif * xp * xn)\n",
        "se_pool\n"
      ],
      "execution_count": 16,
      "outputs": [
        {
          "output_type": "execute_result",
          "data": {
            "text/plain": [
              "0.001749500082408631"
            ]
          },
          "metadata": {},
          "execution_count": 16
        }
      ]
    },
    {
      "cell_type": "code",
      "metadata": {
        "id": "dTNixKKeCy4t"
      },
      "source": [
        "stdp1 = control[\"CTR\"].std() #SD of CRT proportions in control group\n",
        "stdp2 = experiment[\"CTR\"].std() #SD of CRT proportions in experiment group"
      ],
      "execution_count": 17,
      "outputs": []
    },
    {
      "cell_type": "code",
      "metadata": {
        "id": "z6sXKGUr7TDG",
        "colab": {
          "base_uri": "https://localhost:8080/"
        },
        "outputId": "335e5712-cc3e-4c2c-cbd3-fc0344509fcf"
      },
      "source": [
        "var1 = stdp1**2 #var - sample variance\n",
        "var2 = stdp2**2\n",
        "var_dif = (var1/37)+(var2/37)\n",
        "std_dif = math.sqrt(var_dif)\n",
        "\n",
        "print(std_dif, var_dif)"
      ],
      "execution_count": 18,
      "outputs": [
        {
          "output_type": "stream",
          "name": "stdout",
          "text": [
            "0.0007376753633375771 5.441649416752263e-07\n"
          ]
        }
      ]
    },
    {
      "cell_type": "code",
      "metadata": {
        "id": "6OHk0G9vFLtB",
        "colab": {
          "base_uri": "https://localhost:8080/"
        },
        "outputId": "1b4b4e92-088f-4910-9073-6bd0b217614a"
      },
      "source": [
        "x = [var_dif]\n",
        "y = [1]\n",
        "\n",
        "n_root = math.sqrt(37)\n",
        "\n",
        "MOE_dife =1.96 * se_pool\n",
        "MOE_dife"
      ],
      "execution_count": 19,
      "outputs": [
        {
          "output_type": "execute_result",
          "data": {
            "text/plain": [
              "0.003429020161520917"
            ]
          },
          "metadata": {},
          "execution_count": 19
        }
      ]
    },
    {
      "cell_type": "code",
      "metadata": {
        "id": "lUvXMuZhmETy",
        "colab": {
          "base_uri": "https://localhost:8080/",
          "height": 324
        },
        "outputId": "dd32f17e-93de-426a-80cd-f055eb300fec"
      },
      "source": [
        "#error bar\n",
        "plt.figure(figsize=(8,5))\n",
        "sns.set_style(\"darkgrid\")\n",
        "plt.errorbar(x, y, xerr=MOE_dife, capsize=4, linestyle='None', marker ='s', \n",
        "             markersize=6, mfc='b', mec='b' )\n",
        "plt.yticks((0,1,2), ('', 'difference CI', '0'))\n",
        "plt.show()"
      ],
      "execution_count": 20,
      "outputs": [
        {
          "output_type": "display_data",
          "data": {
            "text/plain": [
              "<Figure size 576x360 with 1 Axes>"
            ],
            "image/png": "[encoded data removed]"
          },
          "metadata": {}
        }
      ]
    },
    {
      "cell_type": "markdown",
      "metadata": {
        "id": "3-i4T7wBDdcw"
      },
      "source": [
        "Since the difference confidence interval involves 0, \n",
        "it indicates that differences between groups are not significant."
      ]
    },
    {
      "cell_type": "markdown",
      "metadata": {
        "id": "r5izix7CeVNK"
      },
      "source": [
        "# Z test, 95% confidence level\n",
        "\n",
        "* click-through rate - CTR\n",
        "* clicked and enrolled - CAE\n",
        "* enrolled and paid - EAP\n",
        "* viewed the page and paid for course - PAP"
      ]
    },
    {
      "cell_type": "markdown",
      "metadata": {
        "id": "5LfqAS5xn4-4"
      },
      "source": [
        "## Calculating z-test for click-through rates (CTR)"
      ]
    },
    {
      "cell_type": "code",
      "metadata": {
        "id": "MEV77yDVNuli",
        "colab": {
          "base_uri": "https://localhost:8080/",
          "height": 334
        },
        "outputId": "ac5a9dbb-a317-49a0-f169-8753e2d18859"
      },
      "source": [
        "control_CTR = df[df['bin'] == 'control'].CTR\n",
        "exp_CTR = df[df['bin'] == 'experiment'].CTR\n",
        "\n",
        "plt.figure(figsize=(10,5))\n",
        "sns.set_style(\"darkgrid\")\n",
        "sns.distplot(control.CTR, kde=True, hist = False, color='b');\n",
        "sns.distplot(experiment.CTR, kde=True, hist = False, color='r');"
      ],
      "execution_count": 21,
      "outputs": [
        {
          "output_type": "display_data",
          "data": {
            "text/plain": [
              "<Figure size 720x360 with 1 Axes>"
            ],
            "image/png": "[encoded data removed]"
          },
          "metadata": {}
        }
      ]
    },
    {
      "cell_type": "code",
      "metadata": {
        "id": "sWqpoz1bhSgJ"
      },
      "source": [
        "ztest_CTR = sm.stats.ztest(control_CTR, exp_CTR) "
      ],
      "execution_count": 22,
      "outputs": []
    },
    {
      "cell_type": "markdown",
      "metadata": {
        "id": "lcabuswNoCXm"
      },
      "source": [
        "## Calculating z-test for clicked and enrolled rates (CAE), distribution"
      ]
    },
    {
      "cell_type": "code",
      "metadata": {
        "id": "MjH-TQBrN-aH",
        "colab": {
          "base_uri": "https://localhost:8080/",
          "height": 334
        },
        "outputId": "01f69125-026a-4ee6-96c5-c0f68ae180c2"
      },
      "source": [
        "control_CAE = df[df['bin'] == 'control'].dropna()['CAE'] #dropna, because Enrollments, Payments have NAN values\n",
        "exp_CAE = df[df['bin'] == 'experiment'].dropna()['CAE']\n",
        "\n",
        "plt.figure(figsize=(10,5))\n",
        "sns.set_style(\"darkgrid\")\n",
        "sns.distplot(control.CAE, kde=True, hist = False, color='b');\n",
        "sns.distplot(experiment.CAE, kde=True, hist = False, color='r');"
      ],
      "execution_count": 23,
      "outputs": [
        {
          "output_type": "display_data",
          "data": {
            "text/plain": [
              "<Figure size 720x360 with 1 Axes>"
            ],
            "image/png": "[encoded data removed]"
          },
          "metadata": {}
        }
      ]
    },
    {
      "cell_type": "code",
      "metadata": {
        "id": "uEjmr9hfhSjC"
      },
      "source": [
        "ztest_CAE = sm.stats.ztest(control_CAE, exp_CAE)"
      ],
      "execution_count": 24,
      "outputs": []
    },
    {
      "cell_type": "markdown",
      "metadata": {
        "id": "34KVjitYoLy3"
      },
      "source": [
        "## Calculating z-test for enrolled and paid rates (EAP), distribution"
      ]
    },
    {
      "cell_type": "code",
      "metadata": {
        "id": "jVNq6yOwPBUr",
        "colab": {
          "base_uri": "https://localhost:8080/",
          "height": 334
        },
        "outputId": "9602aea8-a0a9-4bae-d618-eccd124b1908"
      },
      "source": [
        "control_EAP = df[df['bin'] == 'control'].dropna()['EAP'] #dropna, because Enrollments, Payments have NAN values\n",
        "exp_EAP = df[df['bin'] == 'experiment'].dropna()['EAP']\n",
        "\n",
        "plt.figure(figsize=(10,5))\n",
        "sns.set_style(\"darkgrid\")\n",
        "sns.distplot(control.EAP, kde=True, hist = False, color='b');\n",
        "sns.distplot(experiment.EAP, kde=True, hist = False, color='r');"
      ],
      "execution_count": 25,
      "outputs": [
        {
          "output_type": "display_data",
          "data": {
            "text/plain": [
              "<Figure size 720x360 with 1 Axes>"
            ],
            "image/png": "[encoded data removed]"
          },
          "metadata": {}
        }
      ]
    },
    {
      "cell_type": "code",
      "metadata": {
        "id": "FR99g-vEhc3_"
      },
      "source": [
        "ztest_EAP = sm.stats.ztest(control_EAP, exp_EAP)"
      ],
      "execution_count": 26,
      "outputs": []
    },
    {
      "cell_type": "markdown",
      "metadata": {
        "id": "4jK3rXQlof-H"
      },
      "source": [
        "## Calculating z-test for viewed the page and paid for course rates (PAP), distribution"
      ]
    },
    {
      "cell_type": "code",
      "metadata": {
        "id": "EuFIoX_kPgJw",
        "colab": {
          "base_uri": "https://localhost:8080/",
          "height": 334
        },
        "outputId": "8215b368-cef2-4a00-ef03-6bfdc493317a"
      },
      "source": [
        "control_PAP = df[df['bin'] == 'control'].dropna()['PAP'] #dropna, because Enrollments, Payments have NAN values\n",
        "exp_PAP = df[df['bin'] == 'experiment'].dropna()['PAP']\n",
        "\n",
        "plt.figure(figsize=(10,5))\n",
        "sns.set_style(\"darkgrid\")\n",
        "sns.distplot(control.PAP, kde=True, hist = False, color='b');\n",
        "sns.distplot(experiment.PAP, kde=True, hist = False, color='r');"
      ],
      "execution_count": 27,
      "outputs": [
        {
          "output_type": "display_data",
          "data": {
            "text/plain": [
              "<Figure size 720x360 with 1 Axes>"
            ],
            "image/png": "[encoded data removed]"
          },
          "metadata": {}
        }
      ]
    },
    {
      "cell_type": "code",
      "metadata": {
        "id": "Usx-rV45SBLM"
      },
      "source": [
        "ztest_PAP = sm.stats.ztest(control_PAP, exp_PAP)"
      ],
      "execution_count": 28,
      "outputs": []
    },
    {
      "cell_type": "code",
      "metadata": {
        "id": "3ARnp2mTR7GV",
        "colab": {
          "base_uri": "https://localhost:8080/"
        },
        "outputId": "9a67104c-c7c5-436d-b849-c0031a6d4ab7"
      },
      "source": [
        "print('CTR test statistic and p-value:', ztest_CTR, '-------------',\n",
        "      'CAE test statistic and p-value:', ztest_EAP, '-------------',\n",
        "      'EAP test statistic and p-value:', ztest_EAP, '-------------',\n",
        "      'PAP test statistic and p-value:', ztest_PAP, sep='\\n')"
      ],
      "execution_count": 29,
      "outputs": [
        {
          "output_type": "stream",
          "name": "stdout",
          "text": [
            "CTR test statistic and p-value:\n",
            "(-0.08302608446561602, 0.9338307988101843)\n",
            "-------------\n",
            "CAE test statistic and p-value:\n",
            "(-1.0081408912731535, 0.3133868293614658)\n",
            "-------------\n",
            "EAP test statistic and p-value:\n",
            "(-1.0081408912731535, 0.3133868293614658)\n",
            "-------------\n",
            "PAP test statistic and p-value:\n",
            "(0.5387777625331603, 0.590040209403962)\n"
          ]
        }
      ]
    },
    {
      "cell_type": "markdown",
      "metadata": {
        "id": "-NHUG3VyLk_s"
      },
      "source": [
        "Null hypothesis proposes that there is no difference between certain characteristics of a population or data-generating process.\n",
        "The alternative hypothesis proposes that there is a difference.\n",
        "\n",
        "If the P-value is less than (or equal to) alpha, then the null hypothesis is rejected in favor of the alternative hypothesis. And, if the P-value is greater than alpha, then the null hypothesis is not rejected. \n",
        "\n",
        "In this case alpha = 0.05 and our p-values are greater, so null hypothesis is not rejected, but it does not prove the null hypothesis - the observed differences are explainable by chance alone."
      ]
    },
    {
      "cell_type": "markdown",
      "metadata": {
        "id": "CqYud3zHeKcL"
      },
      "source": [
        "### T-test, 95% confidence level"
      ]
    },
    {
      "cell_type": "code",
      "metadata": {
        "id": "A-buTDbXTnxT"
      },
      "source": [
        "ttest_CTR = sp.stats.ttest_ind(control.dropna()['CTR'], experiment.dropna()['CTR']) "
      ],
      "execution_count": 30,
      "outputs": []
    },
    {
      "cell_type": "code",
      "metadata": {
        "id": "DXgNWg3zP_-g"
      },
      "source": [
        "ttest_CAE = sp.stats.ttest_ind(control.dropna()['CAE'], experiment.dropna()['CAE'])"
      ],
      "execution_count": 31,
      "outputs": []
    },
    {
      "cell_type": "code",
      "metadata": {
        "id": "lGIgBhyIQAJ7"
      },
      "source": [
        "ttest_EAP = sp.stats.ttest_ind(control.dropna()['EAP'], experiment.dropna()['EAP'])"
      ],
      "execution_count": 32,
      "outputs": []
    },
    {
      "cell_type": "code",
      "metadata": {
        "id": "VvR68CDoQA1J"
      },
      "source": [
        "ttest_PAP = sp.stats.ttest_ind(control.dropna()['PAP'], experiment.dropna()['PAP'])"
      ],
      "execution_count": 33,
      "outputs": []
    },
    {
      "cell_type": "markdown",
      "metadata": {
        "id": "amH_R_jkF1V7"
      },
      "source": [
        "T test for mean based on normal distribution, two samples.\n"
      ]
    },
    {
      "cell_type": "code",
      "metadata": {
        "id": "9mAytQ1MQZ__",
        "colab": {
          "base_uri": "https://localhost:8080/"
        },
        "outputId": "e00cb337-a268-43a3-a7ff-596543d3aa99"
      },
      "source": [
        "print('CTR:', ttest_CTR, '-------------',\n",
        "      'CAE:', ttest_EAP, '-------------',\n",
        "      'EAP:', ttest_EAP, '-------------',\n",
        "      'PAP:', ttest_PAP, sep='\\n')"
      ],
      "execution_count": 34,
      "outputs": [
        {
          "output_type": "stream",
          "name": "stdout",
          "text": [
            "CTR:\n",
            "Ttest_indResult(statistic=-0.1578410553218371, pvalue=0.8753042062698937)\n",
            "-------------\n",
            "CAE:\n",
            "Ttest_indResult(statistic=-1.0081408912731535, pvalue=0.3188989662061842)\n",
            "-------------\n",
            "EAP:\n",
            "Ttest_indResult(statistic=-1.0081408912731535, pvalue=0.3188989662061842)\n",
            "-------------\n",
            "PAP:\n",
            "Ttest_indResult(statistic=0.5387777625331603, pvalue=0.5927558614268024)\n"
          ]
        }
      ]
    },
    {
      "cell_type": "markdown",
      "metadata": {
        "id": "Su-vIiZYfKDi"
      },
      "source": [
        "T-test and z-test results do not differ much. T-test is more suitable for small sample sizes and z test is better for larger sample sizes, but in this case both are appropriate for CTR calculation, because the sample is larger than 30. But for other metrics t test is better, because sample sizes are 23 (less than 30)."
      ]
    },
    {
      "cell_type": "markdown",
      "metadata": {
        "id": "ZjqNrBzyd6cT"
      },
      "source": [
        "### Clicked-and-enrolled differences between groups at different confidence levels - 60%, 90%, 95%, 99% - using t-test. "
      ]
    },
    {
      "cell_type": "code",
      "metadata": {
        "id": "6qhCOpaHywF4",
        "colab": {
          "base_uri": "https://localhost:8080/"
        },
        "outputId": "790491a0-f960-44de-dad5-bd4bf0864b07"
      },
      "source": [
        "p1 = control[\"Enrollments\"].sum() / control[\"Clicks\"].sum() #proportion in control group CAE\n",
        "p2 = experiment[\"Enrollments\"].sum() / experiment[\"Clicks\"].sum() # proportion in experimental group CAE\n",
        "p = df[\"Enrollments\"].sum()/df[\"Clicks\"].sum()\n",
        "print(p1, p2, p)"
      ],
      "execution_count": 35,
      "outputs": [
        {
          "output_type": "stream",
          "name": "stdout",
          "text": [
            "0.13337796884910846 0.12084730803177406 0.127118494612278\n"
          ]
        }
      ]
    },
    {
      "cell_type": "code",
      "metadata": {
        "colab": {
          "base_uri": "https://localhost:8080/"
        },
        "id": "pQvY6yBElFrY",
        "outputId": "d6cc60e1-687b-4572-fde6-7eb329b42899"
      },
      "source": [
        "# z formula: z =(p1-p2)/sqrt((p(1-p))(1/n1+1/n2))\n",
        "pp = (0.1271 * 0.8729) #(p(1-p)\n",
        "nn = 1/23 + 1/23 #(1/n1+1/n2)\n",
        "xx= math.sqrt(pp * nn) \n",
        "z =(p1-p2)/xx\n",
        "\n",
        "z"
      ],
      "execution_count": 36,
      "outputs": [
        {
          "output_type": "execute_result",
          "data": {
            "text/plain": [
              "0.12757567437334685"
            ]
          },
          "metadata": {},
          "execution_count": 36
        }
      ]
    },
    {
      "cell_type": "code",
      "metadata": {
        "colab": {
          "base_uri": "https://localhost:8080/"
        },
        "id": "iKtIWvTVlQod",
        "outputId": "49bde6db-62bd-4612-e981-184de5bdeaca"
      },
      "source": [
        "# z score from the table is 0.1020\n",
        "pvalue=0.10204*2\n",
        "pvalue"
      ],
      "execution_count": 37,
      "outputs": [
        {
          "output_type": "execute_result",
          "data": {
            "text/plain": [
              "0.20408"
            ]
          },
          "metadata": {},
          "execution_count": 37
        }
      ]
    },
    {
      "cell_type": "code",
      "metadata": {
        "id": "_tkoN7oqkmpP",
        "colab": {
          "base_uri": "https://localhost:8080/"
        },
        "outputId": "13b5115e-da53-4445-88f0-cca5ec874619"
      },
      "source": [
        "if pvalue < 0.4:\n",
        "    print(\"CAE rate differs significantly at 60 % confidence level\")"
      ],
      "execution_count": 38,
      "outputs": [
        {
          "output_type": "stream",
          "name": "stdout",
          "text": [
            "CAE rate differs significantly at 60 % confidence level\n"
          ]
        }
      ]
    },
    {
      "cell_type": "code",
      "metadata": {
        "id": "aH2NtiIgknND",
        "colab": {
          "base_uri": "https://localhost:8080/"
        },
        "outputId": "654c9016-89c9-4ea6-8146-b84f540a2507"
      },
      "source": [
        "if pvalue < 0.1:\n",
        "    print(\"CAE rate differs significantly at 90 % confidence level\")\n",
        "elif pvalue >= 0.1:\n",
        "    print(\"CAE rate DOES NOT differ significantly at 95 % confidence level\")"
      ],
      "execution_count": 39,
      "outputs": [
        {
          "output_type": "stream",
          "name": "stdout",
          "text": [
            "CAE rate DOES NOT differ significantly at 95 % confidence level\n"
          ]
        }
      ]
    },
    {
      "cell_type": "code",
      "metadata": {
        "id": "2Ov4CpHeknOy",
        "colab": {
          "base_uri": "https://localhost:8080/"
        },
        "outputId": "c4f2ba3d-8457-4ef1-f50f-e695c9401637"
      },
      "source": [
        "if pvalue < 0.05:\n",
        "    print(\"CAE rate differs significantly 95 % confidence level\")\n",
        "elif pvalue >= 0.05:\n",
        "    print(\"CAE rate DOES NOT differ significantly at 95 % confidence level\")"
      ],
      "execution_count": 40,
      "outputs": [
        {
          "output_type": "stream",
          "name": "stdout",
          "text": [
            "CAE rate DOES NOT differ significantly at 95 % confidence level\n"
          ]
        }
      ]
    },
    {
      "cell_type": "code",
      "metadata": {
        "id": "qMCOU5IGknSd",
        "colab": {
          "base_uri": "https://localhost:8080/"
        },
        "outputId": "0b9d3aec-45b9-4cef-ff43-6a7905768073"
      },
      "source": [
        "if pvalue < 0.01:\n",
        "    print(\"CAE rate differs significantly significant at 99 % confidence level\")\n",
        "elif pvalue >= 0.01:\n",
        "    print(\"CAE rate DOES NOT differ significantly at 99 % confidence level\")"
      ],
      "execution_count": 41,
      "outputs": [
        {
          "output_type": "stream",
          "name": "stdout",
          "text": [
            "CAE rate DOES NOT differ significantly at 99 % confidence level\n"
          ]
        }
      ]
    },
    {
      "cell_type": "code",
      "metadata": {
        "id": "kHDWR91-kg1T",
        "colab": {
          "base_uri": "https://localhost:8080/",
          "height": 374
        },
        "outputId": "313f31cc-411d-4c98-9a16-5b882afcafe5"
      },
      "source": [
        "plt.figure(figsize=(25,5))\n",
        "sns.set_style(\"darkgrid\")\n",
        "sns.lineplot(x=control.index, y=\"CAE\", data=control, color=\"blue\")\n",
        "sns.lineplot(x=experiment.index, y=\"CAE\", data=experiment, color=\"red\")\n",
        "plt.xticks(rotation=45);"
      ],
      "execution_count": 42,
      "outputs": [
        {
          "output_type": "display_data",
          "data": {
            "text/plain": [
              "<Figure size 1800x360 with 1 Axes>"
            ],
            "image/png": "[encoded data removed]"
          },
          "metadata": {}
        }
      ]
    },
    {
      "cell_type": "markdown",
      "metadata": {
        "id": "uVZUWO29dqH3"
      },
      "source": [
        "Overall, control group has higher CAE rate. It differs significantly between groups at 60%\n",
        "confidence levels, but the difference is not significant at  90%, 95% and 99% confidence levels.\n",
        "\n",
        "It is better to trust higher confidence level results, because they explain more of the data. In this case, probably whatever the changes were for the experimental group, it did not make a huge difference for CAE rates to Udacity courses (looking at 90%, 95% and 99% confidence intervals).\n",
        "\n",
        "For 95% confidence interval, an average of 19 out of 20 contain the population parameter (in this case - clicked-and-enrolled metric)."
      ]
    }
  ]
}