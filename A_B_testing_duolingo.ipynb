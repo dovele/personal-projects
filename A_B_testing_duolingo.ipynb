{
  "nbformat": 4,
  "nbformat_minor": 0,
  "metadata": {
    "colab": {
      "name": "A/B testing_duolingo.ipynb",
      "provenance": [],
      "authorship_tag": "ABX9TyO9BYuEAtjNdItzT2k0wLnj",
      "include_colab_link": true
    },
    "kernelspec": {
      "name": "python3",
      "display_name": "Python 3"
    },
    "language_info": {
      "name": "python"
    }
  },
  "cells": [
    {
      "cell_type": "markdown",
      "metadata": {
        "id": "view-in-github",
        "colab_type": "text"
      },
      "source": [
        "<a href=\"https://colab.research.google.com/github/dovele/personal-projects/blob/main/A_B_testing_duolingo.ipynb\" target=\"_parent\"><img src=\"https://colab.research.google.com/assets/colab-badge.svg\" alt=\"Open In Colab\"/></a>"
      ]
    },
    {
      "cell_type": "code",
      "metadata": {
        "id": "lPGxyXqa9vqi"
      },
      "source": [
        "https://dataverse.harvard.edu/dataset.xhtml?persistentId=doi:10.7910/DVN/23ZWVI"
      ],
      "execution_count": null,
      "outputs": []
    },
    {
      "cell_type": "markdown",
      "metadata": {
        "id": "kVXPlw59940P"
      },
      "source": [
        "Citation: Kevin Yancey; Burr Settles, 2020, \"Replication Data for: A Sleeping, Recovering Bandit Algorithm for Optimizing Recurring Notifications\", https://doi.org/10.7910/DVN/23ZWVI, Harvard Dataverse, V1\n",
        "\n",
        "Link: https://dataverse.harvard.edu/dataset.xhtml?persistentId=doi:10.7910/DVN/23ZWVI"
      ]
    },
    {
      "cell_type": "code",
      "metadata": {
        "colab": {
          "base_uri": "https://localhost:8080/",
          "height": 246
        },
        "id": "gE8A0MIA4_u1",
        "outputId": "a7ed1c25-1a32-472b-c267-8575d20a26ff"
      },
      "source": [
        "# Set the max registration date to be one month before today\n",
        "max_reg_date = current_date - timedelta(days=28)\n",
        "\n",
        "# Find the month 1 values\n",
        "month1 = np.where((purchase_data.reg_date < max_reg_date) &\n",
        "                 (purchase_data.date < purchase_data.reg_date + timedelta(days=28)),\n",
        "                  purchase_data.price, \n",
        "                  np.NaN)\n",
        "                 \n",
        "# Update the value in the DataFrame\n",
        "purchase_data['month1'] = month1\n",
        "\n",
        "# Group the data by gender and device \n",
        "purchase_data_upd = purchase_data.groupby(by=['gender', 'device'], as_index=False) \n",
        "\n",
        "# Aggregate the month1 and price data \n",
        "purchase_summary = purchase_data_upd.agg(\n",
        "                        {'month1': ['mean', 'median'],\n",
        "                        'price': ['mean', 'median']})\n",
        "\n",
        "# Examine the results \n",
        "print(purchase_summary)"
      ],
      "execution_count": 1,
      "outputs": [
        {
          "output_type": "error",
          "ename": "NameError",
          "evalue": "ignored",
          "traceback": [
            "\u001b[0;31m---------------------------------------------------------------------------\u001b[0m",
            "\u001b[0;31mNameError\u001b[0m                                 Traceback (most recent call last)",
            "\u001b[0;32m<ipython-input-1-c97f725d3638>\u001b[0m in \u001b[0;36m<module>\u001b[0;34m()\u001b[0m\n\u001b[1;32m      1\u001b[0m \u001b[0;31m# Set the max registration date to be one month before today\u001b[0m\u001b[0;34m\u001b[0m\u001b[0;34m\u001b[0m\u001b[0;34m\u001b[0m\u001b[0m\n\u001b[0;32m----> 2\u001b[0;31m \u001b[0mmax_reg_date\u001b[0m \u001b[0;34m=\u001b[0m \u001b[0mcurrent_date\u001b[0m \u001b[0;34m-\u001b[0m \u001b[0mtimedelta\u001b[0m\u001b[0;34m(\u001b[0m\u001b[0mdays\u001b[0m\u001b[0;34m=\u001b[0m\u001b[0;36m28\u001b[0m\u001b[0;34m)\u001b[0m\u001b[0;34m\u001b[0m\u001b[0;34m\u001b[0m\u001b[0m\n\u001b[0m\u001b[1;32m      3\u001b[0m \u001b[0;34m\u001b[0m\u001b[0m\n\u001b[1;32m      4\u001b[0m \u001b[0;31m# Find the month 1 values\u001b[0m\u001b[0;34m\u001b[0m\u001b[0;34m\u001b[0m\u001b[0;34m\u001b[0m\u001b[0m\n\u001b[1;32m      5\u001b[0m month1 = np.where((purchase_data.reg_date < max_reg_date) &\n",
            "\u001b[0;31mNameError\u001b[0m: name 'current_date' is not defined"
          ]
        }
      ]
    },
    {
      "cell_type": "code",
      "metadata": {
        "id": "LPwvDAlH5FgO"
      },
      "source": [
        ""
      ],
      "execution_count": null,
      "outputs": []
    },
    {
      "cell_type": "code",
      "metadata": {
        "id": "ncuwDybT5KOW"
      },
      "source": [
        ""
      ],
      "execution_count": null,
      "outputs": []
    }
  ]
}